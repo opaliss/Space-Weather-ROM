{
 "cells": [
  {
   "cell_type": "markdown",
   "id": "5561eda5",
   "metadata": {},
   "source": [
    "#### Last Modified: August 15th, 2022 (Opal).\n",
    "\n",
    "## sOpInf Applied to MAS Full Sun (3D) Solar Wind Radial Speed Dataset for CR2210\n"
   ]
  },
  {
   "cell_type": "code",
   "execution_count": 1,
   "id": "99f31b39",
   "metadata": {},
   "outputs": [
    {
     "name": "stdout",
     "output_type": "stream",
     "text": [
      "current directory path =  /Users/oissan/PycharmProjects/Space-Weather-ROM-Revised\n"
     ]
    }
   ],
   "source": [
    "import os\n",
    "curr_dir = os.getcwd()\n",
    "os.chdir(\"../\")\n",
    "print(\"current directory path = \", os.getcwd())"
   ]
  },
  {
   "cell_type": "code",
   "execution_count": 2,
   "id": "0b8c9498",
   "metadata": {},
   "outputs": [],
   "source": [
    "import numpy as np\n",
    "import scipy\n",
    "import scipy.linalg as la\n",
    "from scipy import signal\n",
    "from scipy import  stats\n",
    "from scipy.interpolate import interp1d, interp2d\n",
    "from scipy.integrate import solve_ivp\n",
    "from tools.MASweb import get_mas_path\n",
    "from psipy.model import MASOutput\n",
    "from psipy.model.variable import Variable\n",
    "import rom_operator_inference as roi\n",
    "from MHD.notebook_functions import regularizer\n",
    "from scipy.interpolate import RegularGridInterpolator\n",
    "import time\n",
    "import astropy.units as u\n",
    "import cv2"
   ]
  },
  {
   "cell_type": "code",
   "execution_count": 3,
   "id": "70ad9b83",
   "metadata": {},
   "outputs": [],
   "source": [
    "import matplotlib.pyplot as plt\n",
    "import matplotlib\n",
    "font = {'family' : 'serif',\n",
    "        'size'   : 13}\n",
    "\n",
    "matplotlib.rc('font', **font)\n",
    "matplotlib.rc('xtick', labelsize=13) \n",
    "matplotlib.rc('ytick', labelsize=13) "
   ]
  },
  {
   "cell_type": "markdown",
   "id": "2b29515d",
   "metadata": {},
   "source": [
    "### Import MHD solar wind velocity results."
   ]
  },
  {
   "cell_type": "code",
   "execution_count": 4,
   "id": "36316ab2",
   "metadata": {},
   "outputs": [],
   "source": [
    "# mas output - br, rho, vr\n",
    "cr = \"2210\"\n",
    "mas_path = get_mas_path(cr=cr)\n",
    "model = MASOutput(mas_path)\n",
    "# read in MHD velocity results. \n",
    "vr_model = model['vr']"
   ]
  },
  {
   "cell_type": "code",
   "execution_count": 5,
   "id": "88f864dc",
   "metadata": {},
   "outputs": [
    {
     "name": "stdout",
     "output_type": "stream",
     "text": [
      "(128, 111, 140)\n"
     ]
    }
   ],
   "source": [
    "# save MHD mesh coordinates Heliographic (rotating) Coordinate System (HG)\n",
    "# phi - (0, 2pi)\n",
    "p = vr_model.phi_coords\n",
    "# number of phi indexes \n",
    "# sin(theta) - (-pi/2, pi/2)\n",
    "t = vr_model.theta_coords\n",
    "# 30 solar radii to approximately 1 AU\n",
    "# 1 solar radii = 695,700 km\n",
    "r = (vr_model.r_coords * u.solRad).to(u.km)\n",
    "# velocity profile \n",
    "f = vr_model.data\n",
    "print(f.shape)"
   ]
  },
  {
   "cell_type": "code",
   "execution_count": 6,
   "id": "8f5ec45d",
   "metadata": {},
   "outputs": [],
   "source": [
    "omega_rot = (2 * np.pi) / (25.38 * 86400)"
   ]
  },
  {
   "cell_type": "code",
   "execution_count": 7,
   "id": "e5f3eba8",
   "metadata": {},
   "outputs": [],
   "source": [
    "# force periodicity on f\n",
    "# since the last phi index is less than 2*pi, then we will append 2*pi to phi scale.\n",
    "p = np.append(p, 2*np.pi) \n",
    "\n",
    "# append the first slice p=0 to velocity matrix. \n",
    "f = np.append(f,[f[0,:, :]],axis=0)\n",
    "\n",
    "# save radial velocity \n",
    "V = np.array(f)"
   ]
  },
  {
   "cell_type": "code",
   "execution_count": 8,
   "id": "84e7f5bb",
   "metadata": {},
   "outputs": [
    {
     "data": {
      "text/plain": [
       "(129, 111, 140)"
      ]
     },
     "execution_count": 8,
     "metadata": {},
     "output_type": "execute_result"
    }
   ],
   "source": [
    "V.shape"
   ]
  },
  {
   "cell_type": "markdown",
   "id": "84030e25",
   "metadata": {},
   "source": [
    "### Background:  Solar Wind\n",
    "\n",
    "Due to the high temperature of the Sun's upper atmosphere, called the corona, particles are able to escape the Sun's gravity, resulting in the Solar Wind. The solar wind is a stream of charged particles mostly consists of electrons, protons and alpha particles. The solar wind varies in density, temperature and speed over time and over solar latitude and longitude.\n",
    "\n",
    "Here we will model the radial velocity of the Solar Wind protons denoted by $v_{r}$. As the solar wind propagates out in the heliosphere it can reach velocities of around 300-700 km/sec. "
   ]
  },
  {
   "cell_type": "code",
   "execution_count": 9,
   "id": "070123af",
   "metadata": {},
   "outputs": [],
   "source": [
    "def periodic_corr_2d(x, y):\n",
    "    \"\"\"Periodic correlation, implemented using np.correlate.\n",
    "\n",
    "    x and y must be real sequences with the same length.\n",
    "    \"\"\"\n",
    "    return scipy.signal.correlate2d(x, np.concatenate((y[1:, :], y)), mode='valid')"
   ]
  },
  {
   "cell_type": "code",
   "execution_count": 10,
   "id": "3131acb7",
   "metadata": {},
   "outputs": [],
   "source": [
    "v1 = V[:, :, 0]\n",
    "\n",
    "shift_vec = [0]\n",
    "\n",
    "for ii in range(1, len(r)):\n",
    "    v2 = V[:, :, ii]\n",
    "    corr = periodic_corr_2d(v1, v2)\n",
    "    shift_vec.append(-p[np.argmax(corr)]*180/np.pi)"
   ]
  },
  {
   "cell_type": "code",
   "execution_count": 11,
   "id": "c8616215",
   "metadata": {},
   "outputs": [
    {
     "data": {
      "image/png": "[encoded data removed]",
      "text/plain": [
       "<Figure size 720x216 with 1 Axes>"
      ]
     },
     "metadata": {
      "needs_background": "light"
     },
     "output_type": "display_data"
    }
   ],
   "source": [
    "fig, ax = plt.subplots(figsize =(10, 3))\n",
    "ax.scatter(r.to(u.AU), shift_vec, s=4)\n",
    "\n",
    "n = int(len(r)*0.7)\n",
    "m, b = np.polyfit(r[:n].to(u.AU).value, shift_vec[:n], 1)\n",
    "_ = ax.plot(r.to(u.AU), m*r.to(u.AU).value + b, c=\"r\", label=\"linear-fit\")\n",
    "_ = ax.legend()\n",
    "_ = ax.set_xlabel(\"r (AU)\")\n",
    "_ = ax.set_ylabel(\"$c(r)$ (Deg.)\")\n",
    "_ = ax.set_title(\"Cross-Correlation Shifting \\n Linear-fit: c(r) = \" + str(round(m, 2)) + \"r + \" + str(round(b, 2)))"
   ]
  },
  {
   "cell_type": "code",
   "execution_count": 12,
   "id": "8a71833b",
   "metadata": {},
   "outputs": [],
   "source": [
    "def shift_function(r, m, b):\n",
    "    return m * r + b"
   ]
  },
  {
   "cell_type": "code",
   "execution_count": 13,
   "id": "5aeff410",
   "metadata": {},
   "outputs": [],
   "source": [
    "def interp_fun(p_shifted, p, t, v):\n",
    "    # interpolator. \n",
    "    my_interpolating_function = RegularGridInterpolator((p, t), v)\n",
    "    # create new mesh grid. \n",
    "    points = np.meshgrid(p_shifted, t)\n",
    "    # flatten the mesh grid points to align with input for RegularGridInterp function.\n",
    "    flat = np.array([m.flatten() for m in points])\n",
    "    # pass to the interp function.\n",
    "    out_array = my_interpolating_function(flat.T)\n",
    "    # reshape back to original grid. \n",
    "    return out_array.reshape(*points[0].shape)"
   ]
  },
  {
   "cell_type": "code",
   "execution_count": 14,
   "id": "36ce3a31",
   "metadata": {},
   "outputs": [],
   "source": [
    "# initialize the data matrix. \n",
    "V_new = np.zeros((len(p), len(t), len(r)))\n",
    "\n",
    "# initial conditon. \n",
    "V_new[:, :, 0] = V[:, :, 0]\n",
    "\n",
    "for jj in range(1, len(r)):\n",
    "    # compute shift from the linear fit above. \n",
    "    shift = shift_function(r[jj].to(u.AU).value, m=m, b=b)\n",
    "    # define the new shifted coordinate.\n",
    "    x_new = (p*180/np.pi + shift) % (360)\n",
    "    # interpolate over the shifted coordinate\n",
    "    V_new[:, :, jj] = interp_fun(p_shifted=x_new, p=p*180/np.pi, t=t, v=V[:, :, jj]).T"
   ]
  },
  {
   "cell_type": "markdown",
   "id": "c6a091bd",
   "metadata": {},
   "source": [
    "## Split Training and Testing datasets. \n",
    "\n",
    "* Training = First $l$ radial indexes.\n",
    "* Testing/Validation = Remaining $n_{r}-l$ radial indexes."
   ]
  },
  {
   "cell_type": "code",
   "execution_count": 15,
   "id": "95af2931",
   "metadata": {},
   "outputs": [],
   "source": [
    "# set up the first l indexes used for training. \n",
    "l = int(0.7*(len(r)))"
   ]
  },
  {
   "cell_type": "code",
   "execution_count": 16,
   "id": "3d2795fa",
   "metadata": {},
   "outputs": [],
   "source": [
    "X=V_new"
   ]
  },
  {
   "cell_type": "code",
   "execution_count": 17,
   "id": "ea007cc7",
   "metadata": {},
   "outputs": [],
   "source": [
    "X_train = V_new[:,:, :l]\n",
    "X_test = V_new[:,:, l:]"
   ]
  },
  {
   "cell_type": "code",
   "execution_count": 18,
   "id": "520bf1f8",
   "metadata": {},
   "outputs": [],
   "source": [
    "r_train = r[:l]\n",
    "r_test = r[l:]"
   ]
  },
  {
   "cell_type": "code",
   "execution_count": 19,
   "id": "a05b8108",
   "metadata": {},
   "outputs": [
    {
     "name": "stdout",
     "output_type": "stream",
     "text": [
      "X train shape (129, 111, 98)\n",
      "Radial distance train: 0.13951401782886472 AU to 0.816444039517221 AU\n",
      "\n",
      "X test shape (129, 111, 42)\n",
      "Radial distance test: 0.816444039517221 AU to 1.0996495197497314 AU\n"
     ]
    }
   ],
   "source": [
    "print(\"X train shape\", np.shape(X_train))\n",
    "print(\"Radial distance train: \" + str(r[0].to(u.AU)) + \" to \" + str(r[l].to(u.AU)))\n",
    "print(\"\\nX test shape\", np.shape(X_test))\n",
    "print(\"Radial distance test: \" + str(r[l].to(u.AU)) + \" to \" + str(r[-1].to(u.AU)))"
   ]
  },
  {
   "cell_type": "markdown",
   "id": "1aba1c68",
   "metadata": {},
   "source": [
    "## Using the ROM Operator Inference Package"
   ]
  },
  {
   "cell_type": "markdown",
   "id": "51fc1fec",
   "metadata": {},
   "source": [
    "## Linear ROM: $\\frac{d}{dr}\\hat{\\mathbf{v}}(r) = \\hat{A}\\hat{\\mathbf{v}}(r)$\n"
   ]
  },
  {
   "cell_type": "code",
   "execution_count": 20,
   "id": "c828b54b",
   "metadata": {},
   "outputs": [],
   "source": [
    "def flatten(X):\n",
    "    return X.reshape((len(p)*len(t), -1))\n",
    "    \n",
    "def undo_flatten(X):\n",
    "    return X.reshape(len(p), len(t), -1)\n",
    "\n",
    "def convert_from_x_to_v(X_ROM):\n",
    "    # intialize the returned matrix. \n",
    "    V_ROM = np.zeros(X_ROM.shape)\n",
    "    # initial condition\n",
    "    V_ROM[:,:, 0] = X_ROM[:,:, 0]\n",
    "    # iterate over all r slices. \n",
    "    for jj in range(1, len(r)):\n",
    "        # compute shift from the linear fit above. \n",
    "        shift = shift_function(r[jj].to(u.AU).value, m=m, b=b)\n",
    "        # define the new shifted coordinate.\n",
    "        x_new = (p*180/np.pi - shift) % (360)\n",
    "        # interpolate over the shifted coordinate\n",
    "        V_ROM[:, :, jj] = interp_fun(p_shifted=x_new, p=p*180/np.pi, t=t, v=X_ROM[:, :, jj]).T\n",
    "    return V_ROM"
   ]
  },
  {
   "cell_type": "markdown",
   "id": "dc80fbea",
   "metadata": {},
   "source": [
    "### Can we improve prediction by regularization? to avoid overfitting to the training dataset. Find the optimal regularization coefficient $\\lambda_{1}$ and rank $r$."
   ]
  },
  {
   "cell_type": "code",
   "execution_count": 21,
   "id": "b724b3f6",
   "metadata": {},
   "outputs": [],
   "source": [
    "coeff_array = 10**np.arange(0, 10)\n",
    "rank_array_A = np.arange(10, 60)\n",
    "\n",
    "training_error_A = np.ones((len(coeff_array), len(rank_array_A), 3)) * np.inf\n",
    "testing_error_A = np.ones((len(coeff_array), len(rank_array_A), 3)) * np.inf\n",
    "\n",
    "for kk, coeff in enumerate(coeff_array):\n",
    "    for jj, rank_r in enumerate(rank_array_A):\n",
    "        Vr, _ = roi.pre.pod_basis(flatten(X_train), r=rank_r) \n",
    "        Xdot = roi.pre.xdot_nonuniform(flatten(X_train), r_train.value) \n",
    "        model = roi.InferredContinuousROM(modelform=\"A\") \n",
    "        model.fit(Vr, flatten(X_train), Xdot, P=coeff) \n",
    "        X_ROM = model.predict(X[:, :, 0].reshape(len(p)*len(t)), r.value, method=\"BDF\") \n",
    "        X_ROM = undo_flatten(X_ROM)\n",
    "\n",
    "        if np.shape(flatten(X_ROM)) == np.shape(flatten(V)):\n",
    "            V_ROM = convert_from_x_to_v(X_ROM)\n",
    "            # save\n",
    "            training_error_A[kk, jj] = np.max(np.abs(V[:, :, :l]-V_ROM[:, :, :l])/V[:, :, :l])\n",
    "            training_error_A[kk, jj, 1] = roi.post.lp_error(np.ndarray.flatten(V[:, :, :l]), np.ndarray.flatten(V_ROM[:, :, :l]), 1)[1]\n",
    "            training_error_A[kk, jj, 2] = roi.post.lp_error(np.ndarray.flatten(V[:, :, :l]), np.ndarray.flatten(V_ROM[:, :, :l]), 2)[1]\n",
    "            # save\n",
    "            testing_error_A[kk, jj, 0] = np.max(np.abs(V[:, :, l:]-V_ROM[:, :, l:])/V[:, :, l:])\n",
    "            testing_error_A[kk, jj, 1] = roi.post.lp_error(np.ndarray.flatten(V[:, :, l:]), np.ndarray.flatten(V_ROM[:, :, l:]), 1)[1]\n",
    "            testing_error_A[kk, jj, 2] = roi.post.lp_error(np.ndarray.flatten(V[:, :, l:]), np.ndarray.flatten(V_ROM[:, :, l:]), 2)[1]"
   ]
  },
  {
   "cell_type": "code",
   "execution_count": 22,
   "id": "84bb769d",
   "metadata": {},
   "outputs": [
    {
     "name": "stdout",
     "output_type": "stream",
     "text": [
      "Training lambda = 1.0\n",
      "Testing rank = 26\n"
     ]
    }
   ],
   "source": [
    "idx  = np.unravel_index(training_error_A.argmin(), training_error_A.shape)\n",
    "print(\"Training lambda =\",  np.log10(coeff_array[idx[0]]))\n",
    "print(\"Testing rank =\",  rank_array_A[idx[1]])"
   ]
  },
  {
   "cell_type": "code",
   "execution_count": 23,
   "id": "66046572",
   "metadata": {},
   "outputs": [
    {
     "name": "stdout",
     "output_type": "stream",
     "text": [
      "Training lambda = 2.0\n",
      "Testing rank = 26\n"
     ]
    }
   ],
   "source": [
    "idx  = np.unravel_index(testing_error_A.argmin(), testing_error_A.shape)\n",
    "print(\"Training lambda =\",  np.log10(coeff_array[idx[0]]))\n",
    "print(\"Testing rank =\",  rank_array_A[idx[1]])"
   ]
  },
  {
   "cell_type": "markdown",
   "id": "4a6c23af",
   "metadata": {},
   "source": [
    "## Quadratic ROM: $\\frac{d}{dr}\\hat{\\mathbf{v}}(r) = \\hat{H} (\\hat{\\mathbf{v}}(r) \\otimes \\hat{\\mathbf{v}}(r))$"
   ]
  },
  {
   "cell_type": "markdown",
   "id": "3daa49df",
   "metadata": {},
   "source": [
    "### Can we improve prediction by regularization? to avoid overfitting to the training dataset. Find the optimal regularization coefficient $\\lambda_{1}$."
   ]
  },
  {
   "cell_type": "code",
   "execution_count": 24,
   "id": "a522c5aa",
   "metadata": {},
   "outputs": [
    {
     "name": "stderr",
     "output_type": "stream",
     "text": [
      "/opt/anaconda3/envs/hux-rom/lib/python3.9/site-packages/rom_operator_inference/_core/_base.py:604: IntegrationWarning: Required step size is less than spacing between numbers.\n",
      "  warnings.warn(self.sol_.message, IntegrationWarning)\n",
      "/opt/anaconda3/envs/hux-rom/lib/python3.9/site-packages/rom_operator_inference/lstsq/_tikhonov.py:185: LinAlgWarning: original least-squares system is underdetermined!\n",
      "  self._process_fit_arguments(A, B)\n"
     ]
    }
   ],
   "source": [
    "coeff_array = 10**np.arange(0, 10)\n",
    "rank_array_H = np.arange(2, 15)\n",
    "\n",
    "training_error_H = np.ones((len(coeff_array), len(rank_array_H), 3)) * np.inf\n",
    "testing_error_H = np.ones((len(coeff_array), len(rank_array_H), 3)) * np.inf\n",
    "\n",
    "for kk, coeff in enumerate(coeff_array):\n",
    "    for jj, rank_r in enumerate(rank_array_H):\n",
    "        Vr, _ = roi.pre.pod_basis(flatten(X_train), r=rank_r) \n",
    "        Xdot = roi.pre.xdot_nonuniform(flatten(X_train), r_train.value) \n",
    "        model = roi.InferredContinuousROM(modelform=\"H\") \n",
    "        model.fit(Vr, flatten(X_train), Xdot, P=coeff) \n",
    "        X_ROM = model.predict(X[:, :, 0].reshape(len(p)*len(t)), r.value, method=\"BDF\") \n",
    "        X_ROM = undo_flatten(X_ROM)\n",
    "\n",
    "        if np.shape(X_ROM) == np.shape(V):\n",
    "            V_ROM = convert_from_x_to_v(X_ROM)\n",
    "            # save\n",
    "            training_error_H[kk, jj, 0] = np.max(np.abs(V[:, :, :l]-V_ROM[:, :, :l])/V[:, :, :l])\n",
    "            training_error_H[kk, jj, 1] = roi.post.lp_error(np.ndarray.flatten(V[:, :, :l]), np.ndarray.flatten(V_ROM[:, :, :l]), 1)[1]\n",
    "            training_error_H[kk, jj, 2] = roi.post.lp_error(np.ndarray.flatten(V[:, :, :l]), np.ndarray.flatten(V_ROM[:, :, :l]), 2)[1]\n",
    "            # save\n",
    "            testing_error_H[kk, jj, 0] = np.max(np.abs(V[:, :, l:]-V_ROM[:, :, l:])/V[:, :, l:])\n",
    "            testing_error_H[kk, jj, 1] = roi.post.lp_error(np.ndarray.flatten(V[:, :, l:]), np.ndarray.flatten(V_ROM[:, :, l:]), 1)[1]\n",
    "            testing_error_H[kk, jj, 2] = roi.post.lp_error(np.ndarray.flatten(V[:, :, l:]), np.ndarray.flatten(V_ROM[:, :, l:]), 2)[1]"
   ]
  },
  {
   "cell_type": "code",
   "execution_count": 25,
   "id": "8a79df9f",
   "metadata": {},
   "outputs": [
    {
     "name": "stdout",
     "output_type": "stream",
     "text": [
      "Training lambda = 5.0\n",
      "Testing rank = 13\n"
     ]
    }
   ],
   "source": [
    "idx  = np.unravel_index(training_error_H.argmin(), training_error_H.shape)\n",
    "print(\"Training lambda =\",  np.log10(coeff_array[idx[0]]))\n",
    "print(\"Testing rank =\",  rank_array_H[idx[1]])"
   ]
  },
  {
   "cell_type": "code",
   "execution_count": 26,
   "id": "a2b18466",
   "metadata": {},
   "outputs": [
    {
     "name": "stdout",
     "output_type": "stream",
     "text": [
      "Testing lambda = 5.0\n",
      "Testing rank = 5\n"
     ]
    }
   ],
   "source": [
    "idx  = np.unravel_index(testing_error_H.argmin(), testing_error_H.shape)\n",
    "print(\"Testing lambda =\",  np.log10(coeff_array[idx[0]]))\n",
    "print(\"Testing rank =\",  rank_array_H[idx[1]])"
   ]
  },
  {
   "cell_type": "code",
   "execution_count": 27,
   "id": "c7e2389c",
   "metadata": {},
   "outputs": [],
   "source": [
    "def d_A(r):\n",
    "    return r*r\n",
    "\n",
    "def d_H(r):\n",
    "    return r*(r*(r+1)/2)\n",
    "\n",
    "def d_cAH(r):\n",
    "    return r*(r + r*(r+1)/2 + 1)"
   ]
  },
  {
   "cell_type": "markdown",
   "id": "71a847bc",
   "metadata": {},
   "source": [
    "## Quadratic + Linear ROM: $\\frac{d}{dr}\\hat{\\mathbf{v}}(r) = \\hat{c} + \\hat{A}\\hat{\\mathbf{v}}(r) +\\hat{H} (\\hat{\\mathbf{v}}(r) \\otimes \\hat{\\mathbf{v}}(r))$"
   ]
  },
  {
   "cell_type": "code",
   "execution_count": 28,
   "id": "5e2109c5",
   "metadata": {},
   "outputs": [
    {
     "name": "stdout",
     "output_type": "stream",
     "text": [
      "normal equations solve failed, switching lstsq solver\n",
      "normal equations solve failed, switching lstsq solver\n",
      "normal equations solve failed, switching lstsq solver\n",
      "normal equations solve failed, switching lstsq solver\n",
      "normal equations solve failed, switching lstsq solver\n"
     ]
    },
    {
     "name": "stderr",
     "output_type": "stream",
     "text": [
      "/opt/anaconda3/envs/hux-rom/lib/python3.9/site-packages/rom_operator_inference/_core/_base.py:604: IntegrationWarning: Required step size is less than spacing between numbers.\n",
      "  warnings.warn(self.sol_.message, IntegrationWarning)\n",
      "/opt/anaconda3/envs/hux-rom/lib/python3.9/site-packages/rom_operator_inference/_core/_base.py:604: IntegrationWarning: Required step size is less than spacing between numbers.\n",
      "  warnings.warn(self.sol_.message, IntegrationWarning)\n"
     ]
    },
    {
     "name": "stdout",
     "output_type": "stream",
     "text": [
      "normal equations solve failed, switching lstsq solver\n",
      "normal equations solve failed, switching lstsq solver\n"
     ]
    },
    {
     "name": "stderr",
     "output_type": "stream",
     "text": [
      "/opt/anaconda3/envs/hux-rom/lib/python3.9/site-packages/rom_operator_inference/_core/_base.py:604: IntegrationWarning: Required step size is less than spacing between numbers.\n",
      "  warnings.warn(self.sol_.message, IntegrationWarning)\n",
      "/opt/anaconda3/envs/hux-rom/lib/python3.9/site-packages/rom_operator_inference/_core/_base.py:604: IntegrationWarning: Required step size is less than spacing between numbers.\n",
      "  warnings.warn(self.sol_.message, IntegrationWarning)\n"
     ]
    },
    {
     "name": "stdout",
     "output_type": "stream",
     "text": [
      "normal equations solve failed, switching lstsq solver\n",
      "normal equations solve failed, switching lstsq solver\n"
     ]
    },
    {
     "name": "stderr",
     "output_type": "stream",
     "text": [
      "/opt/anaconda3/envs/hux-rom/lib/python3.9/site-packages/rom_operator_inference/_core/_base.py:604: IntegrationWarning: Required step size is less than spacing between numbers.\n",
      "  warnings.warn(self.sol_.message, IntegrationWarning)\n",
      "/opt/anaconda3/envs/hux-rom/lib/python3.9/site-packages/rom_operator_inference/_core/_base.py:604: IntegrationWarning: Required step size is less than spacing between numbers.\n",
      "  warnings.warn(self.sol_.message, IntegrationWarning)\n"
     ]
    },
    {
     "name": "stdout",
     "output_type": "stream",
     "text": [
      "normal equations solve failed, switching lstsq solver\n",
      "normal equations solve failed, switching lstsq solver\n"
     ]
    },
    {
     "name": "stderr",
     "output_type": "stream",
     "text": [
      "/opt/anaconda3/envs/hux-rom/lib/python3.9/site-packages/rom_operator_inference/_core/_base.py:604: IntegrationWarning: Required step size is less than spacing between numbers.\n",
      "  warnings.warn(self.sol_.message, IntegrationWarning)\n",
      "/opt/anaconda3/envs/hux-rom/lib/python3.9/site-packages/rom_operator_inference/_core/_base.py:604: IntegrationWarning: Required step size is less than spacing between numbers.\n",
      "  warnings.warn(self.sol_.message, IntegrationWarning)\n",
      "/opt/anaconda3/envs/hux-rom/lib/python3.9/site-packages/rom_operator_inference/lstsq/_tikhonov.py:398: LinAlgWarning: original least-squares system is underdetermined!\n",
      "  self._process_fit_arguments(A, B)\n"
     ]
    },
    {
     "name": "stdout",
     "output_type": "stream",
     "text": [
      "normal equations solve failed, switching lstsq solver\n",
      "normal equations solve failed, switching lstsq solver\n"
     ]
    },
    {
     "name": "stderr",
     "output_type": "stream",
     "text": [
      "/opt/anaconda3/envs/hux-rom/lib/python3.9/site-packages/rom_operator_inference/_core/_base.py:604: IntegrationWarning: Required step size is less than spacing between numbers.\n",
      "  warnings.warn(self.sol_.message, IntegrationWarning)\n",
      "/opt/anaconda3/envs/hux-rom/lib/python3.9/site-packages/rom_operator_inference/lstsq/_tikhonov.py:398: LinAlgWarning: original least-squares system is underdetermined!\n",
      "  self._process_fit_arguments(A, B)\n",
      "/opt/anaconda3/envs/hux-rom/lib/python3.9/site-packages/rom_operator_inference/_core/_base.py:604: IntegrationWarning: Required step size is less than spacing between numbers.\n",
      "  warnings.warn(self.sol_.message, IntegrationWarning)\n"
     ]
    },
    {
     "name": "stdout",
     "output_type": "stream",
     "text": [
      "normal equations solve failed, switching lstsq solver\n",
      "normal equations solve failed, switching lstsq solver\n",
      "normal equations solve failed, switching lstsq solver\n",
      "normal equations solve failed, switching lstsq solver\n",
      "normal equations solve failed, switching lstsq solver\n"
     ]
    },
    {
     "name": "stderr",
     "output_type": "stream",
     "text": [
      "/opt/anaconda3/envs/hux-rom/lib/python3.9/site-packages/rom_operator_inference/_core/_base.py:604: IntegrationWarning: Required step size is less than spacing between numbers.\n",
      "  warnings.warn(self.sol_.message, IntegrationWarning)\n",
      "/opt/anaconda3/envs/hux-rom/lib/python3.9/site-packages/rom_operator_inference/_core/_base.py:604: IntegrationWarning: Required step size is less than spacing between numbers.\n",
      "  warnings.warn(self.sol_.message, IntegrationWarning)\n"
     ]
    },
    {
     "name": "stdout",
     "output_type": "stream",
     "text": [
      "normal equations solve failed, switching lstsq solver\n",
      "normal equations solve failed, switching lstsq solver\n"
     ]
    },
    {
     "name": "stderr",
     "output_type": "stream",
     "text": [
      "/opt/anaconda3/envs/hux-rom/lib/python3.9/site-packages/rom_operator_inference/_core/_base.py:604: IntegrationWarning: Required step size is less than spacing between numbers.\n",
      "  warnings.warn(self.sol_.message, IntegrationWarning)\n",
      "/opt/anaconda3/envs/hux-rom/lib/python3.9/site-packages/rom_operator_inference/_core/_base.py:604: IntegrationWarning: Required step size is less than spacing between numbers.\n",
      "  warnings.warn(self.sol_.message, IntegrationWarning)\n"
     ]
    },
    {
     "name": "stdout",
     "output_type": "stream",
     "text": [
      "normal equations solve failed, switching lstsq solver\n",
      "normal equations solve failed, switching lstsq solver\n"
     ]
    },
    {
     "name": "stderr",
     "output_type": "stream",
     "text": [
      "/opt/anaconda3/envs/hux-rom/lib/python3.9/site-packages/rom_operator_inference/_core/_base.py:604: IntegrationWarning: Required step size is less than spacing between numbers.\n",
      "  warnings.warn(self.sol_.message, IntegrationWarning)\n",
      "/opt/anaconda3/envs/hux-rom/lib/python3.9/site-packages/rom_operator_inference/_core/_base.py:604: IntegrationWarning: Required step size is less than spacing between numbers.\n",
      "  warnings.warn(self.sol_.message, IntegrationWarning)\n"
     ]
    },
    {
     "name": "stdout",
     "output_type": "stream",
     "text": [
      "normal equations solve failed, switching lstsq solver\n",
      "normal equations solve failed, switching lstsq solver\n"
     ]
    },
    {
     "name": "stderr",
     "output_type": "stream",
     "text": [
      "/opt/anaconda3/envs/hux-rom/lib/python3.9/site-packages/rom_operator_inference/_core/_base.py:604: IntegrationWarning: Required step size is less than spacing between numbers.\n",
      "  warnings.warn(self.sol_.message, IntegrationWarning)\n",
      "/opt/anaconda3/envs/hux-rom/lib/python3.9/site-packages/rom_operator_inference/_core/_base.py:604: IntegrationWarning: Required step size is less than spacing between numbers.\n",
      "  warnings.warn(self.sol_.message, IntegrationWarning)\n",
      "/opt/anaconda3/envs/hux-rom/lib/python3.9/site-packages/rom_operator_inference/lstsq/_tikhonov.py:398: LinAlgWarning: original least-squares system is underdetermined!\n",
      "  self._process_fit_arguments(A, B)\n"
     ]
    },
    {
     "name": "stdout",
     "output_type": "stream",
     "text": [
      "normal equations solve failed, switching lstsq solver\n",
      "normal equations solve failed, switching lstsq solver\n"
     ]
    },
    {
     "name": "stderr",
     "output_type": "stream",
     "text": [
      "/opt/anaconda3/envs/hux-rom/lib/python3.9/site-packages/rom_operator_inference/_core/_base.py:604: IntegrationWarning: Required step size is less than spacing between numbers.\n",
      "  warnings.warn(self.sol_.message, IntegrationWarning)\n",
      "/opt/anaconda3/envs/hux-rom/lib/python3.9/site-packages/rom_operator_inference/lstsq/_tikhonov.py:398: LinAlgWarning: original least-squares system is underdetermined!\n",
      "  self._process_fit_arguments(A, B)\n",
      "/opt/anaconda3/envs/hux-rom/lib/python3.9/site-packages/rom_operator_inference/_core/_base.py:604: IntegrationWarning: Required step size is less than spacing between numbers.\n",
      "  warnings.warn(self.sol_.message, IntegrationWarning)\n"
     ]
    },
    {
     "name": "stdout",
     "output_type": "stream",
     "text": [
      "normal equations solve failed, switching lstsq solver\n",
      "normal equations solve failed, switching lstsq solver\n",
      "normal equations solve failed, switching lstsq solver\n",
      "normal equations solve failed, switching lstsq solver\n",
      "normal equations solve failed, switching lstsq solver\n"
     ]
    },
    {
     "name": "stderr",
     "output_type": "stream",
     "text": [
      "/opt/anaconda3/envs/hux-rom/lib/python3.9/site-packages/rom_operator_inference/_core/_base.py:604: IntegrationWarning: Required step size is less than spacing between numbers.\n",
      "  warnings.warn(self.sol_.message, IntegrationWarning)\n",
      "/opt/anaconda3/envs/hux-rom/lib/python3.9/site-packages/rom_operator_inference/_core/_base.py:604: IntegrationWarning: Required step size is less than spacing between numbers.\n",
      "  warnings.warn(self.sol_.message, IntegrationWarning)\n"
     ]
    },
    {
     "name": "stdout",
     "output_type": "stream",
     "text": [
      "normal equations solve failed, switching lstsq solver\n",
      "normal equations solve failed, switching lstsq solver\n"
     ]
    },
    {
     "name": "stderr",
     "output_type": "stream",
     "text": [
      "/opt/anaconda3/envs/hux-rom/lib/python3.9/site-packages/rom_operator_inference/_core/_base.py:604: IntegrationWarning: Required step size is less than spacing between numbers.\n",
      "  warnings.warn(self.sol_.message, IntegrationWarning)\n",
      "/opt/anaconda3/envs/hux-rom/lib/python3.9/site-packages/rom_operator_inference/_core/_base.py:604: IntegrationWarning: Required step size is less than spacing between numbers.\n",
      "  warnings.warn(self.sol_.message, IntegrationWarning)\n"
     ]
    },
    {
     "name": "stdout",
     "output_type": "stream",
     "text": [
      "normal equations solve failed, switching lstsq solver\n",
      "normal equations solve failed, switching lstsq solver\n"
     ]
    },
    {
     "name": "stderr",
     "output_type": "stream",
     "text": [
      "/opt/anaconda3/envs/hux-rom/lib/python3.9/site-packages/rom_operator_inference/_core/_base.py:604: IntegrationWarning: Required step size is less than spacing between numbers.\n",
      "  warnings.warn(self.sol_.message, IntegrationWarning)\n",
      "/opt/anaconda3/envs/hux-rom/lib/python3.9/site-packages/rom_operator_inference/_core/_base.py:604: IntegrationWarning: Required step size is less than spacing between numbers.\n",
      "  warnings.warn(self.sol_.message, IntegrationWarning)\n"
     ]
    },
    {
     "name": "stdout",
     "output_type": "stream",
     "text": [
      "normal equations solve failed, switching lstsq solver\n",
      "normal equations solve failed, switching lstsq solver\n"
     ]
    },
    {
     "name": "stderr",
     "output_type": "stream",
     "text": [
      "/opt/anaconda3/envs/hux-rom/lib/python3.9/site-packages/rom_operator_inference/_core/_base.py:604: IntegrationWarning: Required step size is less than spacing between numbers.\n",
      "  warnings.warn(self.sol_.message, IntegrationWarning)\n",
      "/opt/anaconda3/envs/hux-rom/lib/python3.9/site-packages/rom_operator_inference/_core/_base.py:604: IntegrationWarning: Required step size is less than spacing between numbers.\n",
      "  warnings.warn(self.sol_.message, IntegrationWarning)\n",
      "/opt/anaconda3/envs/hux-rom/lib/python3.9/site-packages/rom_operator_inference/lstsq/_tikhonov.py:398: LinAlgWarning: original least-squares system is underdetermined!\n",
      "  self._process_fit_arguments(A, B)\n"
     ]
    },
    {
     "name": "stdout",
     "output_type": "stream",
     "text": [
      "normal equations solve failed, switching lstsq solver\n",
      "normal equations solve failed, switching lstsq solver\n"
     ]
    },
    {
     "name": "stderr",
     "output_type": "stream",
     "text": [
      "/opt/anaconda3/envs/hux-rom/lib/python3.9/site-packages/rom_operator_inference/_core/_base.py:604: IntegrationWarning: Required step size is less than spacing between numbers.\n",
      "  warnings.warn(self.sol_.message, IntegrationWarning)\n",
      "/opt/anaconda3/envs/hux-rom/lib/python3.9/site-packages/rom_operator_inference/lstsq/_tikhonov.py:398: LinAlgWarning: original least-squares system is underdetermined!\n",
      "  self._process_fit_arguments(A, B)\n",
      "/opt/anaconda3/envs/hux-rom/lib/python3.9/site-packages/rom_operator_inference/_core/_base.py:604: IntegrationWarning: Required step size is less than spacing between numbers.\n",
      "  warnings.warn(self.sol_.message, IntegrationWarning)\n"
     ]
    },
    {
     "name": "stdout",
     "output_type": "stream",
     "text": [
      "normal equations solve failed, switching lstsq solver\n",
      "normal equations solve failed, switching lstsq solver\n",
      "normal equations solve failed, switching lstsq solver\n",
      "normal equations solve failed, switching lstsq solver\n",
      "normal equations solve failed, switching lstsq solver\n"
     ]
    },
    {
     "name": "stderr",
     "output_type": "stream",
     "text": [
      "/opt/anaconda3/envs/hux-rom/lib/python3.9/site-packages/rom_operator_inference/_core/_base.py:604: IntegrationWarning: Required step size is less than spacing between numbers.\n",
      "  warnings.warn(self.sol_.message, IntegrationWarning)\n",
      "/opt/anaconda3/envs/hux-rom/lib/python3.9/site-packages/rom_operator_inference/_core/_base.py:604: IntegrationWarning: Required step size is less than spacing between numbers.\n",
      "  warnings.warn(self.sol_.message, IntegrationWarning)\n"
     ]
    },
    {
     "name": "stdout",
     "output_type": "stream",
     "text": [
      "normal equations solve failed, switching lstsq solver\n",
      "normal equations solve failed, switching lstsq solver\n",
      "normal equations solve failed, switching lstsq solver\n"
     ]
    },
    {
     "name": "stderr",
     "output_type": "stream",
     "text": [
      "/opt/anaconda3/envs/hux-rom/lib/python3.9/site-packages/rom_operator_inference/_core/_base.py:604: IntegrationWarning: Required step size is less than spacing between numbers.\n",
      "  warnings.warn(self.sol_.message, IntegrationWarning)\n",
      "/opt/anaconda3/envs/hux-rom/lib/python3.9/site-packages/rom_operator_inference/_core/_base.py:604: IntegrationWarning: Required step size is less than spacing between numbers.\n",
      "  warnings.warn(self.sol_.message, IntegrationWarning)\n",
      "/opt/anaconda3/envs/hux-rom/lib/python3.9/site-packages/rom_operator_inference/_core/_base.py:604: IntegrationWarning: Required step size is less than spacing between numbers.\n",
      "  warnings.warn(self.sol_.message, IntegrationWarning)\n",
      "/opt/anaconda3/envs/hux-rom/lib/python3.9/site-packages/rom_operator_inference/_core/_base.py:604: IntegrationWarning: Required step size is less than spacing between numbers.\n",
      "  warnings.warn(self.sol_.message, IntegrationWarning)\n"
     ]
    },
    {
     "name": "stdout",
     "output_type": "stream",
     "text": [
      "normal equations solve failed, switching lstsq solver\n",
      "normal equations solve failed, switching lstsq solver\n"
     ]
    },
    {
     "name": "stderr",
     "output_type": "stream",
     "text": [
      "/opt/anaconda3/envs/hux-rom/lib/python3.9/site-packages/rom_operator_inference/_core/_base.py:604: IntegrationWarning: Required step size is less than spacing between numbers.\n",
      "  warnings.warn(self.sol_.message, IntegrationWarning)\n",
      "/opt/anaconda3/envs/hux-rom/lib/python3.9/site-packages/rom_operator_inference/_core/_base.py:604: IntegrationWarning: Required step size is less than spacing between numbers.\n",
      "  warnings.warn(self.sol_.message, IntegrationWarning)\n",
      "/opt/anaconda3/envs/hux-rom/lib/python3.9/site-packages/rom_operator_inference/lstsq/_tikhonov.py:398: LinAlgWarning: original least-squares system is underdetermined!\n",
      "  self._process_fit_arguments(A, B)\n"
     ]
    },
    {
     "name": "stdout",
     "output_type": "stream",
     "text": [
      "normal equations solve failed, switching lstsq solver\n",
      "normal equations solve failed, switching lstsq solver\n"
     ]
    },
    {
     "name": "stderr",
     "output_type": "stream",
     "text": [
      "/opt/anaconda3/envs/hux-rom/lib/python3.9/site-packages/rom_operator_inference/_core/_base.py:604: IntegrationWarning: Required step size is less than spacing between numbers.\n",
      "  warnings.warn(self.sol_.message, IntegrationWarning)\n",
      "/opt/anaconda3/envs/hux-rom/lib/python3.9/site-packages/rom_operator_inference/lstsq/_tikhonov.py:398: LinAlgWarning: original least-squares system is underdetermined!\n",
      "  self._process_fit_arguments(A, B)\n",
      "/opt/anaconda3/envs/hux-rom/lib/python3.9/site-packages/rom_operator_inference/_core/_base.py:604: IntegrationWarning: Required step size is less than spacing between numbers.\n",
      "  warnings.warn(self.sol_.message, IntegrationWarning)\n"
     ]
    },
    {
     "name": "stdout",
     "output_type": "stream",
     "text": [
      "normal equations solve failed, switching lstsq solver\n",
      "normal equations solve failed, switching lstsq solver\n",
      "normal equations solve failed, switching lstsq solver\n",
      "normal equations solve failed, switching lstsq solver\n",
      "normal equations solve failed, switching lstsq solver\n",
      "normal equations solve failed, switching lstsq solver\n",
      "normal equations solve failed, switching lstsq solver\n"
     ]
    },
    {
     "name": "stderr",
     "output_type": "stream",
     "text": [
      "/opt/anaconda3/envs/hux-rom/lib/python3.9/site-packages/rom_operator_inference/_core/_base.py:604: IntegrationWarning: Required step size is less than spacing between numbers.\n",
      "  warnings.warn(self.sol_.message, IntegrationWarning)\n",
      "/opt/anaconda3/envs/hux-rom/lib/python3.9/site-packages/rom_operator_inference/_core/_base.py:604: IntegrationWarning: Required step size is less than spacing between numbers.\n",
      "  warnings.warn(self.sol_.message, IntegrationWarning)\n",
      "/opt/anaconda3/envs/hux-rom/lib/python3.9/site-packages/rom_operator_inference/_core/_base.py:604: IntegrationWarning: Required step size is less than spacing between numbers.\n",
      "  warnings.warn(self.sol_.message, IntegrationWarning)\n",
      "/opt/anaconda3/envs/hux-rom/lib/python3.9/site-packages/rom_operator_inference/_core/_base.py:604: IntegrationWarning: Required step size is less than spacing between numbers.\n",
      "  warnings.warn(self.sol_.message, IntegrationWarning)\n"
     ]
    },
    {
     "name": "stdout",
     "output_type": "stream",
     "text": [
      "normal equations solve failed, switching lstsq solver\n",
      "normal equations solve failed, switching lstsq solver\n"
     ]
    },
    {
     "name": "stderr",
     "output_type": "stream",
     "text": [
      "/opt/anaconda3/envs/hux-rom/lib/python3.9/site-packages/rom_operator_inference/_core/_base.py:604: IntegrationWarning: Required step size is less than spacing between numbers.\n",
      "  warnings.warn(self.sol_.message, IntegrationWarning)\n",
      "/opt/anaconda3/envs/hux-rom/lib/python3.9/site-packages/rom_operator_inference/_core/_base.py:604: IntegrationWarning: Required step size is less than spacing between numbers.\n",
      "  warnings.warn(self.sol_.message, IntegrationWarning)\n"
     ]
    },
    {
     "name": "stdout",
     "output_type": "stream",
     "text": [
      "normal equations solve failed, switching lstsq solver\n",
      "normal equations solve failed, switching lstsq solver\n"
     ]
    },
    {
     "name": "stderr",
     "output_type": "stream",
     "text": [
      "/opt/anaconda3/envs/hux-rom/lib/python3.9/site-packages/rom_operator_inference/_core/_base.py:604: IntegrationWarning: Required step size is less than spacing between numbers.\n",
      "  warnings.warn(self.sol_.message, IntegrationWarning)\n",
      "/opt/anaconda3/envs/hux-rom/lib/python3.9/site-packages/rom_operator_inference/_core/_base.py:604: IntegrationWarning: Required step size is less than spacing between numbers.\n",
      "  warnings.warn(self.sol_.message, IntegrationWarning)\n",
      "/opt/anaconda3/envs/hux-rom/lib/python3.9/site-packages/rom_operator_inference/lstsq/_tikhonov.py:398: LinAlgWarning: original least-squares system is underdetermined!\n",
      "  self._process_fit_arguments(A, B)\n"
     ]
    },
    {
     "name": "stdout",
     "output_type": "stream",
     "text": [
      "normal equations solve failed, switching lstsq solver\n",
      "normal equations solve failed, switching lstsq solver\n"
     ]
    },
    {
     "name": "stderr",
     "output_type": "stream",
     "text": [
      "/opt/anaconda3/envs/hux-rom/lib/python3.9/site-packages/rom_operator_inference/_core/_base.py:604: IntegrationWarning: Required step size is less than spacing between numbers.\n",
      "  warnings.warn(self.sol_.message, IntegrationWarning)\n",
      "/opt/anaconda3/envs/hux-rom/lib/python3.9/site-packages/rom_operator_inference/lstsq/_tikhonov.py:398: LinAlgWarning: original least-squares system is underdetermined!\n",
      "  self._process_fit_arguments(A, B)\n",
      "/opt/anaconda3/envs/hux-rom/lib/python3.9/site-packages/rom_operator_inference/_core/_base.py:604: IntegrationWarning: Required step size is less than spacing between numbers.\n",
      "  warnings.warn(self.sol_.message, IntegrationWarning)\n"
     ]
    },
    {
     "name": "stdout",
     "output_type": "stream",
     "text": [
      "normal equations solve failed, switching lstsq solver\n",
      "normal equations solve failed, switching lstsq solver\n",
      "normal equations solve failed, switching lstsq solver\n",
      "normal equations solve failed, switching lstsq solver\n",
      "normal equations solve failed, switching lstsq solver\n"
     ]
    },
    {
     "name": "stderr",
     "output_type": "stream",
     "text": [
      "/opt/anaconda3/envs/hux-rom/lib/python3.9/site-packages/rom_operator_inference/_core/_base.py:604: IntegrationWarning: Required step size is less than spacing between numbers.\n",
      "  warnings.warn(self.sol_.message, IntegrationWarning)\n",
      "/opt/anaconda3/envs/hux-rom/lib/python3.9/site-packages/rom_operator_inference/_core/_base.py:604: IntegrationWarning: Required step size is less than spacing between numbers.\n",
      "  warnings.warn(self.sol_.message, IntegrationWarning)\n"
     ]
    },
    {
     "name": "stdout",
     "output_type": "stream",
     "text": [
      "normal equations solve failed, switching lstsq solver\n",
      "normal equations solve failed, switching lstsq solver\n"
     ]
    },
    {
     "name": "stderr",
     "output_type": "stream",
     "text": [
      "/opt/anaconda3/envs/hux-rom/lib/python3.9/site-packages/rom_operator_inference/_core/_base.py:604: IntegrationWarning: Required step size is less than spacing between numbers.\n",
      "  warnings.warn(self.sol_.message, IntegrationWarning)\n",
      "/opt/anaconda3/envs/hux-rom/lib/python3.9/site-packages/rom_operator_inference/_core/_base.py:604: IntegrationWarning: Required step size is less than spacing between numbers.\n",
      "  warnings.warn(self.sol_.message, IntegrationWarning)\n"
     ]
    },
    {
     "name": "stdout",
     "output_type": "stream",
     "text": [
      "normal equations solve failed, switching lstsq solver\n",
      "normal equations solve failed, switching lstsq solver\n"
     ]
    },
    {
     "name": "stderr",
     "output_type": "stream",
     "text": [
      "/opt/anaconda3/envs/hux-rom/lib/python3.9/site-packages/rom_operator_inference/_core/_base.py:604: IntegrationWarning: Required step size is less than spacing between numbers.\n",
      "  warnings.warn(self.sol_.message, IntegrationWarning)\n",
      "/opt/anaconda3/envs/hux-rom/lib/python3.9/site-packages/rom_operator_inference/_core/_base.py:604: IntegrationWarning: Required step size is less than spacing between numbers.\n",
      "  warnings.warn(self.sol_.message, IntegrationWarning)\n"
     ]
    },
    {
     "name": "stdout",
     "output_type": "stream",
     "text": [
      "normal equations solve failed, switching lstsq solver\n"
     ]
    },
    {
     "name": "stderr",
     "output_type": "stream",
     "text": [
      "/opt/anaconda3/envs/hux-rom/lib/python3.9/site-packages/rom_operator_inference/_core/_base.py:604: IntegrationWarning: Required step size is less than spacing between numbers.\n",
      "  warnings.warn(self.sol_.message, IntegrationWarning)\n"
     ]
    },
    {
     "name": "stdout",
     "output_type": "stream",
     "text": [
      "normal equations solve failed, switching lstsq solver\n",
      "normal equations solve failed, switching lstsq solver\n"
     ]
    },
    {
     "name": "stderr",
     "output_type": "stream",
     "text": [
      "/opt/anaconda3/envs/hux-rom/lib/python3.9/site-packages/rom_operator_inference/_core/_base.py:604: IntegrationWarning: Required step size is less than spacing between numbers.\n",
      "  warnings.warn(self.sol_.message, IntegrationWarning)\n",
      "/opt/anaconda3/envs/hux-rom/lib/python3.9/site-packages/rom_operator_inference/_core/_base.py:604: IntegrationWarning: Required step size is less than spacing between numbers.\n",
      "  warnings.warn(self.sol_.message, IntegrationWarning)\n",
      "/opt/anaconda3/envs/hux-rom/lib/python3.9/site-packages/rom_operator_inference/lstsq/_tikhonov.py:398: LinAlgWarning: original least-squares system is underdetermined!\n",
      "  self._process_fit_arguments(A, B)\n",
      "/opt/anaconda3/envs/hux-rom/lib/python3.9/site-packages/rom_operator_inference/_core/_base.py:604: IntegrationWarning: Required step size is less than spacing between numbers.\n",
      "  warnings.warn(self.sol_.message, IntegrationWarning)\n",
      "/opt/anaconda3/envs/hux-rom/lib/python3.9/site-packages/rom_operator_inference/lstsq/_tikhonov.py:398: LinAlgWarning: original least-squares system is underdetermined!\n",
      "  self._process_fit_arguments(A, B)\n"
     ]
    },
    {
     "name": "stdout",
     "output_type": "stream",
     "text": [
      "normal equations solve failed, switching lstsq solver\n",
      "normal equations solve failed, switching lstsq solver\n"
     ]
    },
    {
     "name": "stderr",
     "output_type": "stream",
     "text": [
      "/opt/anaconda3/envs/hux-rom/lib/python3.9/site-packages/rom_operator_inference/_core/_base.py:604: IntegrationWarning: Required step size is less than spacing between numbers.\n",
      "  warnings.warn(self.sol_.message, IntegrationWarning)\n"
     ]
    },
    {
     "name": "stdout",
     "output_type": "stream",
     "text": [
      "normal equations solve failed, switching lstsq solver\n",
      "normal equations solve failed, switching lstsq solver\n",
      "normal equations solve failed, switching lstsq solver\n",
      "normal equations solve failed, switching lstsq solver\n",
      "normal equations solve failed, switching lstsq solver\n"
     ]
    },
    {
     "name": "stderr",
     "output_type": "stream",
     "text": [
      "/opt/anaconda3/envs/hux-rom/lib/python3.9/site-packages/rom_operator_inference/_core/_base.py:604: IntegrationWarning: Required step size is less than spacing between numbers.\n",
      "  warnings.warn(self.sol_.message, IntegrationWarning)\n",
      "/opt/anaconda3/envs/hux-rom/lib/python3.9/site-packages/rom_operator_inference/_core/_base.py:604: IntegrationWarning: Required step size is less than spacing between numbers.\n",
      "  warnings.warn(self.sol_.message, IntegrationWarning)\n"
     ]
    },
    {
     "name": "stdout",
     "output_type": "stream",
     "text": [
      "normal equations solve failed, switching lstsq solver\n",
      "normal equations solve failed, switching lstsq solver\n"
     ]
    },
    {
     "name": "stderr",
     "output_type": "stream",
     "text": [
      "/opt/anaconda3/envs/hux-rom/lib/python3.9/site-packages/rom_operator_inference/_core/_base.py:604: IntegrationWarning: Required step size is less than spacing between numbers.\n",
      "  warnings.warn(self.sol_.message, IntegrationWarning)\n",
      "/opt/anaconda3/envs/hux-rom/lib/python3.9/site-packages/rom_operator_inference/_core/_base.py:604: IntegrationWarning: Required step size is less than spacing between numbers.\n",
      "  warnings.warn(self.sol_.message, IntegrationWarning)\n"
     ]
    },
    {
     "name": "stdout",
     "output_type": "stream",
     "text": [
      "normal equations solve failed, switching lstsq solver\n",
      "normal equations solve failed, switching lstsq solver\n",
      "normal equations solve failed, switching lstsq solver\n"
     ]
    },
    {
     "name": "stderr",
     "output_type": "stream",
     "text": [
      "/opt/anaconda3/envs/hux-rom/lib/python3.9/site-packages/rom_operator_inference/_core/_base.py:604: IntegrationWarning: Required step size is less than spacing between numbers.\n",
      "  warnings.warn(self.sol_.message, IntegrationWarning)\n",
      "/opt/anaconda3/envs/hux-rom/lib/python3.9/site-packages/rom_operator_inference/_core/_base.py:604: IntegrationWarning: Required step size is less than spacing between numbers.\n",
      "  warnings.warn(self.sol_.message, IntegrationWarning)\n"
     ]
    },
    {
     "name": "stdout",
     "output_type": "stream",
     "text": [
      "normal equations solve failed, switching lstsq solver\n"
     ]
    },
    {
     "name": "stderr",
     "output_type": "stream",
     "text": [
      "/opt/anaconda3/envs/hux-rom/lib/python3.9/site-packages/rom_operator_inference/lstsq/_tikhonov.py:398: LinAlgWarning: original least-squares system is underdetermined!\n",
      "  self._process_fit_arguments(A, B)\n"
     ]
    },
    {
     "name": "stdout",
     "output_type": "stream",
     "text": [
      "normal equations solve failed, switching lstsq solver\n"
     ]
    },
    {
     "name": "stderr",
     "output_type": "stream",
     "text": [
      "/opt/anaconda3/envs/hux-rom/lib/python3.9/site-packages/rom_operator_inference/lstsq/_tikhonov.py:398: LinAlgWarning: original least-squares system is underdetermined!\n",
      "  self._process_fit_arguments(A, B)\n",
      "/opt/anaconda3/envs/hux-rom/lib/python3.9/site-packages/rom_operator_inference/_core/_base.py:604: IntegrationWarning: Required step size is less than spacing between numbers.\n",
      "  warnings.warn(self.sol_.message, IntegrationWarning)\n"
     ]
    },
    {
     "name": "stdout",
     "output_type": "stream",
     "text": [
      "normal equations solve failed, switching lstsq solver\n",
      "normal equations solve failed, switching lstsq solver\n",
      "normal equations solve failed, switching lstsq solver\n",
      "normal equations solve failed, switching lstsq solver\n",
      "normal equations solve failed, switching lstsq solver\n",
      "normal equations solve failed, switching lstsq solver\n"
     ]
    },
    {
     "name": "stderr",
     "output_type": "stream",
     "text": [
      "/opt/anaconda3/envs/hux-rom/lib/python3.9/site-packages/rom_operator_inference/_core/_base.py:604: IntegrationWarning: Required step size is less than spacing between numbers.\n",
      "  warnings.warn(self.sol_.message, IntegrationWarning)\n",
      "/opt/anaconda3/envs/hux-rom/lib/python3.9/site-packages/rom_operator_inference/_core/_base.py:604: IntegrationWarning: Required step size is less than spacing between numbers.\n",
      "  warnings.warn(self.sol_.message, IntegrationWarning)\n"
     ]
    },
    {
     "name": "stdout",
     "output_type": "stream",
     "text": [
      "normal equations solve failed, switching lstsq solver\n",
      "normal equations solve failed, switching lstsq solver\n"
     ]
    },
    {
     "name": "stderr",
     "output_type": "stream",
     "text": [
      "/opt/anaconda3/envs/hux-rom/lib/python3.9/site-packages/rom_operator_inference/_core/_base.py:604: IntegrationWarning: Required step size is less than spacing between numbers.\n",
      "  warnings.warn(self.sol_.message, IntegrationWarning)\n",
      "/opt/anaconda3/envs/hux-rom/lib/python3.9/site-packages/rom_operator_inference/_core/_base.py:604: IntegrationWarning: Required step size is less than spacing between numbers.\n",
      "  warnings.warn(self.sol_.message, IntegrationWarning)\n"
     ]
    },
    {
     "name": "stdout",
     "output_type": "stream",
     "text": [
      "normal equations solve failed, switching lstsq solver\n",
      "normal equations solve failed, switching lstsq solver\n",
      "normal equations solve failed, switching lstsq solver\n",
      "normal equations solve failed, switching lstsq solver\n"
     ]
    },
    {
     "name": "stderr",
     "output_type": "stream",
     "text": [
      "/opt/anaconda3/envs/hux-rom/lib/python3.9/site-packages/rom_operator_inference/_core/_base.py:604: IntegrationWarning: Required step size is less than spacing between numbers.\n",
      "  warnings.warn(self.sol_.message, IntegrationWarning)\n",
      "/opt/anaconda3/envs/hux-rom/lib/python3.9/site-packages/rom_operator_inference/lstsq/_tikhonov.py:398: LinAlgWarning: original least-squares system is underdetermined!\n",
      "  self._process_fit_arguments(A, B)\n"
     ]
    },
    {
     "name": "stdout",
     "output_type": "stream",
     "text": [
      "normal equations solve failed, switching lstsq solver\n"
     ]
    },
    {
     "name": "stderr",
     "output_type": "stream",
     "text": [
      "/opt/anaconda3/envs/hux-rom/lib/python3.9/site-packages/rom_operator_inference/lstsq/_tikhonov.py:398: LinAlgWarning: original least-squares system is underdetermined!\n",
      "  self._process_fit_arguments(A, B)\n",
      "/opt/anaconda3/envs/hux-rom/lib/python3.9/site-packages/rom_operator_inference/_core/_base.py:604: IntegrationWarning: Required step size is less than spacing between numbers.\n",
      "  warnings.warn(self.sol_.message, IntegrationWarning)\n"
     ]
    },
    {
     "name": "stdout",
     "output_type": "stream",
     "text": [
      "normal equations solve failed, switching lstsq solver\n",
      "normal equations solve failed, switching lstsq solver\n",
      "normal equations solve failed, switching lstsq solver\n",
      "normal equations solve failed, switching lstsq solver\n",
      "normal equations solve failed, switching lstsq solver\n",
      "normal equations solve failed, switching lstsq solver\n",
      "normal equations solve failed, switching lstsq solver\n"
     ]
    },
    {
     "name": "stderr",
     "output_type": "stream",
     "text": [
      "/opt/anaconda3/envs/hux-rom/lib/python3.9/site-packages/rom_operator_inference/_core/_base.py:604: IntegrationWarning: Required step size is less than spacing between numbers.\n",
      "  warnings.warn(self.sol_.message, IntegrationWarning)\n",
      "/opt/anaconda3/envs/hux-rom/lib/python3.9/site-packages/rom_operator_inference/_core/_base.py:604: IntegrationWarning: Required step size is less than spacing between numbers.\n",
      "  warnings.warn(self.sol_.message, IntegrationWarning)\n",
      "/opt/anaconda3/envs/hux-rom/lib/python3.9/site-packages/rom_operator_inference/_core/_base.py:604: IntegrationWarning: Required step size is less than spacing between numbers.\n",
      "  warnings.warn(self.sol_.message, IntegrationWarning)\n"
     ]
    },
    {
     "name": "stdout",
     "output_type": "stream",
     "text": [
      "normal equations solve failed, switching lstsq solver\n",
      "normal equations solve failed, switching lstsq solver\n"
     ]
    },
    {
     "name": "stderr",
     "output_type": "stream",
     "text": [
      "/opt/anaconda3/envs/hux-rom/lib/python3.9/site-packages/rom_operator_inference/_core/_base.py:604: IntegrationWarning: Required step size is less than spacing between numbers.\n",
      "  warnings.warn(self.sol_.message, IntegrationWarning)\n"
     ]
    },
    {
     "name": "stdout",
     "output_type": "stream",
     "text": [
      "normal equations solve failed, switching lstsq solver\n",
      "normal equations solve failed, switching lstsq solver\n",
      "normal equations solve failed, switching lstsq solver\n"
     ]
    },
    {
     "name": "stderr",
     "output_type": "stream",
     "text": [
      "/opt/anaconda3/envs/hux-rom/lib/python3.9/site-packages/rom_operator_inference/lstsq/_tikhonov.py:398: LinAlgWarning: original least-squares system is underdetermined!\n",
      "  self._process_fit_arguments(A, B)\n"
     ]
    },
    {
     "name": "stdout",
     "output_type": "stream",
     "text": [
      "normal equations solve failed, switching lstsq solver\n"
     ]
    },
    {
     "name": "stderr",
     "output_type": "stream",
     "text": [
      "/opt/anaconda3/envs/hux-rom/lib/python3.9/site-packages/rom_operator_inference/lstsq/_tikhonov.py:398: LinAlgWarning: original least-squares system is underdetermined!\n",
      "  self._process_fit_arguments(A, B)\n",
      "/opt/anaconda3/envs/hux-rom/lib/python3.9/site-packages/rom_operator_inference/_core/_base.py:604: IntegrationWarning: Required step size is less than spacing between numbers.\n",
      "  warnings.warn(self.sol_.message, IntegrationWarning)\n"
     ]
    },
    {
     "name": "stdout",
     "output_type": "stream",
     "text": [
      "normal equations solve failed, switching lstsq solver\n",
      "normal equations solve failed, switching lstsq solver\n",
      "normal equations solve failed, switching lstsq solver\n",
      "normal equations solve failed, switching lstsq solver\n"
     ]
    },
    {
     "name": "stderr",
     "output_type": "stream",
     "text": [
      "/opt/anaconda3/envs/hux-rom/lib/python3.9/site-packages/rom_operator_inference/_core/_base.py:604: IntegrationWarning: Required step size is less than spacing between numbers.\n",
      "  warnings.warn(self.sol_.message, IntegrationWarning)\n"
     ]
    },
    {
     "name": "stdout",
     "output_type": "stream",
     "text": [
      "normal equations solve failed, switching lstsq solver\n",
      "normal equations solve failed, switching lstsq solver\n",
      "normal equations solve failed, switching lstsq solver\n"
     ]
    },
    {
     "name": "stderr",
     "output_type": "stream",
     "text": [
      "/opt/anaconda3/envs/hux-rom/lib/python3.9/site-packages/rom_operator_inference/_core/_base.py:604: IntegrationWarning: Required step size is less than spacing between numbers.\n",
      "  warnings.warn(self.sol_.message, IntegrationWarning)\n",
      "/opt/anaconda3/envs/hux-rom/lib/python3.9/site-packages/rom_operator_inference/_core/_base.py:604: IntegrationWarning: Required step size is less than spacing between numbers.\n",
      "  warnings.warn(self.sol_.message, IntegrationWarning)\n",
      "/opt/anaconda3/envs/hux-rom/lib/python3.9/site-packages/rom_operator_inference/_core/_base.py:604: IntegrationWarning: Required step size is less than spacing between numbers.\n",
      "  warnings.warn(self.sol_.message, IntegrationWarning)\n"
     ]
    },
    {
     "name": "stdout",
     "output_type": "stream",
     "text": [
      "normal equations solve failed, switching lstsq solver\n",
      "normal equations solve failed, switching lstsq solver\n"
     ]
    },
    {
     "name": "stderr",
     "output_type": "stream",
     "text": [
      "/opt/anaconda3/envs/hux-rom/lib/python3.9/site-packages/rom_operator_inference/_core/_base.py:604: IntegrationWarning: Required step size is less than spacing between numbers.\n",
      "  warnings.warn(self.sol_.message, IntegrationWarning)\n"
     ]
    },
    {
     "name": "stdout",
     "output_type": "stream",
     "text": [
      "normal equations solve failed, switching lstsq solver\n",
      "normal equations solve failed, switching lstsq solver\n",
      "normal equations solve failed, switching lstsq solver\n"
     ]
    },
    {
     "name": "stderr",
     "output_type": "stream",
     "text": [
      "/opt/anaconda3/envs/hux-rom/lib/python3.9/site-packages/rom_operator_inference/lstsq/_tikhonov.py:398: LinAlgWarning: original least-squares system is underdetermined!\n",
      "  self._process_fit_arguments(A, B)\n"
     ]
    },
    {
     "name": "stdout",
     "output_type": "stream",
     "text": [
      "normal equations solve failed, switching lstsq solver\n"
     ]
    },
    {
     "name": "stderr",
     "output_type": "stream",
     "text": [
      "/opt/anaconda3/envs/hux-rom/lib/python3.9/site-packages/rom_operator_inference/lstsq/_tikhonov.py:398: LinAlgWarning: original least-squares system is underdetermined!\n",
      "  self._process_fit_arguments(A, B)\n",
      "/opt/anaconda3/envs/hux-rom/lib/python3.9/site-packages/rom_operator_inference/_core/_base.py:604: IntegrationWarning: Required step size is less than spacing between numbers.\n",
      "  warnings.warn(self.sol_.message, IntegrationWarning)\n"
     ]
    },
    {
     "name": "stdout",
     "output_type": "stream",
     "text": [
      "normal equations solve failed, switching lstsq solver\n",
      "normal equations solve failed, switching lstsq solver\n",
      "normal equations solve failed, switching lstsq solver\n",
      "normal equations solve failed, switching lstsq solver\n",
      "normal equations solve failed, switching lstsq solver\n",
      "normal equations solve failed, switching lstsq solver\n"
     ]
    },
    {
     "name": "stderr",
     "output_type": "stream",
     "text": [
      "/opt/anaconda3/envs/hux-rom/lib/python3.9/site-packages/rom_operator_inference/_core/_base.py:604: IntegrationWarning: Required step size is less than spacing between numbers.\n",
      "  warnings.warn(self.sol_.message, IntegrationWarning)\n",
      "/opt/anaconda3/envs/hux-rom/lib/python3.9/site-packages/rom_operator_inference/_core/_base.py:604: IntegrationWarning: Required step size is less than spacing between numbers.\n",
      "  warnings.warn(self.sol_.message, IntegrationWarning)\n",
      "/opt/anaconda3/envs/hux-rom/lib/python3.9/site-packages/rom_operator_inference/_core/_base.py:604: IntegrationWarning: Required step size is less than spacing between numbers.\n",
      "  warnings.warn(self.sol_.message, IntegrationWarning)\n"
     ]
    },
    {
     "name": "stdout",
     "output_type": "stream",
     "text": [
      "normal equations solve failed, switching lstsq solver\n"
     ]
    },
    {
     "name": "stderr",
     "output_type": "stream",
     "text": [
      "/opt/anaconda3/envs/hux-rom/lib/python3.9/site-packages/rom_operator_inference/_core/_base.py:604: IntegrationWarning: Required step size is less than spacing between numbers.\n",
      "  warnings.warn(self.sol_.message, IntegrationWarning)\n",
      "/opt/anaconda3/envs/hux-rom/lib/python3.9/site-packages/rom_operator_inference/_core/_base.py:604: IntegrationWarning: Required step size is less than spacing between numbers.\n",
      "  warnings.warn(self.sol_.message, IntegrationWarning)\n"
     ]
    },
    {
     "name": "stdout",
     "output_type": "stream",
     "text": [
      "normal equations solve failed, switching lstsq solver\n",
      "normal equations solve failed, switching lstsq solver\n"
     ]
    },
    {
     "name": "stderr",
     "output_type": "stream",
     "text": [
      "/opt/anaconda3/envs/hux-rom/lib/python3.9/site-packages/rom_operator_inference/_core/_base.py:604: IntegrationWarning: Required step size is less than spacing between numbers.\n",
      "  warnings.warn(self.sol_.message, IntegrationWarning)\n",
      "/opt/anaconda3/envs/hux-rom/lib/python3.9/site-packages/rom_operator_inference/_core/_base.py:604: IntegrationWarning: Required step size is less than spacing between numbers.\n",
      "  warnings.warn(self.sol_.message, IntegrationWarning)\n"
     ]
    },
    {
     "name": "stdout",
     "output_type": "stream",
     "text": [
      "normal equations solve failed, switching lstsq solver\n",
      "normal equations solve failed, switching lstsq solver\n"
     ]
    },
    {
     "name": "stderr",
     "output_type": "stream",
     "text": [
      "/opt/anaconda3/envs/hux-rom/lib/python3.9/site-packages/rom_operator_inference/_core/_base.py:604: IntegrationWarning: Required step size is less than spacing between numbers.\n",
      "  warnings.warn(self.sol_.message, IntegrationWarning)\n",
      "/opt/anaconda3/envs/hux-rom/lib/python3.9/site-packages/rom_operator_inference/_core/_base.py:604: IntegrationWarning: Required step size is less than spacing between numbers.\n",
      "  warnings.warn(self.sol_.message, IntegrationWarning)\n",
      "/opt/anaconda3/envs/hux-rom/lib/python3.9/site-packages/rom_operator_inference/lstsq/_tikhonov.py:398: LinAlgWarning: original least-squares system is underdetermined!\n",
      "  self._process_fit_arguments(A, B)\n"
     ]
    },
    {
     "name": "stdout",
     "output_type": "stream",
     "text": [
      "normal equations solve failed, switching lstsq solver\n",
      "normal equations solve failed, switching lstsq solver\n"
     ]
    },
    {
     "name": "stderr",
     "output_type": "stream",
     "text": [
      "/opt/anaconda3/envs/hux-rom/lib/python3.9/site-packages/rom_operator_inference/_core/_base.py:604: IntegrationWarning: Required step size is less than spacing between numbers.\n",
      "  warnings.warn(self.sol_.message, IntegrationWarning)\n",
      "/opt/anaconda3/envs/hux-rom/lib/python3.9/site-packages/rom_operator_inference/lstsq/_tikhonov.py:398: LinAlgWarning: original least-squares system is underdetermined!\n",
      "  self._process_fit_arguments(A, B)\n",
      "/opt/anaconda3/envs/hux-rom/lib/python3.9/site-packages/rom_operator_inference/_core/_base.py:604: IntegrationWarning: Required step size is less than spacing between numbers.\n",
      "  warnings.warn(self.sol_.message, IntegrationWarning)\n"
     ]
    },
    {
     "name": "stdout",
     "output_type": "stream",
     "text": [
      "normal equations solve failed, switching lstsq solver\n",
      "normal equations solve failed, switching lstsq solver\n",
      "normal equations solve failed, switching lstsq solver\n",
      "normal equations solve failed, switching lstsq solver\n",
      "normal equations solve failed, switching lstsq solver\n"
     ]
    },
    {
     "name": "stderr",
     "output_type": "stream",
     "text": [
      "/opt/anaconda3/envs/hux-rom/lib/python3.9/site-packages/rom_operator_inference/_core/_base.py:604: IntegrationWarning: Required step size is less than spacing between numbers.\n",
      "  warnings.warn(self.sol_.message, IntegrationWarning)\n",
      "/opt/anaconda3/envs/hux-rom/lib/python3.9/site-packages/rom_operator_inference/_core/_base.py:604: IntegrationWarning: Required step size is less than spacing between numbers.\n",
      "  warnings.warn(self.sol_.message, IntegrationWarning)\n"
     ]
    },
    {
     "name": "stdout",
     "output_type": "stream",
     "text": [
      "normal equations solve failed, switching lstsq solver\n",
      "normal equations solve failed, switching lstsq solver\n"
     ]
    },
    {
     "name": "stderr",
     "output_type": "stream",
     "text": [
      "/opt/anaconda3/envs/hux-rom/lib/python3.9/site-packages/rom_operator_inference/_core/_base.py:604: IntegrationWarning: Required step size is less than spacing between numbers.\n",
      "  warnings.warn(self.sol_.message, IntegrationWarning)\n",
      "/opt/anaconda3/envs/hux-rom/lib/python3.9/site-packages/rom_operator_inference/_core/_base.py:604: IntegrationWarning: Required step size is less than spacing between numbers.\n",
      "  warnings.warn(self.sol_.message, IntegrationWarning)\n"
     ]
    },
    {
     "name": "stdout",
     "output_type": "stream",
     "text": [
      "normal equations solve failed, switching lstsq solver\n",
      "normal equations solve failed, switching lstsq solver\n"
     ]
    },
    {
     "name": "stderr",
     "output_type": "stream",
     "text": [
      "/opt/anaconda3/envs/hux-rom/lib/python3.9/site-packages/rom_operator_inference/_core/_base.py:604: IntegrationWarning: Required step size is less than spacing between numbers.\n",
      "  warnings.warn(self.sol_.message, IntegrationWarning)\n",
      "/opt/anaconda3/envs/hux-rom/lib/python3.9/site-packages/rom_operator_inference/_core/_base.py:604: IntegrationWarning: Required step size is less than spacing between numbers.\n",
      "  warnings.warn(self.sol_.message, IntegrationWarning)\n"
     ]
    },
    {
     "name": "stdout",
     "output_type": "stream",
     "text": [
      "normal equations solve failed, switching lstsq solver\n",
      "normal equations solve failed, switching lstsq solver\n"
     ]
    },
    {
     "name": "stderr",
     "output_type": "stream",
     "text": [
      "/opt/anaconda3/envs/hux-rom/lib/python3.9/site-packages/rom_operator_inference/_core/_base.py:604: IntegrationWarning: Required step size is less than spacing between numbers.\n",
      "  warnings.warn(self.sol_.message, IntegrationWarning)\n",
      "/opt/anaconda3/envs/hux-rom/lib/python3.9/site-packages/rom_operator_inference/_core/_base.py:604: IntegrationWarning: Required step size is less than spacing between numbers.\n",
      "  warnings.warn(self.sol_.message, IntegrationWarning)\n"
     ]
    },
    {
     "name": "stdout",
     "output_type": "stream",
     "text": [
      "normal equations solve failed, switching lstsq solver\n",
      "normal equations solve failed, switching lstsq solver\n"
     ]
    },
    {
     "name": "stderr",
     "output_type": "stream",
     "text": [
      "/opt/anaconda3/envs/hux-rom/lib/python3.9/site-packages/rom_operator_inference/_core/_base.py:604: IntegrationWarning: Required step size is less than spacing between numbers.\n",
      "  warnings.warn(self.sol_.message, IntegrationWarning)\n",
      "/opt/anaconda3/envs/hux-rom/lib/python3.9/site-packages/rom_operator_inference/lstsq/_tikhonov.py:398: LinAlgWarning: original least-squares system is underdetermined!\n",
      "  self._process_fit_arguments(A, B)\n",
      "/opt/anaconda3/envs/hux-rom/lib/python3.9/site-packages/rom_operator_inference/_core/_base.py:604: IntegrationWarning: Required step size is less than spacing between numbers.\n",
      "  warnings.warn(self.sol_.message, IntegrationWarning)\n",
      "/opt/anaconda3/envs/hux-rom/lib/python3.9/site-packages/rom_operator_inference/lstsq/_tikhonov.py:398: LinAlgWarning: original least-squares system is underdetermined!\n",
      "  self._process_fit_arguments(A, B)\n"
     ]
    },
    {
     "name": "stdout",
     "output_type": "stream",
     "text": [
      "normal equations solve failed, switching lstsq solver\n",
      "normal equations solve failed, switching lstsq solver\n"
     ]
    },
    {
     "name": "stderr",
     "output_type": "stream",
     "text": [
      "/opt/anaconda3/envs/hux-rom/lib/python3.9/site-packages/rom_operator_inference/_core/_base.py:604: IntegrationWarning: Required step size is less than spacing between numbers.\n",
      "  warnings.warn(self.sol_.message, IntegrationWarning)\n"
     ]
    },
    {
     "name": "stdout",
     "output_type": "stream",
     "text": [
      "normal equations solve failed, switching lstsq solver\n",
      "normal equations solve failed, switching lstsq solver\n",
      "normal equations solve failed, switching lstsq solver\n",
      "normal equations solve failed, switching lstsq solver\n"
     ]
    },
    {
     "name": "stderr",
     "output_type": "stream",
     "text": [
      "/opt/anaconda3/envs/hux-rom/lib/python3.9/site-packages/rom_operator_inference/_core/_base.py:604: IntegrationWarning: Required step size is less than spacing between numbers.\n",
      "  warnings.warn(self.sol_.message, IntegrationWarning)\n",
      "/opt/anaconda3/envs/hux-rom/lib/python3.9/site-packages/rom_operator_inference/_core/_base.py:604: IntegrationWarning: Required step size is less than spacing between numbers.\n",
      "  warnings.warn(self.sol_.message, IntegrationWarning)\n",
      "/opt/anaconda3/envs/hux-rom/lib/python3.9/site-packages/rom_operator_inference/_core/_base.py:604: IntegrationWarning: Required step size is less than spacing between numbers.\n",
      "  warnings.warn(self.sol_.message, IntegrationWarning)\n",
      "/opt/anaconda3/envs/hux-rom/lib/python3.9/site-packages/rom_operator_inference/_core/_base.py:604: IntegrationWarning: Required step size is less than spacing between numbers.\n",
      "  warnings.warn(self.sol_.message, IntegrationWarning)\n"
     ]
    },
    {
     "name": "stdout",
     "output_type": "stream",
     "text": [
      "normal equations solve failed, switching lstsq solver\n",
      "normal equations solve failed, switching lstsq solver\n"
     ]
    },
    {
     "name": "stderr",
     "output_type": "stream",
     "text": [
      "/opt/anaconda3/envs/hux-rom/lib/python3.9/site-packages/rom_operator_inference/_core/_base.py:604: IntegrationWarning: Required step size is less than spacing between numbers.\n",
      "  warnings.warn(self.sol_.message, IntegrationWarning)\n",
      "/opt/anaconda3/envs/hux-rom/lib/python3.9/site-packages/rom_operator_inference/_core/_base.py:604: IntegrationWarning: Required step size is less than spacing between numbers.\n",
      "  warnings.warn(self.sol_.message, IntegrationWarning)\n"
     ]
    },
    {
     "name": "stdout",
     "output_type": "stream",
     "text": [
      "normal equations solve failed, switching lstsq solver\n",
      "normal equations solve failed, switching lstsq solver\n"
     ]
    },
    {
     "name": "stderr",
     "output_type": "stream",
     "text": [
      "/opt/anaconda3/envs/hux-rom/lib/python3.9/site-packages/rom_operator_inference/_core/_base.py:604: IntegrationWarning: Required step size is less than spacing between numbers.\n",
      "  warnings.warn(self.sol_.message, IntegrationWarning)\n",
      "/opt/anaconda3/envs/hux-rom/lib/python3.9/site-packages/rom_operator_inference/_core/_base.py:604: IntegrationWarning: Required step size is less than spacing between numbers.\n",
      "  warnings.warn(self.sol_.message, IntegrationWarning)\n"
     ]
    },
    {
     "name": "stdout",
     "output_type": "stream",
     "text": [
      "normal equations solve failed, switching lstsq solver\n",
      "normal equations solve failed, switching lstsq solver\n"
     ]
    },
    {
     "name": "stderr",
     "output_type": "stream",
     "text": [
      "/opt/anaconda3/envs/hux-rom/lib/python3.9/site-packages/rom_operator_inference/_core/_base.py:604: IntegrationWarning: Required step size is less than spacing between numbers.\n",
      "  warnings.warn(self.sol_.message, IntegrationWarning)\n",
      "/opt/anaconda3/envs/hux-rom/lib/python3.9/site-packages/rom_operator_inference/lstsq/_tikhonov.py:398: LinAlgWarning: original least-squares system is underdetermined!\n",
      "  self._process_fit_arguments(A, B)\n",
      "/opt/anaconda3/envs/hux-rom/lib/python3.9/site-packages/rom_operator_inference/_core/_base.py:604: IntegrationWarning: Required step size is less than spacing between numbers.\n",
      "  warnings.warn(self.sol_.message, IntegrationWarning)\n",
      "/opt/anaconda3/envs/hux-rom/lib/python3.9/site-packages/rom_operator_inference/lstsq/_tikhonov.py:398: LinAlgWarning: original least-squares system is underdetermined!\n",
      "  self._process_fit_arguments(A, B)\n"
     ]
    },
    {
     "name": "stdout",
     "output_type": "stream",
     "text": [
      "normal equations solve failed, switching lstsq solver\n",
      "normal equations solve failed, switching lstsq solver\n"
     ]
    },
    {
     "name": "stderr",
     "output_type": "stream",
     "text": [
      "/opt/anaconda3/envs/hux-rom/lib/python3.9/site-packages/rom_operator_inference/_core/_base.py:604: IntegrationWarning: Required step size is less than spacing between numbers.\n",
      "  warnings.warn(self.sol_.message, IntegrationWarning)\n"
     ]
    },
    {
     "name": "stdout",
     "output_type": "stream",
     "text": [
      "normal equations solve failed, switching lstsq solver\n",
      "normal equations solve failed, switching lstsq solver\n",
      "normal equations solve failed, switching lstsq solver\n",
      "normal equations solve failed, switching lstsq solver\n",
      "normal equations solve failed, switching lstsq solver\n"
     ]
    },
    {
     "name": "stderr",
     "output_type": "stream",
     "text": [
      "/opt/anaconda3/envs/hux-rom/lib/python3.9/site-packages/rom_operator_inference/_core/_base.py:604: IntegrationWarning: Required step size is less than spacing between numbers.\n",
      "  warnings.warn(self.sol_.message, IntegrationWarning)\n",
      "/opt/anaconda3/envs/hux-rom/lib/python3.9/site-packages/rom_operator_inference/_core/_base.py:604: IntegrationWarning: Required step size is less than spacing between numbers.\n",
      "  warnings.warn(self.sol_.message, IntegrationWarning)\n",
      "/opt/anaconda3/envs/hux-rom/lib/python3.9/site-packages/rom_operator_inference/_core/_base.py:604: IntegrationWarning: Required step size is less than spacing between numbers.\n",
      "  warnings.warn(self.sol_.message, IntegrationWarning)\n",
      "/opt/anaconda3/envs/hux-rom/lib/python3.9/site-packages/rom_operator_inference/_core/_base.py:604: IntegrationWarning: Required step size is less than spacing between numbers.\n",
      "  warnings.warn(self.sol_.message, IntegrationWarning)\n",
      "/opt/anaconda3/envs/hux-rom/lib/python3.9/site-packages/rom_operator_inference/_core/_base.py:604: IntegrationWarning: Required step size is less than spacing between numbers.\n",
      "  warnings.warn(self.sol_.message, IntegrationWarning)\n"
     ]
    },
    {
     "name": "stdout",
     "output_type": "stream",
     "text": [
      "normal equations solve failed, switching lstsq solver\n",
      "normal equations solve failed, switching lstsq solver\n",
      "normal equations solve failed, switching lstsq solver\n"
     ]
    },
    {
     "name": "stderr",
     "output_type": "stream",
     "text": [
      "/opt/anaconda3/envs/hux-rom/lib/python3.9/site-packages/rom_operator_inference/_core/_base.py:604: IntegrationWarning: Required step size is less than spacing between numbers.\n",
      "  warnings.warn(self.sol_.message, IntegrationWarning)\n",
      "/opt/anaconda3/envs/hux-rom/lib/python3.9/site-packages/rom_operator_inference/_core/_base.py:604: IntegrationWarning: Required step size is less than spacing between numbers.\n",
      "  warnings.warn(self.sol_.message, IntegrationWarning)\n"
     ]
    },
    {
     "name": "stdout",
     "output_type": "stream",
     "text": [
      "normal equations solve failed, switching lstsq solver\n",
      "normal equations solve failed, switching lstsq solver\n"
     ]
    },
    {
     "name": "stderr",
     "output_type": "stream",
     "text": [
      "/opt/anaconda3/envs/hux-rom/lib/python3.9/site-packages/rom_operator_inference/_core/_base.py:604: IntegrationWarning: Required step size is less than spacing between numbers.\n",
      "  warnings.warn(self.sol_.message, IntegrationWarning)\n",
      "/opt/anaconda3/envs/hux-rom/lib/python3.9/site-packages/rom_operator_inference/_core/_base.py:604: IntegrationWarning: Required step size is less than spacing between numbers.\n",
      "  warnings.warn(self.sol_.message, IntegrationWarning)\n",
      "/opt/anaconda3/envs/hux-rom/lib/python3.9/site-packages/rom_operator_inference/lstsq/_tikhonov.py:398: LinAlgWarning: original least-squares system is underdetermined!\n",
      "  self._process_fit_arguments(A, B)\n"
     ]
    },
    {
     "name": "stdout",
     "output_type": "stream",
     "text": [
      "normal equations solve failed, switching lstsq solver\n",
      "normal equations solve failed, switching lstsq solver\n"
     ]
    },
    {
     "name": "stderr",
     "output_type": "stream",
     "text": [
      "/opt/anaconda3/envs/hux-rom/lib/python3.9/site-packages/rom_operator_inference/_core/_base.py:604: IntegrationWarning: Required step size is less than spacing between numbers.\n",
      "  warnings.warn(self.sol_.message, IntegrationWarning)\n",
      "/opt/anaconda3/envs/hux-rom/lib/python3.9/site-packages/rom_operator_inference/lstsq/_tikhonov.py:398: LinAlgWarning: original least-squares system is underdetermined!\n",
      "  self._process_fit_arguments(A, B)\n",
      "/opt/anaconda3/envs/hux-rom/lib/python3.9/site-packages/rom_operator_inference/_core/_base.py:604: IntegrationWarning: Required step size is less than spacing between numbers.\n",
      "  warnings.warn(self.sol_.message, IntegrationWarning)\n"
     ]
    },
    {
     "name": "stdout",
     "output_type": "stream",
     "text": [
      "normal equations solve failed, switching lstsq solver\n",
      "normal equations solve failed, switching lstsq solver\n",
      "normal equations solve failed, switching lstsq solver\n",
      "normal equations solve failed, switching lstsq solver\n",
      "normal equations solve failed, switching lstsq solver\n"
     ]
    },
    {
     "name": "stderr",
     "output_type": "stream",
     "text": [
      "/opt/anaconda3/envs/hux-rom/lib/python3.9/site-packages/rom_operator_inference/_core/_base.py:604: IntegrationWarning: Required step size is less than spacing between numbers.\n",
      "  warnings.warn(self.sol_.message, IntegrationWarning)\n",
      "/opt/anaconda3/envs/hux-rom/lib/python3.9/site-packages/rom_operator_inference/_core/_base.py:604: IntegrationWarning: Required step size is less than spacing between numbers.\n",
      "  warnings.warn(self.sol_.message, IntegrationWarning)\n",
      "/opt/anaconda3/envs/hux-rom/lib/python3.9/site-packages/rom_operator_inference/_core/_base.py:604: IntegrationWarning: Required step size is less than spacing between numbers.\n",
      "  warnings.warn(self.sol_.message, IntegrationWarning)\n"
     ]
    },
    {
     "name": "stdout",
     "output_type": "stream",
     "text": [
      "normal equations solve failed, switching lstsq solver\n",
      "normal equations solve failed, switching lstsq solver\n",
      "normal equations solve failed, switching lstsq solver\n"
     ]
    },
    {
     "name": "stderr",
     "output_type": "stream",
     "text": [
      "/opt/anaconda3/envs/hux-rom/lib/python3.9/site-packages/rom_operator_inference/_core/_base.py:604: IntegrationWarning: Required step size is less than spacing between numbers.\n",
      "  warnings.warn(self.sol_.message, IntegrationWarning)\n",
      "/opt/anaconda3/envs/hux-rom/lib/python3.9/site-packages/rom_operator_inference/_core/_base.py:604: IntegrationWarning: Required step size is less than spacing between numbers.\n",
      "  warnings.warn(self.sol_.message, IntegrationWarning)\n"
     ]
    },
    {
     "name": "stdout",
     "output_type": "stream",
     "text": [
      "normal equations solve failed, switching lstsq solver\n",
      "normal equations solve failed, switching lstsq solver\n"
     ]
    },
    {
     "name": "stderr",
     "output_type": "stream",
     "text": [
      "/opt/anaconda3/envs/hux-rom/lib/python3.9/site-packages/rom_operator_inference/_core/_base.py:604: IntegrationWarning: Required step size is less than spacing between numbers.\n",
      "  warnings.warn(self.sol_.message, IntegrationWarning)\n",
      "/opt/anaconda3/envs/hux-rom/lib/python3.9/site-packages/rom_operator_inference/_core/_base.py:604: IntegrationWarning: Required step size is less than spacing between numbers.\n",
      "  warnings.warn(self.sol_.message, IntegrationWarning)\n"
     ]
    },
    {
     "name": "stdout",
     "output_type": "stream",
     "text": [
      "normal equations solve failed, switching lstsq solver\n",
      "normal equations solve failed, switching lstsq solver\n"
     ]
    },
    {
     "name": "stderr",
     "output_type": "stream",
     "text": [
      "/opt/anaconda3/envs/hux-rom/lib/python3.9/site-packages/rom_operator_inference/_core/_base.py:604: IntegrationWarning: Required step size is less than spacing between numbers.\n",
      "  warnings.warn(self.sol_.message, IntegrationWarning)\n",
      "/opt/anaconda3/envs/hux-rom/lib/python3.9/site-packages/rom_operator_inference/_core/_base.py:604: IntegrationWarning: Required step size is less than spacing between numbers.\n",
      "  warnings.warn(self.sol_.message, IntegrationWarning)\n",
      "/opt/anaconda3/envs/hux-rom/lib/python3.9/site-packages/rom_operator_inference/lstsq/_tikhonov.py:398: LinAlgWarning: original least-squares system is underdetermined!\n",
      "  self._process_fit_arguments(A, B)\n"
     ]
    },
    {
     "name": "stdout",
     "output_type": "stream",
     "text": [
      "normal equations solve failed, switching lstsq solver\n",
      "normal equations solve failed, switching lstsq solver\n"
     ]
    },
    {
     "name": "stderr",
     "output_type": "stream",
     "text": [
      "/opt/anaconda3/envs/hux-rom/lib/python3.9/site-packages/rom_operator_inference/_core/_base.py:604: IntegrationWarning: Required step size is less than spacing between numbers.\n",
      "  warnings.warn(self.sol_.message, IntegrationWarning)\n",
      "/opt/anaconda3/envs/hux-rom/lib/python3.9/site-packages/rom_operator_inference/lstsq/_tikhonov.py:398: LinAlgWarning: original least-squares system is underdetermined!\n",
      "  self._process_fit_arguments(A, B)\n",
      "/opt/anaconda3/envs/hux-rom/lib/python3.9/site-packages/rom_operator_inference/_core/_base.py:604: IntegrationWarning: Required step size is less than spacing between numbers.\n",
      "  warnings.warn(self.sol_.message, IntegrationWarning)\n"
     ]
    },
    {
     "name": "stdout",
     "output_type": "stream",
     "text": [
      "normal equations solve failed, switching lstsq solver\n",
      "normal equations solve failed, switching lstsq solver\n",
      "normal equations solve failed, switching lstsq solver\n",
      "normal equations solve failed, switching lstsq solver\n",
      "normal equations solve failed, switching lstsq solver\n",
      "normal equations solve failed, switching lstsq solver\n",
      "normal equations solve failed, switching lstsq solver\n"
     ]
    },
    {
     "name": "stderr",
     "output_type": "stream",
     "text": [
      "/opt/anaconda3/envs/hux-rom/lib/python3.9/site-packages/rom_operator_inference/_core/_base.py:604: IntegrationWarning: Required step size is less than spacing between numbers.\n",
      "  warnings.warn(self.sol_.message, IntegrationWarning)\n",
      "/opt/anaconda3/envs/hux-rom/lib/python3.9/site-packages/rom_operator_inference/_core/_base.py:604: IntegrationWarning: Required step size is less than spacing between numbers.\n",
      "  warnings.warn(self.sol_.message, IntegrationWarning)\n",
      "/opt/anaconda3/envs/hux-rom/lib/python3.9/site-packages/rom_operator_inference/_core/_base.py:604: IntegrationWarning: Required step size is less than spacing between numbers.\n",
      "  warnings.warn(self.sol_.message, IntegrationWarning)\n"
     ]
    },
    {
     "name": "stdout",
     "output_type": "stream",
     "text": [
      "normal equations solve failed, switching lstsq solver\n"
     ]
    },
    {
     "name": "stderr",
     "output_type": "stream",
     "text": [
      "/opt/anaconda3/envs/hux-rom/lib/python3.9/site-packages/rom_operator_inference/_core/_base.py:604: IntegrationWarning: Required step size is less than spacing between numbers.\n",
      "  warnings.warn(self.sol_.message, IntegrationWarning)\n",
      "/opt/anaconda3/envs/hux-rom/lib/python3.9/site-packages/rom_operator_inference/_core/_base.py:604: IntegrationWarning: Required step size is less than spacing between numbers.\n",
      "  warnings.warn(self.sol_.message, IntegrationWarning)\n"
     ]
    },
    {
     "name": "stdout",
     "output_type": "stream",
     "text": [
      "normal equations solve failed, switching lstsq solver\n",
      "normal equations solve failed, switching lstsq solver\n"
     ]
    },
    {
     "name": "stderr",
     "output_type": "stream",
     "text": [
      "/opt/anaconda3/envs/hux-rom/lib/python3.9/site-packages/rom_operator_inference/_core/_base.py:604: IntegrationWarning: Required step size is less than spacing between numbers.\n",
      "  warnings.warn(self.sol_.message, IntegrationWarning)\n",
      "/opt/anaconda3/envs/hux-rom/lib/python3.9/site-packages/rom_operator_inference/_core/_base.py:604: IntegrationWarning: Required step size is less than spacing between numbers.\n",
      "  warnings.warn(self.sol_.message, IntegrationWarning)\n",
      "/opt/anaconda3/envs/hux-rom/lib/python3.9/site-packages/rom_operator_inference/lstsq/_tikhonov.py:398: LinAlgWarning: original least-squares system is underdetermined!\n",
      "  self._process_fit_arguments(A, B)\n"
     ]
    },
    {
     "name": "stdout",
     "output_type": "stream",
     "text": [
      "normal equations solve failed, switching lstsq solver\n",
      "normal equations solve failed, switching lstsq solver\n"
     ]
    },
    {
     "name": "stderr",
     "output_type": "stream",
     "text": [
      "/opt/anaconda3/envs/hux-rom/lib/python3.9/site-packages/rom_operator_inference/_core/_base.py:604: IntegrationWarning: Required step size is less than spacing between numbers.\n",
      "  warnings.warn(self.sol_.message, IntegrationWarning)\n",
      "/opt/anaconda3/envs/hux-rom/lib/python3.9/site-packages/rom_operator_inference/lstsq/_tikhonov.py:398: LinAlgWarning: original least-squares system is underdetermined!\n",
      "  self._process_fit_arguments(A, B)\n",
      "/opt/anaconda3/envs/hux-rom/lib/python3.9/site-packages/rom_operator_inference/_core/_base.py:604: IntegrationWarning: Required step size is less than spacing between numbers.\n",
      "  warnings.warn(self.sol_.message, IntegrationWarning)\n"
     ]
    },
    {
     "name": "stdout",
     "output_type": "stream",
     "text": [
      "normal equations solve failed, switching lstsq solver\n",
      "normal equations solve failed, switching lstsq solver\n",
      "normal equations solve failed, switching lstsq solver\n",
      "normal equations solve failed, switching lstsq solver\n",
      "normal equations solve failed, switching lstsq solver\n",
      "normal equations solve failed, switching lstsq solver\n"
     ]
    },
    {
     "name": "stderr",
     "output_type": "stream",
     "text": [
      "/opt/anaconda3/envs/hux-rom/lib/python3.9/site-packages/rom_operator_inference/_core/_base.py:604: IntegrationWarning: Required step size is less than spacing between numbers.\n",
      "  warnings.warn(self.sol_.message, IntegrationWarning)\n",
      "/opt/anaconda3/envs/hux-rom/lib/python3.9/site-packages/rom_operator_inference/_core/_base.py:604: IntegrationWarning: Required step size is less than spacing between numbers.\n",
      "  warnings.warn(self.sol_.message, IntegrationWarning)\n",
      "/opt/anaconda3/envs/hux-rom/lib/python3.9/site-packages/rom_operator_inference/_core/_base.py:604: IntegrationWarning: Required step size is less than spacing between numbers.\n",
      "  warnings.warn(self.sol_.message, IntegrationWarning)\n"
     ]
    },
    {
     "name": "stdout",
     "output_type": "stream",
     "text": [
      "normal equations solve failed, switching lstsq solver\n",
      "normal equations solve failed, switching lstsq solver\n"
     ]
    },
    {
     "name": "stderr",
     "output_type": "stream",
     "text": [
      "/opt/anaconda3/envs/hux-rom/lib/python3.9/site-packages/rom_operator_inference/_core/_base.py:604: IntegrationWarning: Required step size is less than spacing between numbers.\n",
      "  warnings.warn(self.sol_.message, IntegrationWarning)\n"
     ]
    },
    {
     "name": "stdout",
     "output_type": "stream",
     "text": [
      "normal equations solve failed, switching lstsq solver\n",
      "normal equations solve failed, switching lstsq solver\n",
      "normal equations solve failed, switching lstsq solver\n",
      "normal equations solve failed, switching lstsq solver\n"
     ]
    },
    {
     "name": "stderr",
     "output_type": "stream",
     "text": [
      "/opt/anaconda3/envs/hux-rom/lib/python3.9/site-packages/rom_operator_inference/lstsq/_tikhonov.py:398: LinAlgWarning: original least-squares system is underdetermined!\n",
      "  self._process_fit_arguments(A, B)\n"
     ]
    },
    {
     "name": "stdout",
     "output_type": "stream",
     "text": [
      "normal equations solve failed, switching lstsq solver\n"
     ]
    },
    {
     "name": "stderr",
     "output_type": "stream",
     "text": [
      "/opt/anaconda3/envs/hux-rom/lib/python3.9/site-packages/rom_operator_inference/lstsq/_tikhonov.py:398: LinAlgWarning: original least-squares system is underdetermined!\n",
      "  self._process_fit_arguments(A, B)\n",
      "/opt/anaconda3/envs/hux-rom/lib/python3.9/site-packages/rom_operator_inference/_core/_base.py:604: IntegrationWarning: Required step size is less than spacing between numbers.\n",
      "  warnings.warn(self.sol_.message, IntegrationWarning)\n"
     ]
    },
    {
     "name": "stdout",
     "output_type": "stream",
     "text": [
      "normal equations solve failed, switching lstsq solver\n",
      "normal equations solve failed, switching lstsq solver\n",
      "normal equations solve failed, switching lstsq solver\n",
      "normal equations solve failed, switching lstsq solver\n",
      "normal equations solve failed, switching lstsq solver\n",
      "normal equations solve failed, switching lstsq solver\n"
     ]
    },
    {
     "name": "stderr",
     "output_type": "stream",
     "text": [
      "/opt/anaconda3/envs/hux-rom/lib/python3.9/site-packages/rom_operator_inference/_core/_base.py:604: IntegrationWarning: Required step size is less than spacing between numbers.\n",
      "  warnings.warn(self.sol_.message, IntegrationWarning)\n",
      "/opt/anaconda3/envs/hux-rom/lib/python3.9/site-packages/rom_operator_inference/_core/_base.py:604: IntegrationWarning: Required step size is less than spacing between numbers.\n",
      "  warnings.warn(self.sol_.message, IntegrationWarning)\n",
      "/opt/anaconda3/envs/hux-rom/lib/python3.9/site-packages/rom_operator_inference/_core/_base.py:604: IntegrationWarning: Required step size is less than spacing between numbers.\n",
      "  warnings.warn(self.sol_.message, IntegrationWarning)\n"
     ]
    },
    {
     "name": "stdout",
     "output_type": "stream",
     "text": [
      "normal equations solve failed, switching lstsq solver\n",
      "normal equations solve failed, switching lstsq solver\n"
     ]
    },
    {
     "name": "stderr",
     "output_type": "stream",
     "text": [
      "/opt/anaconda3/envs/hux-rom/lib/python3.9/site-packages/rom_operator_inference/_core/_base.py:604: IntegrationWarning: Required step size is less than spacing between numbers.\n",
      "  warnings.warn(self.sol_.message, IntegrationWarning)\n"
     ]
    },
    {
     "name": "stdout",
     "output_type": "stream",
     "text": [
      "normal equations solve failed, switching lstsq solver\n",
      "normal equations solve failed, switching lstsq solver\n",
      "normal equations solve failed, switching lstsq solver\n",
      "normal equations solve failed, switching lstsq solver\n"
     ]
    },
    {
     "name": "stderr",
     "output_type": "stream",
     "text": [
      "/opt/anaconda3/envs/hux-rom/lib/python3.9/site-packages/rom_operator_inference/_core/_base.py:604: IntegrationWarning: Required step size is less than spacing between numbers.\n",
      "  warnings.warn(self.sol_.message, IntegrationWarning)\n",
      "/opt/anaconda3/envs/hux-rom/lib/python3.9/site-packages/rom_operator_inference/lstsq/_tikhonov.py:398: LinAlgWarning: original least-squares system is underdetermined!\n",
      "  self._process_fit_arguments(A, B)\n"
     ]
    },
    {
     "name": "stdout",
     "output_type": "stream",
     "text": [
      "normal equations solve failed, switching lstsq solver\n"
     ]
    },
    {
     "name": "stderr",
     "output_type": "stream",
     "text": [
      "/opt/anaconda3/envs/hux-rom/lib/python3.9/site-packages/rom_operator_inference/lstsq/_tikhonov.py:398: LinAlgWarning: original least-squares system is underdetermined!\n",
      "  self._process_fit_arguments(A, B)\n",
      "/opt/anaconda3/envs/hux-rom/lib/python3.9/site-packages/rom_operator_inference/_core/_base.py:604: IntegrationWarning: Required step size is less than spacing between numbers.\n",
      "  warnings.warn(self.sol_.message, IntegrationWarning)\n"
     ]
    },
    {
     "name": "stdout",
     "output_type": "stream",
     "text": [
      "normal equations solve failed, switching lstsq solver\n",
      "normal equations solve failed, switching lstsq solver\n",
      "normal equations solve failed, switching lstsq solver\n",
      "normal equations solve failed, switching lstsq solver\n",
      "normal equations solve failed, switching lstsq solver\n",
      "normal equations solve failed, switching lstsq solver\n"
     ]
    },
    {
     "name": "stderr",
     "output_type": "stream",
     "text": [
      "/opt/anaconda3/envs/hux-rom/lib/python3.9/site-packages/rom_operator_inference/_core/_base.py:604: IntegrationWarning: Required step size is less than spacing between numbers.\n",
      "  warnings.warn(self.sol_.message, IntegrationWarning)\n",
      "/opt/anaconda3/envs/hux-rom/lib/python3.9/site-packages/rom_operator_inference/_core/_base.py:604: IntegrationWarning: Required step size is less than spacing between numbers.\n",
      "  warnings.warn(self.sol_.message, IntegrationWarning)\n"
     ]
    },
    {
     "name": "stdout",
     "output_type": "stream",
     "text": [
      "normal equations solve failed, switching lstsq solver\n",
      "normal equations solve failed, switching lstsq solver\n"
     ]
    },
    {
     "name": "stderr",
     "output_type": "stream",
     "text": [
      "/opt/anaconda3/envs/hux-rom/lib/python3.9/site-packages/rom_operator_inference/_core/_base.py:604: IntegrationWarning: Required step size is less than spacing between numbers.\n",
      "  warnings.warn(self.sol_.message, IntegrationWarning)\n",
      "/opt/anaconda3/envs/hux-rom/lib/python3.9/site-packages/rom_operator_inference/_core/_base.py:604: IntegrationWarning: Required step size is less than spacing between numbers.\n",
      "  warnings.warn(self.sol_.message, IntegrationWarning)\n"
     ]
    },
    {
     "name": "stdout",
     "output_type": "stream",
     "text": [
      "normal equations solve failed, switching lstsq solver\n",
      "normal equations solve failed, switching lstsq solver\n",
      "normal equations solve failed, switching lstsq solver\n",
      "normal equations solve failed, switching lstsq solver\n"
     ]
    },
    {
     "name": "stderr",
     "output_type": "stream",
     "text": [
      "/opt/anaconda3/envs/hux-rom/lib/python3.9/site-packages/rom_operator_inference/lstsq/_tikhonov.py:398: LinAlgWarning: original least-squares system is underdetermined!\n",
      "  self._process_fit_arguments(A, B)\n"
     ]
    },
    {
     "name": "stdout",
     "output_type": "stream",
     "text": [
      "normal equations solve failed, switching lstsq solver\n"
     ]
    },
    {
     "name": "stderr",
     "output_type": "stream",
     "text": [
      "/opt/anaconda3/envs/hux-rom/lib/python3.9/site-packages/rom_operator_inference/lstsq/_tikhonov.py:398: LinAlgWarning: original least-squares system is underdetermined!\n",
      "  self._process_fit_arguments(A, B)\n"
     ]
    },
    {
     "name": "stdout",
     "output_type": "stream",
     "text": [
      "normal equations solve failed, switching lstsq solver\n"
     ]
    },
    {
     "name": "stderr",
     "output_type": "stream",
     "text": [
      "/opt/anaconda3/envs/hux-rom/lib/python3.9/site-packages/rom_operator_inference/_core/_base.py:604: IntegrationWarning: Required step size is less than spacing between numbers.\n",
      "  warnings.warn(self.sol_.message, IntegrationWarning)\n"
     ]
    },
    {
     "name": "stdout",
     "output_type": "stream",
     "text": [
      "normal equations solve failed, switching lstsq solver\n",
      "normal equations solve failed, switching lstsq solver\n",
      "normal equations solve failed, switching lstsq solver\n"
     ]
    },
    {
     "name": "stderr",
     "output_type": "stream",
     "text": [
      "/opt/anaconda3/envs/hux-rom/lib/python3.9/site-packages/rom_operator_inference/_core/_base.py:604: IntegrationWarning: Required step size is less than spacing between numbers.\n",
      "  warnings.warn(self.sol_.message, IntegrationWarning)\n"
     ]
    },
    {
     "name": "stdout",
     "output_type": "stream",
     "text": [
      "normal equations solve failed, switching lstsq solver\n",
      "normal equations solve failed, switching lstsq solver\n"
     ]
    },
    {
     "name": "stderr",
     "output_type": "stream",
     "text": [
      "/opt/anaconda3/envs/hux-rom/lib/python3.9/site-packages/rom_operator_inference/_core/_base.py:604: IntegrationWarning: Required step size is less than spacing between numbers.\n",
      "  warnings.warn(self.sol_.message, IntegrationWarning)\n",
      "/opt/anaconda3/envs/hux-rom/lib/python3.9/site-packages/rom_operator_inference/_core/_base.py:604: IntegrationWarning: Required step size is less than spacing between numbers.\n",
      "  warnings.warn(self.sol_.message, IntegrationWarning)\n"
     ]
    },
    {
     "name": "stdout",
     "output_type": "stream",
     "text": [
      "normal equations solve failed, switching lstsq solver\n",
      "normal equations solve failed, switching lstsq solver\n"
     ]
    },
    {
     "name": "stderr",
     "output_type": "stream",
     "text": [
      "/opt/anaconda3/envs/hux-rom/lib/python3.9/site-packages/rom_operator_inference/_core/_base.py:604: IntegrationWarning: Required step size is less than spacing between numbers.\n",
      "  warnings.warn(self.sol_.message, IntegrationWarning)\n",
      "/opt/anaconda3/envs/hux-rom/lib/python3.9/site-packages/rom_operator_inference/_core/_base.py:604: IntegrationWarning: Required step size is less than spacing between numbers.\n",
      "  warnings.warn(self.sol_.message, IntegrationWarning)\n"
     ]
    },
    {
     "name": "stdout",
     "output_type": "stream",
     "text": [
      "normal equations solve failed, switching lstsq solver\n",
      "normal equations solve failed, switching lstsq solver\n",
      "normal equations solve failed, switching lstsq solver\n",
      "normal equations solve failed, switching lstsq solver\n"
     ]
    },
    {
     "name": "stderr",
     "output_type": "stream",
     "text": [
      "/opt/anaconda3/envs/hux-rom/lib/python3.9/site-packages/rom_operator_inference/lstsq/_tikhonov.py:398: LinAlgWarning: original least-squares system is underdetermined!\n",
      "  self._process_fit_arguments(A, B)\n"
     ]
    },
    {
     "name": "stdout",
     "output_type": "stream",
     "text": [
      "normal equations solve failed, switching lstsq solver\n"
     ]
    },
    {
     "name": "stderr",
     "output_type": "stream",
     "text": [
      "/opt/anaconda3/envs/hux-rom/lib/python3.9/site-packages/rom_operator_inference/lstsq/_tikhonov.py:398: LinAlgWarning: original least-squares system is underdetermined!\n",
      "  self._process_fit_arguments(A, B)\n",
      "/opt/anaconda3/envs/hux-rom/lib/python3.9/site-packages/rom_operator_inference/_core/_base.py:604: IntegrationWarning: Required step size is less than spacing between numbers.\n",
      "  warnings.warn(self.sol_.message, IntegrationWarning)\n"
     ]
    },
    {
     "name": "stdout",
     "output_type": "stream",
     "text": [
      "normal equations solve failed, switching lstsq solver\n",
      "normal equations solve failed, switching lstsq solver\n",
      "normal equations solve failed, switching lstsq solver\n",
      "normal equations solve failed, switching lstsq solver\n",
      "normal equations solve failed, switching lstsq solver\n",
      "normal equations solve failed, switching lstsq solver\n"
     ]
    },
    {
     "name": "stderr",
     "output_type": "stream",
     "text": [
      "/opt/anaconda3/envs/hux-rom/lib/python3.9/site-packages/rom_operator_inference/_core/_base.py:604: IntegrationWarning: Required step size is less than spacing between numbers.\n",
      "  warnings.warn(self.sol_.message, IntegrationWarning)\n",
      "/opt/anaconda3/envs/hux-rom/lib/python3.9/site-packages/rom_operator_inference/_core/_base.py:604: IntegrationWarning: Required step size is less than spacing between numbers.\n",
      "  warnings.warn(self.sol_.message, IntegrationWarning)\n"
     ]
    },
    {
     "name": "stdout",
     "output_type": "stream",
     "text": [
      "normal equations solve failed, switching lstsq solver\n",
      "normal equations solve failed, switching lstsq solver\n"
     ]
    },
    {
     "name": "stderr",
     "output_type": "stream",
     "text": [
      "/opt/anaconda3/envs/hux-rom/lib/python3.9/site-packages/rom_operator_inference/_core/_base.py:604: IntegrationWarning: Required step size is less than spacing between numbers.\n",
      "  warnings.warn(self.sol_.message, IntegrationWarning)\n",
      "/opt/anaconda3/envs/hux-rom/lib/python3.9/site-packages/rom_operator_inference/_core/_base.py:604: IntegrationWarning: Required step size is less than spacing between numbers.\n",
      "  warnings.warn(self.sol_.message, IntegrationWarning)\n"
     ]
    },
    {
     "name": "stdout",
     "output_type": "stream",
     "text": [
      "normal equations solve failed, switching lstsq solver\n",
      "normal equations solve failed, switching lstsq solver\n"
     ]
    },
    {
     "name": "stderr",
     "output_type": "stream",
     "text": [
      "/opt/anaconda3/envs/hux-rom/lib/python3.9/site-packages/rom_operator_inference/_core/_base.py:604: IntegrationWarning: Required step size is less than spacing between numbers.\n",
      "  warnings.warn(self.sol_.message, IntegrationWarning)\n",
      "/opt/anaconda3/envs/hux-rom/lib/python3.9/site-packages/rom_operator_inference/_core/_base.py:604: IntegrationWarning: Required step size is less than spacing between numbers.\n",
      "  warnings.warn(self.sol_.message, IntegrationWarning)\n"
     ]
    },
    {
     "name": "stdout",
     "output_type": "stream",
     "text": [
      "normal equations solve failed, switching lstsq solver\n",
      "normal equations solve failed, switching lstsq solver\n"
     ]
    },
    {
     "name": "stderr",
     "output_type": "stream",
     "text": [
      "/opt/anaconda3/envs/hux-rom/lib/python3.9/site-packages/rom_operator_inference/_core/_base.py:604: IntegrationWarning: Required step size is less than spacing between numbers.\n",
      "  warnings.warn(self.sol_.message, IntegrationWarning)\n",
      "/opt/anaconda3/envs/hux-rom/lib/python3.9/site-packages/rom_operator_inference/_core/_base.py:604: IntegrationWarning: Required step size is less than spacing between numbers.\n",
      "  warnings.warn(self.sol_.message, IntegrationWarning)\n",
      "/opt/anaconda3/envs/hux-rom/lib/python3.9/site-packages/rom_operator_inference/lstsq/_tikhonov.py:398: LinAlgWarning: original least-squares system is underdetermined!\n",
      "  self._process_fit_arguments(A, B)\n"
     ]
    },
    {
     "name": "stdout",
     "output_type": "stream",
     "text": [
      "normal equations solve failed, switching lstsq solver\n",
      "normal equations solve failed, switching lstsq solver\n"
     ]
    },
    {
     "name": "stderr",
     "output_type": "stream",
     "text": [
      "/opt/anaconda3/envs/hux-rom/lib/python3.9/site-packages/rom_operator_inference/_core/_base.py:604: IntegrationWarning: Required step size is less than spacing between numbers.\n",
      "  warnings.warn(self.sol_.message, IntegrationWarning)\n",
      "/opt/anaconda3/envs/hux-rom/lib/python3.9/site-packages/rom_operator_inference/lstsq/_tikhonov.py:398: LinAlgWarning: original least-squares system is underdetermined!\n",
      "  self._process_fit_arguments(A, B)\n",
      "/opt/anaconda3/envs/hux-rom/lib/python3.9/site-packages/rom_operator_inference/_core/_base.py:604: IntegrationWarning: Required step size is less than spacing between numbers.\n",
      "  warnings.warn(self.sol_.message, IntegrationWarning)\n"
     ]
    },
    {
     "name": "stdout",
     "output_type": "stream",
     "text": [
      "normal equations solve failed, switching lstsq solver\n",
      "normal equations solve failed, switching lstsq solver\n",
      "normal equations solve failed, switching lstsq solver\n",
      "normal equations solve failed, switching lstsq solver\n",
      "normal equations solve failed, switching lstsq solver\n"
     ]
    },
    {
     "name": "stderr",
     "output_type": "stream",
     "text": [
      "/opt/anaconda3/envs/hux-rom/lib/python3.9/site-packages/rom_operator_inference/_core/_base.py:604: IntegrationWarning: Required step size is less than spacing between numbers.\n",
      "  warnings.warn(self.sol_.message, IntegrationWarning)\n",
      "/opt/anaconda3/envs/hux-rom/lib/python3.9/site-packages/rom_operator_inference/_core/_base.py:604: IntegrationWarning: Required step size is less than spacing between numbers.\n",
      "  warnings.warn(self.sol_.message, IntegrationWarning)\n"
     ]
    },
    {
     "name": "stdout",
     "output_type": "stream",
     "text": [
      "normal equations solve failed, switching lstsq solver\n",
      "normal equations solve failed, switching lstsq solver\n"
     ]
    },
    {
     "name": "stderr",
     "output_type": "stream",
     "text": [
      "/opt/anaconda3/envs/hux-rom/lib/python3.9/site-packages/rom_operator_inference/_core/_base.py:604: IntegrationWarning: Required step size is less than spacing between numbers.\n",
      "  warnings.warn(self.sol_.message, IntegrationWarning)\n",
      "/opt/anaconda3/envs/hux-rom/lib/python3.9/site-packages/rom_operator_inference/_core/_base.py:604: IntegrationWarning: Required step size is less than spacing between numbers.\n",
      "  warnings.warn(self.sol_.message, IntegrationWarning)\n"
     ]
    },
    {
     "name": "stdout",
     "output_type": "stream",
     "text": [
      "normal equations solve failed, switching lstsq solver\n",
      "normal equations solve failed, switching lstsq solver\n"
     ]
    },
    {
     "name": "stderr",
     "output_type": "stream",
     "text": [
      "/opt/anaconda3/envs/hux-rom/lib/python3.9/site-packages/rom_operator_inference/_core/_base.py:604: IntegrationWarning: Required step size is less than spacing between numbers.\n",
      "  warnings.warn(self.sol_.message, IntegrationWarning)\n",
      "/opt/anaconda3/envs/hux-rom/lib/python3.9/site-packages/rom_operator_inference/_core/_base.py:604: IntegrationWarning: Required step size is less than spacing between numbers.\n",
      "  warnings.warn(self.sol_.message, IntegrationWarning)\n"
     ]
    },
    {
     "name": "stdout",
     "output_type": "stream",
     "text": [
      "normal equations solve failed, switching lstsq solver\n",
      "normal equations solve failed, switching lstsq solver\n"
     ]
    },
    {
     "name": "stderr",
     "output_type": "stream",
     "text": [
      "/opt/anaconda3/envs/hux-rom/lib/python3.9/site-packages/rom_operator_inference/_core/_base.py:604: IntegrationWarning: Required step size is less than spacing between numbers.\n",
      "  warnings.warn(self.sol_.message, IntegrationWarning)\n",
      "/opt/anaconda3/envs/hux-rom/lib/python3.9/site-packages/rom_operator_inference/_core/_base.py:604: IntegrationWarning: Required step size is less than spacing between numbers.\n",
      "  warnings.warn(self.sol_.message, IntegrationWarning)\n",
      "/opt/anaconda3/envs/hux-rom/lib/python3.9/site-packages/rom_operator_inference/lstsq/_tikhonov.py:398: LinAlgWarning: original least-squares system is underdetermined!\n",
      "  self._process_fit_arguments(A, B)\n"
     ]
    },
    {
     "name": "stdout",
     "output_type": "stream",
     "text": [
      "normal equations solve failed, switching lstsq solver\n",
      "normal equations solve failed, switching lstsq solver\n"
     ]
    },
    {
     "name": "stderr",
     "output_type": "stream",
     "text": [
      "/opt/anaconda3/envs/hux-rom/lib/python3.9/site-packages/rom_operator_inference/_core/_base.py:604: IntegrationWarning: Required step size is less than spacing between numbers.\n",
      "  warnings.warn(self.sol_.message, IntegrationWarning)\n",
      "/opt/anaconda3/envs/hux-rom/lib/python3.9/site-packages/rom_operator_inference/lstsq/_tikhonov.py:398: LinAlgWarning: original least-squares system is underdetermined!\n",
      "  self._process_fit_arguments(A, B)\n",
      "/opt/anaconda3/envs/hux-rom/lib/python3.9/site-packages/rom_operator_inference/_core/_base.py:604: IntegrationWarning: Required step size is less than spacing between numbers.\n",
      "  warnings.warn(self.sol_.message, IntegrationWarning)\n"
     ]
    },
    {
     "name": "stdout",
     "output_type": "stream",
     "text": [
      "normal equations solve failed, switching lstsq solver\n",
      "normal equations solve failed, switching lstsq solver\n",
      "normal equations solve failed, switching lstsq solver\n",
      "normal equations solve failed, switching lstsq solver\n",
      "normal equations solve failed, switching lstsq solver\n"
     ]
    },
    {
     "name": "stderr",
     "output_type": "stream",
     "text": [
      "/opt/anaconda3/envs/hux-rom/lib/python3.9/site-packages/rom_operator_inference/_core/_base.py:604: IntegrationWarning: Required step size is less than spacing between numbers.\n",
      "  warnings.warn(self.sol_.message, IntegrationWarning)\n",
      "/opt/anaconda3/envs/hux-rom/lib/python3.9/site-packages/rom_operator_inference/_core/_base.py:604: IntegrationWarning: Required step size is less than spacing between numbers.\n",
      "  warnings.warn(self.sol_.message, IntegrationWarning)\n"
     ]
    },
    {
     "name": "stdout",
     "output_type": "stream",
     "text": [
      "normal equations solve failed, switching lstsq solver\n",
      "normal equations solve failed, switching lstsq solver\n"
     ]
    },
    {
     "name": "stderr",
     "output_type": "stream",
     "text": [
      "/opt/anaconda3/envs/hux-rom/lib/python3.9/site-packages/rom_operator_inference/_core/_base.py:604: IntegrationWarning: Required step size is less than spacing between numbers.\n",
      "  warnings.warn(self.sol_.message, IntegrationWarning)\n",
      "/opt/anaconda3/envs/hux-rom/lib/python3.9/site-packages/rom_operator_inference/_core/_base.py:604: IntegrationWarning: Required step size is less than spacing between numbers.\n",
      "  warnings.warn(self.sol_.message, IntegrationWarning)\n"
     ]
    },
    {
     "name": "stdout",
     "output_type": "stream",
     "text": [
      "normal equations solve failed, switching lstsq solver\n",
      "normal equations solve failed, switching lstsq solver\n"
     ]
    },
    {
     "name": "stderr",
     "output_type": "stream",
     "text": [
      "/opt/anaconda3/envs/hux-rom/lib/python3.9/site-packages/rom_operator_inference/_core/_base.py:604: IntegrationWarning: Required step size is less than spacing between numbers.\n",
      "  warnings.warn(self.sol_.message, IntegrationWarning)\n",
      "/opt/anaconda3/envs/hux-rom/lib/python3.9/site-packages/rom_operator_inference/_core/_base.py:604: IntegrationWarning: Required step size is less than spacing between numbers.\n",
      "  warnings.warn(self.sol_.message, IntegrationWarning)\n"
     ]
    },
    {
     "name": "stdout",
     "output_type": "stream",
     "text": [
      "normal equations solve failed, switching lstsq solver\n",
      "normal equations solve failed, switching lstsq solver\n"
     ]
    },
    {
     "name": "stderr",
     "output_type": "stream",
     "text": [
      "/opt/anaconda3/envs/hux-rom/lib/python3.9/site-packages/rom_operator_inference/_core/_base.py:604: IntegrationWarning: Required step size is less than spacing between numbers.\n",
      "  warnings.warn(self.sol_.message, IntegrationWarning)\n",
      "/opt/anaconda3/envs/hux-rom/lib/python3.9/site-packages/rom_operator_inference/_core/_base.py:604: IntegrationWarning: Required step size is less than spacing between numbers.\n",
      "  warnings.warn(self.sol_.message, IntegrationWarning)\n",
      "/opt/anaconda3/envs/hux-rom/lib/python3.9/site-packages/rom_operator_inference/lstsq/_tikhonov.py:398: LinAlgWarning: original least-squares system is underdetermined!\n",
      "  self._process_fit_arguments(A, B)\n",
      "/opt/anaconda3/envs/hux-rom/lib/python3.9/site-packages/rom_operator_inference/_core/_base.py:604: IntegrationWarning: Required step size is less than spacing between numbers.\n",
      "  warnings.warn(self.sol_.message, IntegrationWarning)\n",
      "/opt/anaconda3/envs/hux-rom/lib/python3.9/site-packages/rom_operator_inference/lstsq/_tikhonov.py:398: LinAlgWarning: original least-squares system is underdetermined!\n",
      "  self._process_fit_arguments(A, B)\n"
     ]
    },
    {
     "name": "stdout",
     "output_type": "stream",
     "text": [
      "normal equations solve failed, switching lstsq solver\n",
      "normal equations solve failed, switching lstsq solver\n"
     ]
    },
    {
     "name": "stderr",
     "output_type": "stream",
     "text": [
      "/opt/anaconda3/envs/hux-rom/lib/python3.9/site-packages/rom_operator_inference/_core/_base.py:604: IntegrationWarning: Required step size is less than spacing between numbers.\n",
      "  warnings.warn(self.sol_.message, IntegrationWarning)\n"
     ]
    },
    {
     "name": "stdout",
     "output_type": "stream",
     "text": [
      "normal equations solve failed, switching lstsq solver\n",
      "normal equations solve failed, switching lstsq solver\n",
      "normal equations solve failed, switching lstsq solver\n",
      "normal equations solve failed, switching lstsq solver\n",
      "normal equations solve failed, switching lstsq solver\n"
     ]
    },
    {
     "name": "stderr",
     "output_type": "stream",
     "text": [
      "/opt/anaconda3/envs/hux-rom/lib/python3.9/site-packages/rom_operator_inference/_core/_base.py:604: IntegrationWarning: Required step size is less than spacing between numbers.\n",
      "  warnings.warn(self.sol_.message, IntegrationWarning)\n",
      "/opt/anaconda3/envs/hux-rom/lib/python3.9/site-packages/rom_operator_inference/_core/_base.py:604: IntegrationWarning: Required step size is less than spacing between numbers.\n",
      "  warnings.warn(self.sol_.message, IntegrationWarning)\n"
     ]
    },
    {
     "name": "stdout",
     "output_type": "stream",
     "text": [
      "normal equations solve failed, switching lstsq solver\n",
      "normal equations solve failed, switching lstsq solver\n"
     ]
    },
    {
     "name": "stderr",
     "output_type": "stream",
     "text": [
      "/opt/anaconda3/envs/hux-rom/lib/python3.9/site-packages/rom_operator_inference/_core/_base.py:604: IntegrationWarning: Required step size is less than spacing between numbers.\n",
      "  warnings.warn(self.sol_.message, IntegrationWarning)\n",
      "/opt/anaconda3/envs/hux-rom/lib/python3.9/site-packages/rom_operator_inference/_core/_base.py:604: IntegrationWarning: Required step size is less than spacing between numbers.\n",
      "  warnings.warn(self.sol_.message, IntegrationWarning)\n"
     ]
    },
    {
     "name": "stdout",
     "output_type": "stream",
     "text": [
      "normal equations solve failed, switching lstsq solver\n",
      "normal equations solve failed, switching lstsq solver\n"
     ]
    },
    {
     "name": "stderr",
     "output_type": "stream",
     "text": [
      "/opt/anaconda3/envs/hux-rom/lib/python3.9/site-packages/rom_operator_inference/_core/_base.py:604: IntegrationWarning: Required step size is less than spacing between numbers.\n",
      "  warnings.warn(self.sol_.message, IntegrationWarning)\n",
      "/opt/anaconda3/envs/hux-rom/lib/python3.9/site-packages/rom_operator_inference/_core/_base.py:604: IntegrationWarning: Required step size is less than spacing between numbers.\n",
      "  warnings.warn(self.sol_.message, IntegrationWarning)\n"
     ]
    },
    {
     "name": "stdout",
     "output_type": "stream",
     "text": [
      "normal equations solve failed, switching lstsq solver\n"
     ]
    },
    {
     "name": "stderr",
     "output_type": "stream",
     "text": [
      "/opt/anaconda3/envs/hux-rom/lib/python3.9/site-packages/rom_operator_inference/_core/_base.py:604: IntegrationWarning: Required step size is less than spacing between numbers.\n",
      "  warnings.warn(self.sol_.message, IntegrationWarning)\n",
      "/opt/anaconda3/envs/hux-rom/lib/python3.9/site-packages/rom_operator_inference/_core/_base.py:604: IntegrationWarning: Required step size is less than spacing between numbers.\n",
      "  warnings.warn(self.sol_.message, IntegrationWarning)\n"
     ]
    },
    {
     "name": "stdout",
     "output_type": "stream",
     "text": [
      "normal equations solve failed, switching lstsq solver\n",
      "normal equations solve failed, switching lstsq solver\n"
     ]
    },
    {
     "name": "stderr",
     "output_type": "stream",
     "text": [
      "/opt/anaconda3/envs/hux-rom/lib/python3.9/site-packages/rom_operator_inference/lstsq/_tikhonov.py:398: LinAlgWarning: original least-squares system is underdetermined!\n",
      "  self._process_fit_arguments(A, B)\n",
      "/opt/anaconda3/envs/hux-rom/lib/python3.9/site-packages/rom_operator_inference/_core/_base.py:604: IntegrationWarning: Required step size is less than spacing between numbers.\n",
      "  warnings.warn(self.sol_.message, IntegrationWarning)\n",
      "/opt/anaconda3/envs/hux-rom/lib/python3.9/site-packages/rom_operator_inference/lstsq/_tikhonov.py:398: LinAlgWarning: original least-squares system is underdetermined!\n",
      "  self._process_fit_arguments(A, B)\n",
      "/opt/anaconda3/envs/hux-rom/lib/python3.9/site-packages/rom_operator_inference/_core/_base.py:604: IntegrationWarning: Required step size is less than spacing between numbers.\n",
      "  warnings.warn(self.sol_.message, IntegrationWarning)\n"
     ]
    },
    {
     "name": "stdout",
     "output_type": "stream",
     "text": [
      "normal equations solve failed, switching lstsq solver\n",
      "normal equations solve failed, switching lstsq solver\n",
      "normal equations solve failed, switching lstsq solver\n",
      "normal equations solve failed, switching lstsq solver\n",
      "normal equations solve failed, switching lstsq solver\n",
      "normal equations solve failed, switching lstsq solver\n"
     ]
    },
    {
     "name": "stderr",
     "output_type": "stream",
     "text": [
      "/opt/anaconda3/envs/hux-rom/lib/python3.9/site-packages/rom_operator_inference/_core/_base.py:604: IntegrationWarning: Required step size is less than spacing between numbers.\n",
      "  warnings.warn(self.sol_.message, IntegrationWarning)\n",
      "/opt/anaconda3/envs/hux-rom/lib/python3.9/site-packages/rom_operator_inference/_core/_base.py:604: IntegrationWarning: Required step size is less than spacing between numbers.\n",
      "  warnings.warn(self.sol_.message, IntegrationWarning)\n"
     ]
    },
    {
     "name": "stdout",
     "output_type": "stream",
     "text": [
      "normal equations solve failed, switching lstsq solver\n"
     ]
    },
    {
     "name": "stderr",
     "output_type": "stream",
     "text": [
      "/opt/anaconda3/envs/hux-rom/lib/python3.9/site-packages/rom_operator_inference/_core/_base.py:604: IntegrationWarning: Required step size is less than spacing between numbers.\n",
      "  warnings.warn(self.sol_.message, IntegrationWarning)\n"
     ]
    },
    {
     "name": "stdout",
     "output_type": "stream",
     "text": [
      "normal equations solve failed, switching lstsq solver\n"
     ]
    },
    {
     "name": "stderr",
     "output_type": "stream",
     "text": [
      "/opt/anaconda3/envs/hux-rom/lib/python3.9/site-packages/rom_operator_inference/_core/_base.py:604: IntegrationWarning: Required step size is less than spacing between numbers.\n",
      "  warnings.warn(self.sol_.message, IntegrationWarning)\n"
     ]
    },
    {
     "name": "stdout",
     "output_type": "stream",
     "text": [
      "normal equations solve failed, switching lstsq solver\n"
     ]
    },
    {
     "name": "stderr",
     "output_type": "stream",
     "text": [
      "/opt/anaconda3/envs/hux-rom/lib/python3.9/site-packages/rom_operator_inference/_core/_base.py:604: IntegrationWarning: Required step size is less than spacing between numbers.\n",
      "  warnings.warn(self.sol_.message, IntegrationWarning)\n"
     ]
    },
    {
     "name": "stdout",
     "output_type": "stream",
     "text": [
      "normal equations solve failed, switching lstsq solver\n"
     ]
    },
    {
     "name": "stderr",
     "output_type": "stream",
     "text": [
      "/opt/anaconda3/envs/hux-rom/lib/python3.9/site-packages/rom_operator_inference/_core/_base.py:604: IntegrationWarning: Required step size is less than spacing between numbers.\n",
      "  warnings.warn(self.sol_.message, IntegrationWarning)\n",
      "/opt/anaconda3/envs/hux-rom/lib/python3.9/site-packages/rom_operator_inference/_core/_base.py:604: IntegrationWarning: Required step size is less than spacing between numbers.\n",
      "  warnings.warn(self.sol_.message, IntegrationWarning)\n"
     ]
    },
    {
     "name": "stdout",
     "output_type": "stream",
     "text": [
      "normal equations solve failed, switching lstsq solver\n",
      "normal equations solve failed, switching lstsq solver\n"
     ]
    },
    {
     "name": "stderr",
     "output_type": "stream",
     "text": [
      "/opt/anaconda3/envs/hux-rom/lib/python3.9/site-packages/rom_operator_inference/_core/_base.py:604: IntegrationWarning: Required step size is less than spacing between numbers.\n",
      "  warnings.warn(self.sol_.message, IntegrationWarning)\n",
      "/opt/anaconda3/envs/hux-rom/lib/python3.9/site-packages/rom_operator_inference/lstsq/_tikhonov.py:398: LinAlgWarning: original least-squares system is underdetermined!\n",
      "  self._process_fit_arguments(A, B)\n",
      "/opt/anaconda3/envs/hux-rom/lib/python3.9/site-packages/rom_operator_inference/_core/_base.py:604: IntegrationWarning: Required step size is less than spacing between numbers.\n",
      "  warnings.warn(self.sol_.message, IntegrationWarning)\n"
     ]
    },
    {
     "name": "stdout",
     "output_type": "stream",
     "text": [
      "normal equations solve failed, switching lstsq solver\n",
      "normal equations solve failed, switching lstsq solver\n"
     ]
    },
    {
     "name": "stderr",
     "output_type": "stream",
     "text": [
      "/opt/anaconda3/envs/hux-rom/lib/python3.9/site-packages/rom_operator_inference/lstsq/_tikhonov.py:398: LinAlgWarning: original least-squares system is underdetermined!\n",
      "  self._process_fit_arguments(A, B)\n",
      "/opt/anaconda3/envs/hux-rom/lib/python3.9/site-packages/rom_operator_inference/_core/_base.py:604: IntegrationWarning: Required step size is less than spacing between numbers.\n",
      "  warnings.warn(self.sol_.message, IntegrationWarning)\n"
     ]
    },
    {
     "name": "stdout",
     "output_type": "stream",
     "text": [
      "normal equations solve failed, switching lstsq solver\n",
      "normal equations solve failed, switching lstsq solver\n",
      "normal equations solve failed, switching lstsq solver\n",
      "normal equations solve failed, switching lstsq solver\n",
      "normal equations solve failed, switching lstsq solver\n",
      "normal equations solve failed, switching lstsq solver\n"
     ]
    },
    {
     "name": "stderr",
     "output_type": "stream",
     "text": [
      "/opt/anaconda3/envs/hux-rom/lib/python3.9/site-packages/rom_operator_inference/_core/_base.py:604: IntegrationWarning: Required step size is less than spacing between numbers.\n",
      "  warnings.warn(self.sol_.message, IntegrationWarning)\n",
      "/opt/anaconda3/envs/hux-rom/lib/python3.9/site-packages/rom_operator_inference/_core/_base.py:604: IntegrationWarning: Required step size is less than spacing between numbers.\n",
      "  warnings.warn(self.sol_.message, IntegrationWarning)\n"
     ]
    },
    {
     "name": "stdout",
     "output_type": "stream",
     "text": [
      "normal equations solve failed, switching lstsq solver\n",
      "normal equations solve failed, switching lstsq solver\n"
     ]
    },
    {
     "name": "stderr",
     "output_type": "stream",
     "text": [
      "/opt/anaconda3/envs/hux-rom/lib/python3.9/site-packages/rom_operator_inference/_core/_base.py:604: IntegrationWarning: Required step size is less than spacing between numbers.\n",
      "  warnings.warn(self.sol_.message, IntegrationWarning)\n",
      "/opt/anaconda3/envs/hux-rom/lib/python3.9/site-packages/rom_operator_inference/_core/_base.py:604: IntegrationWarning: Required step size is less than spacing between numbers.\n",
      "  warnings.warn(self.sol_.message, IntegrationWarning)\n"
     ]
    },
    {
     "name": "stdout",
     "output_type": "stream",
     "text": [
      "normal equations solve failed, switching lstsq solver\n",
      "normal equations solve failed, switching lstsq solver\n"
     ]
    },
    {
     "name": "stderr",
     "output_type": "stream",
     "text": [
      "/opt/anaconda3/envs/hux-rom/lib/python3.9/site-packages/rom_operator_inference/_core/_base.py:604: IntegrationWarning: Required step size is less than spacing between numbers.\n",
      "  warnings.warn(self.sol_.message, IntegrationWarning)\n",
      "/opt/anaconda3/envs/hux-rom/lib/python3.9/site-packages/rom_operator_inference/_core/_base.py:604: IntegrationWarning: Required step size is less than spacing between numbers.\n",
      "  warnings.warn(self.sol_.message, IntegrationWarning)\n"
     ]
    },
    {
     "name": "stdout",
     "output_type": "stream",
     "text": [
      "normal equations solve failed, switching lstsq solver\n",
      "normal equations solve failed, switching lstsq solver\n"
     ]
    },
    {
     "name": "stderr",
     "output_type": "stream",
     "text": [
      "/opt/anaconda3/envs/hux-rom/lib/python3.9/site-packages/rom_operator_inference/_core/_base.py:604: IntegrationWarning: Required step size is less than spacing between numbers.\n",
      "  warnings.warn(self.sol_.message, IntegrationWarning)\n",
      "/opt/anaconda3/envs/hux-rom/lib/python3.9/site-packages/rom_operator_inference/lstsq/_tikhonov.py:398: LinAlgWarning: original least-squares system is underdetermined!\n",
      "  self._process_fit_arguments(A, B)\n",
      "/opt/anaconda3/envs/hux-rom/lib/python3.9/site-packages/rom_operator_inference/_core/_base.py:604: IntegrationWarning: Required step size is less than spacing between numbers.\n",
      "  warnings.warn(self.sol_.message, IntegrationWarning)\n",
      "/opt/anaconda3/envs/hux-rom/lib/python3.9/site-packages/rom_operator_inference/lstsq/_tikhonov.py:398: LinAlgWarning: original least-squares system is underdetermined!\n",
      "  self._process_fit_arguments(A, B)\n"
     ]
    },
    {
     "name": "stdout",
     "output_type": "stream",
     "text": [
      "normal equations solve failed, switching lstsq solver\n"
     ]
    },
    {
     "name": "stderr",
     "output_type": "stream",
     "text": [
      "/opt/anaconda3/envs/hux-rom/lib/python3.9/site-packages/rom_operator_inference/_core/_base.py:604: IntegrationWarning: Required step size is less than spacing between numbers.\n",
      "  warnings.warn(self.sol_.message, IntegrationWarning)\n"
     ]
    },
    {
     "name": "stdout",
     "output_type": "stream",
     "text": [
      "normal equations solve failed, switching lstsq solver\n",
      "normal equations solve failed, switching lstsq solver\n",
      "normal equations solve failed, switching lstsq solver\n",
      "normal equations solve failed, switching lstsq solver\n",
      "normal equations solve failed, switching lstsq solver\n"
     ]
    },
    {
     "name": "stderr",
     "output_type": "stream",
     "text": [
      "/opt/anaconda3/envs/hux-rom/lib/python3.9/site-packages/rom_operator_inference/_core/_base.py:604: IntegrationWarning: Required step size is less than spacing between numbers.\n",
      "  warnings.warn(self.sol_.message, IntegrationWarning)\n",
      "/opt/anaconda3/envs/hux-rom/lib/python3.9/site-packages/rom_operator_inference/_core/_base.py:604: IntegrationWarning: Required step size is less than spacing between numbers.\n",
      "  warnings.warn(self.sol_.message, IntegrationWarning)\n"
     ]
    },
    {
     "name": "stdout",
     "output_type": "stream",
     "text": [
      "normal equations solve failed, switching lstsq solver\n",
      "normal equations solve failed, switching lstsq solver\n"
     ]
    },
    {
     "name": "stderr",
     "output_type": "stream",
     "text": [
      "/opt/anaconda3/envs/hux-rom/lib/python3.9/site-packages/rom_operator_inference/_core/_base.py:604: IntegrationWarning: Required step size is less than spacing between numbers.\n",
      "  warnings.warn(self.sol_.message, IntegrationWarning)\n",
      "/opt/anaconda3/envs/hux-rom/lib/python3.9/site-packages/rom_operator_inference/_core/_base.py:604: IntegrationWarning: Required step size is less than spacing between numbers.\n",
      "  warnings.warn(self.sol_.message, IntegrationWarning)\n"
     ]
    },
    {
     "name": "stdout",
     "output_type": "stream",
     "text": [
      "normal equations solve failed, switching lstsq solver\n",
      "normal equations solve failed, switching lstsq solver\n",
      "normal equations solve failed, switching lstsq solver\n",
      "normal equations solve failed, switching lstsq solver\n"
     ]
    },
    {
     "name": "stderr",
     "output_type": "stream",
     "text": [
      "/opt/anaconda3/envs/hux-rom/lib/python3.9/site-packages/rom_operator_inference/lstsq/_tikhonov.py:398: LinAlgWarning: original least-squares system is underdetermined!\n",
      "  self._process_fit_arguments(A, B)\n"
     ]
    },
    {
     "name": "stdout",
     "output_type": "stream",
     "text": [
      "normal equations solve failed, switching lstsq solver\n"
     ]
    },
    {
     "name": "stderr",
     "output_type": "stream",
     "text": [
      "/opt/anaconda3/envs/hux-rom/lib/python3.9/site-packages/rom_operator_inference/lstsq/_tikhonov.py:398: LinAlgWarning: original least-squares system is underdetermined!\n",
      "  self._process_fit_arguments(A, B)\n",
      "/opt/anaconda3/envs/hux-rom/lib/python3.9/site-packages/rom_operator_inference/_core/_base.py:604: IntegrationWarning: Required step size is less than spacing between numbers.\n",
      "  warnings.warn(self.sol_.message, IntegrationWarning)\n"
     ]
    },
    {
     "name": "stdout",
     "output_type": "stream",
     "text": [
      "normal equations solve failed, switching lstsq solver\n",
      "normal equations solve failed, switching lstsq solver\n",
      "normal equations solve failed, switching lstsq solver\n",
      "normal equations solve failed, switching lstsq solver\n",
      "normal equations solve failed, switching lstsq solver\n",
      "normal equations solve failed, switching lstsq solver\n"
     ]
    },
    {
     "name": "stderr",
     "output_type": "stream",
     "text": [
      "/opt/anaconda3/envs/hux-rom/lib/python3.9/site-packages/rom_operator_inference/_core/_base.py:604: IntegrationWarning: Required step size is less than spacing between numbers.\n",
      "  warnings.warn(self.sol_.message, IntegrationWarning)\n",
      "/opt/anaconda3/envs/hux-rom/lib/python3.9/site-packages/rom_operator_inference/_core/_base.py:604: IntegrationWarning: Required step size is less than spacing between numbers.\n",
      "  warnings.warn(self.sol_.message, IntegrationWarning)\n"
     ]
    },
    {
     "name": "stdout",
     "output_type": "stream",
     "text": [
      "normal equations solve failed, switching lstsq solver\n",
      "normal equations solve failed, switching lstsq solver\n"
     ]
    },
    {
     "name": "stderr",
     "output_type": "stream",
     "text": [
      "/opt/anaconda3/envs/hux-rom/lib/python3.9/site-packages/rom_operator_inference/_core/_base.py:604: IntegrationWarning: Required step size is less than spacing between numbers.\n",
      "  warnings.warn(self.sol_.message, IntegrationWarning)\n",
      "/opt/anaconda3/envs/hux-rom/lib/python3.9/site-packages/rom_operator_inference/_core/_base.py:604: IntegrationWarning: Required step size is less than spacing between numbers.\n",
      "  warnings.warn(self.sol_.message, IntegrationWarning)\n"
     ]
    },
    {
     "name": "stdout",
     "output_type": "stream",
     "text": [
      "normal equations solve failed, switching lstsq solver\n",
      "normal equations solve failed, switching lstsq solver\n"
     ]
    },
    {
     "name": "stderr",
     "output_type": "stream",
     "text": [
      "/opt/anaconda3/envs/hux-rom/lib/python3.9/site-packages/rom_operator_inference/_core/_base.py:604: IntegrationWarning: Required step size is less than spacing between numbers.\n",
      "  warnings.warn(self.sol_.message, IntegrationWarning)\n"
     ]
    },
    {
     "name": "stdout",
     "output_type": "stream",
     "text": [
      "normal equations solve failed, switching lstsq solver\n",
      "normal equations solve failed, switching lstsq solver\n"
     ]
    },
    {
     "name": "stderr",
     "output_type": "stream",
     "text": [
      "/opt/anaconda3/envs/hux-rom/lib/python3.9/site-packages/rom_operator_inference/lstsq/_tikhonov.py:398: LinAlgWarning: original least-squares system is underdetermined!\n",
      "  self._process_fit_arguments(A, B)\n"
     ]
    },
    {
     "name": "stdout",
     "output_type": "stream",
     "text": [
      "normal equations solve failed, switching lstsq solver\n"
     ]
    },
    {
     "name": "stderr",
     "output_type": "stream",
     "text": [
      "/opt/anaconda3/envs/hux-rom/lib/python3.9/site-packages/rom_operator_inference/lstsq/_tikhonov.py:398: LinAlgWarning: original least-squares system is underdetermined!\n",
      "  self._process_fit_arguments(A, B)\n",
      "/opt/anaconda3/envs/hux-rom/lib/python3.9/site-packages/rom_operator_inference/_core/_base.py:604: IntegrationWarning: Required step size is less than spacing between numbers.\n",
      "  warnings.warn(self.sol_.message, IntegrationWarning)\n"
     ]
    },
    {
     "name": "stdout",
     "output_type": "stream",
     "text": [
      "normal equations solve failed, switching lstsq solver\n",
      "normal equations solve failed, switching lstsq solver\n",
      "normal equations solve failed, switching lstsq solver\n",
      "normal equations solve failed, switching lstsq solver\n",
      "normal equations solve failed, switching lstsq solver\n",
      "normal equations solve failed, switching lstsq solver\n"
     ]
    },
    {
     "name": "stderr",
     "output_type": "stream",
     "text": [
      "/opt/anaconda3/envs/hux-rom/lib/python3.9/site-packages/rom_operator_inference/_core/_base.py:604: IntegrationWarning: Required step size is less than spacing between numbers.\n",
      "  warnings.warn(self.sol_.message, IntegrationWarning)\n",
      "/opt/anaconda3/envs/hux-rom/lib/python3.9/site-packages/rom_operator_inference/_core/_base.py:604: IntegrationWarning: Required step size is less than spacing between numbers.\n",
      "  warnings.warn(self.sol_.message, IntegrationWarning)\n"
     ]
    },
    {
     "name": "stdout",
     "output_type": "stream",
     "text": [
      "normal equations solve failed, switching lstsq solver\n",
      "normal equations solve failed, switching lstsq solver\n"
     ]
    },
    {
     "name": "stderr",
     "output_type": "stream",
     "text": [
      "/opt/anaconda3/envs/hux-rom/lib/python3.9/site-packages/rom_operator_inference/_core/_base.py:604: IntegrationWarning: Required step size is less than spacing between numbers.\n",
      "  warnings.warn(self.sol_.message, IntegrationWarning)\n",
      "/opt/anaconda3/envs/hux-rom/lib/python3.9/site-packages/rom_operator_inference/_core/_base.py:604: IntegrationWarning: Required step size is less than spacing between numbers.\n",
      "  warnings.warn(self.sol_.message, IntegrationWarning)\n"
     ]
    },
    {
     "name": "stdout",
     "output_type": "stream",
     "text": [
      "normal equations solve failed, switching lstsq solver\n",
      "normal equations solve failed, switching lstsq solver\n",
      "normal equations solve failed, switching lstsq solver\n",
      "normal equations solve failed, switching lstsq solver\n"
     ]
    },
    {
     "name": "stderr",
     "output_type": "stream",
     "text": [
      "/opt/anaconda3/envs/hux-rom/lib/python3.9/site-packages/rom_operator_inference/lstsq/_tikhonov.py:398: LinAlgWarning: original least-squares system is underdetermined!\n",
      "  self._process_fit_arguments(A, B)\n"
     ]
    },
    {
     "name": "stdout",
     "output_type": "stream",
     "text": [
      "normal equations solve failed, switching lstsq solver\n"
     ]
    },
    {
     "name": "stderr",
     "output_type": "stream",
     "text": [
      "/opt/anaconda3/envs/hux-rom/lib/python3.9/site-packages/rom_operator_inference/lstsq/_tikhonov.py:398: LinAlgWarning: original least-squares system is underdetermined!\n",
      "  self._process_fit_arguments(A, B)\n",
      "/opt/anaconda3/envs/hux-rom/lib/python3.9/site-packages/rom_operator_inference/_core/_base.py:604: IntegrationWarning: Required step size is less than spacing between numbers.\n",
      "  warnings.warn(self.sol_.message, IntegrationWarning)\n"
     ]
    },
    {
     "name": "stdout",
     "output_type": "stream",
     "text": [
      "normal equations solve failed, switching lstsq solver\n",
      "normal equations solve failed, switching lstsq solver\n",
      "normal equations solve failed, switching lstsq solver\n",
      "normal equations solve failed, switching lstsq solver\n"
     ]
    },
    {
     "name": "stderr",
     "output_type": "stream",
     "text": [
      "/opt/anaconda3/envs/hux-rom/lib/python3.9/site-packages/rom_operator_inference/_core/_base.py:604: IntegrationWarning: Required step size is less than spacing between numbers.\n",
      "  warnings.warn(self.sol_.message, IntegrationWarning)\n"
     ]
    },
    {
     "name": "stdout",
     "output_type": "stream",
     "text": [
      "normal equations solve failed, switching lstsq solver\n",
      "normal equations solve failed, switching lstsq solver\n"
     ]
    },
    {
     "name": "stderr",
     "output_type": "stream",
     "text": [
      "/opt/anaconda3/envs/hux-rom/lib/python3.9/site-packages/rom_operator_inference/_core/_base.py:604: IntegrationWarning: Required step size is less than spacing between numbers.\n",
      "  warnings.warn(self.sol_.message, IntegrationWarning)\n",
      "/opt/anaconda3/envs/hux-rom/lib/python3.9/site-packages/rom_operator_inference/_core/_base.py:604: IntegrationWarning: Required step size is less than spacing between numbers.\n",
      "  warnings.warn(self.sol_.message, IntegrationWarning)\n"
     ]
    },
    {
     "name": "stdout",
     "output_type": "stream",
     "text": [
      "normal equations solve failed, switching lstsq solver\n",
      "normal equations solve failed, switching lstsq solver\n"
     ]
    },
    {
     "name": "stderr",
     "output_type": "stream",
     "text": [
      "/opt/anaconda3/envs/hux-rom/lib/python3.9/site-packages/rom_operator_inference/_core/_base.py:604: IntegrationWarning: Required step size is less than spacing between numbers.\n",
      "  warnings.warn(self.sol_.message, IntegrationWarning)\n",
      "/opt/anaconda3/envs/hux-rom/lib/python3.9/site-packages/rom_operator_inference/_core/_base.py:604: IntegrationWarning: Required step size is less than spacing between numbers.\n",
      "  warnings.warn(self.sol_.message, IntegrationWarning)\n"
     ]
    },
    {
     "name": "stdout",
     "output_type": "stream",
     "text": [
      "normal equations solve failed, switching lstsq solver\n",
      "normal equations solve failed, switching lstsq solver\n",
      "normal equations solve failed, switching lstsq solver\n",
      "normal equations solve failed, switching lstsq solver\n"
     ]
    },
    {
     "name": "stderr",
     "output_type": "stream",
     "text": [
      "/opt/anaconda3/envs/hux-rom/lib/python3.9/site-packages/rom_operator_inference/lstsq/_tikhonov.py:398: LinAlgWarning: original least-squares system is underdetermined!\n",
      "  self._process_fit_arguments(A, B)\n"
     ]
    },
    {
     "name": "stdout",
     "output_type": "stream",
     "text": [
      "normal equations solve failed, switching lstsq solver\n"
     ]
    },
    {
     "name": "stderr",
     "output_type": "stream",
     "text": [
      "/opt/anaconda3/envs/hux-rom/lib/python3.9/site-packages/rom_operator_inference/lstsq/_tikhonov.py:398: LinAlgWarning: original least-squares system is underdetermined!\n",
      "  self._process_fit_arguments(A, B)\n",
      "/opt/anaconda3/envs/hux-rom/lib/python3.9/site-packages/rom_operator_inference/_core/_base.py:604: IntegrationWarning: Required step size is less than spacing between numbers.\n",
      "  warnings.warn(self.sol_.message, IntegrationWarning)\n"
     ]
    },
    {
     "name": "stdout",
     "output_type": "stream",
     "text": [
      "normal equations solve failed, switching lstsq solver\n"
     ]
    },
    {
     "name": "stderr",
     "output_type": "stream",
     "text": [
      "/opt/anaconda3/envs/hux-rom/lib/python3.9/site-packages/rom_operator_inference/_core/_base.py:604: IntegrationWarning: Required step size is less than spacing between numbers.\n",
      "  warnings.warn(self.sol_.message, IntegrationWarning)\n",
      "/opt/anaconda3/envs/hux-rom/lib/python3.9/site-packages/rom_operator_inference/_core/_base.py:604: IntegrationWarning: Required step size is less than spacing between numbers.\n",
      "  warnings.warn(self.sol_.message, IntegrationWarning)\n",
      "/opt/anaconda3/envs/hux-rom/lib/python3.9/site-packages/rom_operator_inference/_core/_base.py:604: IntegrationWarning: Required step size is less than spacing between numbers.\n",
      "  warnings.warn(self.sol_.message, IntegrationWarning)\n",
      "/opt/anaconda3/envs/hux-rom/lib/python3.9/site-packages/rom_operator_inference/_core/_base.py:604: IntegrationWarning: Required step size is less than spacing between numbers.\n",
      "  warnings.warn(self.sol_.message, IntegrationWarning)\n"
     ]
    },
    {
     "name": "stdout",
     "output_type": "stream",
     "text": [
      "normal equations solve failed, switching lstsq solver\n",
      "normal equations solve failed, switching lstsq solver\n"
     ]
    },
    {
     "name": "stderr",
     "output_type": "stream",
     "text": [
      "/opt/anaconda3/envs/hux-rom/lib/python3.9/site-packages/rom_operator_inference/_core/_base.py:604: IntegrationWarning: Required step size is less than spacing between numbers.\n",
      "  warnings.warn(self.sol_.message, IntegrationWarning)\n"
     ]
    },
    {
     "name": "stdout",
     "output_type": "stream",
     "text": [
      "normal equations solve failed, switching lstsq solver\n"
     ]
    },
    {
     "name": "stderr",
     "output_type": "stream",
     "text": [
      "/opt/anaconda3/envs/hux-rom/lib/python3.9/site-packages/rom_operator_inference/_core/_base.py:604: IntegrationWarning: Required step size is less than spacing between numbers.\n",
      "  warnings.warn(self.sol_.message, IntegrationWarning)\n",
      "/opt/anaconda3/envs/hux-rom/lib/python3.9/site-packages/rom_operator_inference/_core/_base.py:604: IntegrationWarning: Required step size is less than spacing between numbers.\n",
      "  warnings.warn(self.sol_.message, IntegrationWarning)\n"
     ]
    },
    {
     "name": "stdout",
     "output_type": "stream",
     "text": [
      "normal equations solve failed, switching lstsq solver\n",
      "normal equations solve failed, switching lstsq solver\n"
     ]
    },
    {
     "name": "stderr",
     "output_type": "stream",
     "text": [
      "/opt/anaconda3/envs/hux-rom/lib/python3.9/site-packages/rom_operator_inference/_core/_base.py:604: IntegrationWarning: Required step size is less than spacing between numbers.\n",
      "  warnings.warn(self.sol_.message, IntegrationWarning)\n",
      "/opt/anaconda3/envs/hux-rom/lib/python3.9/site-packages/rom_operator_inference/lstsq/_tikhonov.py:398: LinAlgWarning: original least-squares system is underdetermined!\n",
      "  self._process_fit_arguments(A, B)\n",
      "/opt/anaconda3/envs/hux-rom/lib/python3.9/site-packages/rom_operator_inference/_core/_base.py:604: IntegrationWarning: Required step size is less than spacing between numbers.\n",
      "  warnings.warn(self.sol_.message, IntegrationWarning)\n",
      "/opt/anaconda3/envs/hux-rom/lib/python3.9/site-packages/rom_operator_inference/lstsq/_tikhonov.py:398: LinAlgWarning: original least-squares system is underdetermined!\n",
      "  self._process_fit_arguments(A, B)\n"
     ]
    },
    {
     "name": "stdout",
     "output_type": "stream",
     "text": [
      "normal equations solve failed, switching lstsq solver\n",
      "normal equations solve failed, switching lstsq solver\n"
     ]
    },
    {
     "name": "stderr",
     "output_type": "stream",
     "text": [
      "/opt/anaconda3/envs/hux-rom/lib/python3.9/site-packages/rom_operator_inference/_core/_base.py:604: IntegrationWarning: Required step size is less than spacing between numbers.\n",
      "  warnings.warn(self.sol_.message, IntegrationWarning)\n",
      "/opt/anaconda3/envs/hux-rom/lib/python3.9/site-packages/rom_operator_inference/_core/_base.py:604: IntegrationWarning: Required step size is less than spacing between numbers.\n",
      "  warnings.warn(self.sol_.message, IntegrationWarning)\n",
      "/opt/anaconda3/envs/hux-rom/lib/python3.9/site-packages/rom_operator_inference/_core/_base.py:604: IntegrationWarning: Required step size is less than spacing between numbers.\n",
      "  warnings.warn(self.sol_.message, IntegrationWarning)\n",
      "/opt/anaconda3/envs/hux-rom/lib/python3.9/site-packages/rom_operator_inference/_core/_base.py:604: IntegrationWarning: Required step size is less than spacing between numbers.\n",
      "  warnings.warn(self.sol_.message, IntegrationWarning)\n",
      "/opt/anaconda3/envs/hux-rom/lib/python3.9/site-packages/rom_operator_inference/_core/_base.py:604: IntegrationWarning: Required step size is less than spacing between numbers.\n",
      "  warnings.warn(self.sol_.message, IntegrationWarning)\n"
     ]
    },
    {
     "name": "stdout",
     "output_type": "stream",
     "text": [
      "normal equations solve failed, switching lstsq solver\n",
      "normal equations solve failed, switching lstsq solver\n"
     ]
    },
    {
     "name": "stderr",
     "output_type": "stream",
     "text": [
      "/opt/anaconda3/envs/hux-rom/lib/python3.9/site-packages/rom_operator_inference/_core/_base.py:604: IntegrationWarning: Required step size is less than spacing between numbers.\n",
      "  warnings.warn(self.sol_.message, IntegrationWarning)\n",
      "/opt/anaconda3/envs/hux-rom/lib/python3.9/site-packages/rom_operator_inference/_core/_base.py:604: IntegrationWarning: Required step size is less than spacing between numbers.\n",
      "  warnings.warn(self.sol_.message, IntegrationWarning)\n"
     ]
    },
    {
     "name": "stdout",
     "output_type": "stream",
     "text": [
      "normal equations solve failed, switching lstsq solver\n",
      "normal equations solve failed, switching lstsq solver\n"
     ]
    },
    {
     "name": "stderr",
     "output_type": "stream",
     "text": [
      "/opt/anaconda3/envs/hux-rom/lib/python3.9/site-packages/rom_operator_inference/_core/_base.py:604: IntegrationWarning: Required step size is less than spacing between numbers.\n",
      "  warnings.warn(self.sol_.message, IntegrationWarning)\n",
      "/opt/anaconda3/envs/hux-rom/lib/python3.9/site-packages/rom_operator_inference/_core/_base.py:604: IntegrationWarning: Required step size is less than spacing between numbers.\n",
      "  warnings.warn(self.sol_.message, IntegrationWarning)\n",
      "/opt/anaconda3/envs/hux-rom/lib/python3.9/site-packages/rom_operator_inference/lstsq/_tikhonov.py:398: LinAlgWarning: original least-squares system is underdetermined!\n",
      "  self._process_fit_arguments(A, B)\n"
     ]
    },
    {
     "name": "stdout",
     "output_type": "stream",
     "text": [
      "normal equations solve failed, switching lstsq solver\n",
      "normal equations solve failed, switching lstsq solver\n"
     ]
    },
    {
     "name": "stderr",
     "output_type": "stream",
     "text": [
      "/opt/anaconda3/envs/hux-rom/lib/python3.9/site-packages/rom_operator_inference/_core/_base.py:604: IntegrationWarning: Required step size is less than spacing between numbers.\n",
      "  warnings.warn(self.sol_.message, IntegrationWarning)\n",
      "/opt/anaconda3/envs/hux-rom/lib/python3.9/site-packages/rom_operator_inference/lstsq/_tikhonov.py:398: LinAlgWarning: original least-squares system is underdetermined!\n",
      "  self._process_fit_arguments(A, B)\n",
      "/opt/anaconda3/envs/hux-rom/lib/python3.9/site-packages/rom_operator_inference/_core/_base.py:604: IntegrationWarning: Required step size is less than spacing between numbers.\n",
      "  warnings.warn(self.sol_.message, IntegrationWarning)\n"
     ]
    },
    {
     "name": "stdout",
     "output_type": "stream",
     "text": [
      "normal equations solve failed, switching lstsq solver\n"
     ]
    },
    {
     "name": "stderr",
     "output_type": "stream",
     "text": [
      "/opt/anaconda3/envs/hux-rom/lib/python3.9/site-packages/rom_operator_inference/_core/_base.py:604: IntegrationWarning: Required step size is less than spacing between numbers.\n",
      "  warnings.warn(self.sol_.message, IntegrationWarning)\n",
      "/opt/anaconda3/envs/hux-rom/lib/python3.9/site-packages/rom_operator_inference/_core/_base.py:604: IntegrationWarning: Required step size is less than spacing between numbers.\n",
      "  warnings.warn(self.sol_.message, IntegrationWarning)\n",
      "/opt/anaconda3/envs/hux-rom/lib/python3.9/site-packages/rom_operator_inference/_core/_base.py:604: IntegrationWarning: Required step size is less than spacing between numbers.\n",
      "  warnings.warn(self.sol_.message, IntegrationWarning)\n",
      "/opt/anaconda3/envs/hux-rom/lib/python3.9/site-packages/rom_operator_inference/_core/_base.py:604: IntegrationWarning: Required step size is less than spacing between numbers.\n",
      "  warnings.warn(self.sol_.message, IntegrationWarning)\n"
     ]
    },
    {
     "name": "stdout",
     "output_type": "stream",
     "text": [
      "normal equations solve failed, switching lstsq solver\n",
      "normal equations solve failed, switching lstsq solver\n"
     ]
    },
    {
     "name": "stderr",
     "output_type": "stream",
     "text": [
      "/opt/anaconda3/envs/hux-rom/lib/python3.9/site-packages/rom_operator_inference/_core/_base.py:604: IntegrationWarning: Required step size is less than spacing between numbers.\n",
      "  warnings.warn(self.sol_.message, IntegrationWarning)\n",
      "/opt/anaconda3/envs/hux-rom/lib/python3.9/site-packages/rom_operator_inference/_core/_base.py:604: IntegrationWarning: Required step size is less than spacing between numbers.\n",
      "  warnings.warn(self.sol_.message, IntegrationWarning)\n"
     ]
    },
    {
     "name": "stdout",
     "output_type": "stream",
     "text": [
      "normal equations solve failed, switching lstsq solver\n",
      "normal equations solve failed, switching lstsq solver\n"
     ]
    },
    {
     "name": "stderr",
     "output_type": "stream",
     "text": [
      "/opt/anaconda3/envs/hux-rom/lib/python3.9/site-packages/rom_operator_inference/_core/_base.py:604: IntegrationWarning: Required step size is less than spacing between numbers.\n",
      "  warnings.warn(self.sol_.message, IntegrationWarning)\n",
      "/opt/anaconda3/envs/hux-rom/lib/python3.9/site-packages/rom_operator_inference/_core/_base.py:604: IntegrationWarning: Required step size is less than spacing between numbers.\n",
      "  warnings.warn(self.sol_.message, IntegrationWarning)\n"
     ]
    },
    {
     "name": "stdout",
     "output_type": "stream",
     "text": [
      "normal equations solve failed, switching lstsq solver\n",
      "normal equations solve failed, switching lstsq solver\n"
     ]
    },
    {
     "name": "stderr",
     "output_type": "stream",
     "text": [
      "/opt/anaconda3/envs/hux-rom/lib/python3.9/site-packages/rom_operator_inference/lstsq/_tikhonov.py:398: LinAlgWarning: original least-squares system is underdetermined!\n",
      "  self._process_fit_arguments(A, B)\n",
      "/opt/anaconda3/envs/hux-rom/lib/python3.9/site-packages/rom_operator_inference/_core/_base.py:604: IntegrationWarning: Required step size is less than spacing between numbers.\n",
      "  warnings.warn(self.sol_.message, IntegrationWarning)\n",
      "/opt/anaconda3/envs/hux-rom/lib/python3.9/site-packages/rom_operator_inference/lstsq/_tikhonov.py:398: LinAlgWarning: original least-squares system is underdetermined!\n",
      "  self._process_fit_arguments(A, B)\n"
     ]
    },
    {
     "name": "stdout",
     "output_type": "stream",
     "text": [
      "normal equations solve failed, switching lstsq solver\n"
     ]
    },
    {
     "name": "stderr",
     "output_type": "stream",
     "text": [
      "/opt/anaconda3/envs/hux-rom/lib/python3.9/site-packages/rom_operator_inference/_core/_base.py:604: IntegrationWarning: Required step size is less than spacing between numbers.\n",
      "  warnings.warn(self.sol_.message, IntegrationWarning)\n",
      "/opt/anaconda3/envs/hux-rom/lib/python3.9/site-packages/rom_operator_inference/_core/_base.py:604: IntegrationWarning: Required step size is less than spacing between numbers.\n",
      "  warnings.warn(self.sol_.message, IntegrationWarning)\n",
      "/opt/anaconda3/envs/hux-rom/lib/python3.9/site-packages/rom_operator_inference/_core/_base.py:604: IntegrationWarning: Required step size is less than spacing between numbers.\n",
      "  warnings.warn(self.sol_.message, IntegrationWarning)\n",
      "/opt/anaconda3/envs/hux-rom/lib/python3.9/site-packages/rom_operator_inference/_core/_base.py:604: IntegrationWarning: Required step size is less than spacing between numbers.\n",
      "  warnings.warn(self.sol_.message, IntegrationWarning)\n",
      "/opt/anaconda3/envs/hux-rom/lib/python3.9/site-packages/rom_operator_inference/_core/_base.py:604: IntegrationWarning: Required step size is less than spacing between numbers.\n",
      "  warnings.warn(self.sol_.message, IntegrationWarning)\n",
      "/opt/anaconda3/envs/hux-rom/lib/python3.9/site-packages/rom_operator_inference/_core/_base.py:604: IntegrationWarning: Required step size is less than spacing between numbers.\n",
      "  warnings.warn(self.sol_.message, IntegrationWarning)\n",
      "/opt/anaconda3/envs/hux-rom/lib/python3.9/site-packages/rom_operator_inference/_core/_base.py:604: IntegrationWarning: Required step size is less than spacing between numbers.\n",
      "  warnings.warn(self.sol_.message, IntegrationWarning)\n"
     ]
    },
    {
     "name": "stdout",
     "output_type": "stream",
     "text": [
      "normal equations solve failed, switching lstsq solver\n",
      "normal equations solve failed, switching lstsq solver\n"
     ]
    },
    {
     "name": "stderr",
     "output_type": "stream",
     "text": [
      "/opt/anaconda3/envs/hux-rom/lib/python3.9/site-packages/rom_operator_inference/_core/_base.py:604: IntegrationWarning: Required step size is less than spacing between numbers.\n",
      "  warnings.warn(self.sol_.message, IntegrationWarning)\n",
      "/opt/anaconda3/envs/hux-rom/lib/python3.9/site-packages/rom_operator_inference/_core/_base.py:604: IntegrationWarning: Required step size is less than spacing between numbers.\n",
      "  warnings.warn(self.sol_.message, IntegrationWarning)\n",
      "/opt/anaconda3/envs/hux-rom/lib/python3.9/site-packages/rom_operator_inference/lstsq/_tikhonov.py:398: LinAlgWarning: original least-squares system is underdetermined!\n",
      "  self._process_fit_arguments(A, B)\n"
     ]
    },
    {
     "name": "stdout",
     "output_type": "stream",
     "text": [
      "normal equations solve failed, switching lstsq solver\n",
      "normal equations solve failed, switching lstsq solver\n"
     ]
    },
    {
     "name": "stderr",
     "output_type": "stream",
     "text": [
      "/opt/anaconda3/envs/hux-rom/lib/python3.9/site-packages/rom_operator_inference/_core/_base.py:604: IntegrationWarning: Required step size is less than spacing between numbers.\n",
      "  warnings.warn(self.sol_.message, IntegrationWarning)\n",
      "/opt/anaconda3/envs/hux-rom/lib/python3.9/site-packages/rom_operator_inference/lstsq/_tikhonov.py:398: LinAlgWarning: original least-squares system is underdetermined!\n",
      "  self._process_fit_arguments(A, B)\n",
      "/opt/anaconda3/envs/hux-rom/lib/python3.9/site-packages/rom_operator_inference/_core/_base.py:604: IntegrationWarning: Required step size is less than spacing between numbers.\n",
      "  warnings.warn(self.sol_.message, IntegrationWarning)\n"
     ]
    },
    {
     "name": "stdout",
     "output_type": "stream",
     "text": [
      "normal equations solve failed, switching lstsq solver\n"
     ]
    },
    {
     "name": "stderr",
     "output_type": "stream",
     "text": [
      "/opt/anaconda3/envs/hux-rom/lib/python3.9/site-packages/rom_operator_inference/_core/_base.py:604: IntegrationWarning: Required step size is less than spacing between numbers.\n",
      "  warnings.warn(self.sol_.message, IntegrationWarning)\n",
      "/opt/anaconda3/envs/hux-rom/lib/python3.9/site-packages/rom_operator_inference/_core/_base.py:604: IntegrationWarning: Required step size is less than spacing between numbers.\n",
      "  warnings.warn(self.sol_.message, IntegrationWarning)\n",
      "/opt/anaconda3/envs/hux-rom/lib/python3.9/site-packages/rom_operator_inference/_core/_base.py:604: IntegrationWarning: Required step size is less than spacing between numbers.\n",
      "  warnings.warn(self.sol_.message, IntegrationWarning)\n",
      "/opt/anaconda3/envs/hux-rom/lib/python3.9/site-packages/rom_operator_inference/_core/_base.py:604: IntegrationWarning: Required step size is less than spacing between numbers.\n",
      "  warnings.warn(self.sol_.message, IntegrationWarning)\n",
      "/opt/anaconda3/envs/hux-rom/lib/python3.9/site-packages/rom_operator_inference/_core/_base.py:604: IntegrationWarning: Required step size is less than spacing between numbers.\n",
      "  warnings.warn(self.sol_.message, IntegrationWarning)\n",
      "/opt/anaconda3/envs/hux-rom/lib/python3.9/site-packages/rom_operator_inference/_core/_base.py:604: IntegrationWarning: Required step size is less than spacing between numbers.\n",
      "  warnings.warn(self.sol_.message, IntegrationWarning)\n",
      "/opt/anaconda3/envs/hux-rom/lib/python3.9/site-packages/rom_operator_inference/_core/_base.py:604: IntegrationWarning: Required step size is less than spacing between numbers.\n",
      "  warnings.warn(self.sol_.message, IntegrationWarning)\n",
      "/opt/anaconda3/envs/hux-rom/lib/python3.9/site-packages/rom_operator_inference/_core/_base.py:604: IntegrationWarning: Required step size is less than spacing between numbers.\n",
      "  warnings.warn(self.sol_.message, IntegrationWarning)\n",
      "/opt/anaconda3/envs/hux-rom/lib/python3.9/site-packages/rom_operator_inference/lstsq/_tikhonov.py:398: LinAlgWarning: original least-squares system is underdetermined!\n",
      "  self._process_fit_arguments(A, B)\n",
      "/opt/anaconda3/envs/hux-rom/lib/python3.9/site-packages/rom_operator_inference/_core/_base.py:604: IntegrationWarning: Required step size is less than spacing between numbers.\n",
      "  warnings.warn(self.sol_.message, IntegrationWarning)\n",
      "/opt/anaconda3/envs/hux-rom/lib/python3.9/site-packages/rom_operator_inference/lstsq/_tikhonov.py:398: LinAlgWarning: original least-squares system is underdetermined!\n",
      "  self._process_fit_arguments(A, B)\n",
      "/opt/anaconda3/envs/hux-rom/lib/python3.9/site-packages/rom_operator_inference/_core/_base.py:604: IntegrationWarning: Required step size is less than spacing between numbers.\n",
      "  warnings.warn(self.sol_.message, IntegrationWarning)\n",
      "/opt/anaconda3/envs/hux-rom/lib/python3.9/site-packages/rom_operator_inference/_core/_base.py:604: IntegrationWarning: Required step size is less than spacing between numbers.\n",
      "  warnings.warn(self.sol_.message, IntegrationWarning)\n",
      "/opt/anaconda3/envs/hux-rom/lib/python3.9/site-packages/rom_operator_inference/_core/_base.py:604: IntegrationWarning: Required step size is less than spacing between numbers.\n",
      "  warnings.warn(self.sol_.message, IntegrationWarning)\n",
      "/opt/anaconda3/envs/hux-rom/lib/python3.9/site-packages/rom_operator_inference/_core/_base.py:604: IntegrationWarning: Required step size is less than spacing between numbers.\n",
      "  warnings.warn(self.sol_.message, IntegrationWarning)\n",
      "/opt/anaconda3/envs/hux-rom/lib/python3.9/site-packages/rom_operator_inference/_core/_base.py:604: IntegrationWarning: Required step size is less than spacing between numbers.\n",
      "  warnings.warn(self.sol_.message, IntegrationWarning)\n",
      "/opt/anaconda3/envs/hux-rom/lib/python3.9/site-packages/rom_operator_inference/_core/_base.py:604: IntegrationWarning: Required step size is less than spacing between numbers.\n",
      "  warnings.warn(self.sol_.message, IntegrationWarning)\n",
      "/opt/anaconda3/envs/hux-rom/lib/python3.9/site-packages/rom_operator_inference/_core/_base.py:604: IntegrationWarning: Required step size is less than spacing between numbers.\n",
      "  warnings.warn(self.sol_.message, IntegrationWarning)\n",
      "/opt/anaconda3/envs/hux-rom/lib/python3.9/site-packages/rom_operator_inference/_core/_base.py:604: IntegrationWarning: Required step size is less than spacing between numbers.\n",
      "  warnings.warn(self.sol_.message, IntegrationWarning)\n",
      "/opt/anaconda3/envs/hux-rom/lib/python3.9/site-packages/rom_operator_inference/lstsq/_tikhonov.py:398: LinAlgWarning: original least-squares system is underdetermined!\n",
      "  self._process_fit_arguments(A, B)\n",
      "/opt/anaconda3/envs/hux-rom/lib/python3.9/site-packages/rom_operator_inference/lstsq/_tikhonov.py:398: LinAlgWarning: original least-squares system is underdetermined!\n",
      "  self._process_fit_arguments(A, B)\n",
      "/opt/anaconda3/envs/hux-rom/lib/python3.9/site-packages/rom_operator_inference/_core/_base.py:604: IntegrationWarning: Required step size is less than spacing between numbers.\n",
      "  warnings.warn(self.sol_.message, IntegrationWarning)\n",
      "/opt/anaconda3/envs/hux-rom/lib/python3.9/site-packages/rom_operator_inference/_core/_base.py:604: IntegrationWarning: Required step size is less than spacing between numbers.\n",
      "  warnings.warn(self.sol_.message, IntegrationWarning)\n",
      "/opt/anaconda3/envs/hux-rom/lib/python3.9/site-packages/rom_operator_inference/_core/_base.py:604: IntegrationWarning: Required step size is less than spacing between numbers.\n",
      "  warnings.warn(self.sol_.message, IntegrationWarning)\n",
      "/opt/anaconda3/envs/hux-rom/lib/python3.9/site-packages/rom_operator_inference/_core/_base.py:604: IntegrationWarning: Required step size is less than spacing between numbers.\n",
      "  warnings.warn(self.sol_.message, IntegrationWarning)\n",
      "/opt/anaconda3/envs/hux-rom/lib/python3.9/site-packages/rom_operator_inference/_core/_base.py:604: IntegrationWarning: Required step size is less than spacing between numbers.\n",
      "  warnings.warn(self.sol_.message, IntegrationWarning)\n",
      "/opt/anaconda3/envs/hux-rom/lib/python3.9/site-packages/rom_operator_inference/lstsq/_tikhonov.py:398: LinAlgWarning: original least-squares system is underdetermined!\n",
      "  self._process_fit_arguments(A, B)\n",
      "/opt/anaconda3/envs/hux-rom/lib/python3.9/site-packages/rom_operator_inference/lstsq/_tikhonov.py:398: LinAlgWarning: original least-squares system is underdetermined!\n",
      "  self._process_fit_arguments(A, B)\n",
      "/opt/anaconda3/envs/hux-rom/lib/python3.9/site-packages/rom_operator_inference/_core/_base.py:604: IntegrationWarning: Required step size is less than spacing between numbers.\n",
      "  warnings.warn(self.sol_.message, IntegrationWarning)\n",
      "/opt/anaconda3/envs/hux-rom/lib/python3.9/site-packages/rom_operator_inference/_core/_base.py:604: IntegrationWarning: Required step size is less than spacing between numbers.\n",
      "  warnings.warn(self.sol_.message, IntegrationWarning)\n",
      "/opt/anaconda3/envs/hux-rom/lib/python3.9/site-packages/rom_operator_inference/_core/_base.py:604: IntegrationWarning: Required step size is less than spacing between numbers.\n",
      "  warnings.warn(self.sol_.message, IntegrationWarning)\n",
      "/opt/anaconda3/envs/hux-rom/lib/python3.9/site-packages/rom_operator_inference/_core/_base.py:604: IntegrationWarning: Required step size is less than spacing between numbers.\n",
      "  warnings.warn(self.sol_.message, IntegrationWarning)\n",
      "/opt/anaconda3/envs/hux-rom/lib/python3.9/site-packages/rom_operator_inference/lstsq/_tikhonov.py:398: LinAlgWarning: original least-squares system is underdetermined!\n",
      "  self._process_fit_arguments(A, B)\n",
      "/opt/anaconda3/envs/hux-rom/lib/python3.9/site-packages/rom_operator_inference/lstsq/_tikhonov.py:398: LinAlgWarning: original least-squares system is underdetermined!\n",
      "  self._process_fit_arguments(A, B)\n",
      "/opt/anaconda3/envs/hux-rom/lib/python3.9/site-packages/rom_operator_inference/_core/_base.py:604: IntegrationWarning: Required step size is less than spacing between numbers.\n",
      "  warnings.warn(self.sol_.message, IntegrationWarning)\n",
      "/opt/anaconda3/envs/hux-rom/lib/python3.9/site-packages/rom_operator_inference/_core/_base.py:604: IntegrationWarning: Required step size is less than spacing between numbers.\n",
      "  warnings.warn(self.sol_.message, IntegrationWarning)\n",
      "/opt/anaconda3/envs/hux-rom/lib/python3.9/site-packages/rom_operator_inference/_core/_base.py:604: IntegrationWarning: Required step size is less than spacing between numbers.\n",
      "  warnings.warn(self.sol_.message, IntegrationWarning)\n",
      "/opt/anaconda3/envs/hux-rom/lib/python3.9/site-packages/rom_operator_inference/_core/_base.py:604: IntegrationWarning: Required step size is less than spacing between numbers.\n",
      "  warnings.warn(self.sol_.message, IntegrationWarning)\n"
     ]
    },
    {
     "name": "stderr",
     "output_type": "stream",
     "text": [
      "/opt/anaconda3/envs/hux-rom/lib/python3.9/site-packages/rom_operator_inference/_core/_base.py:604: IntegrationWarning: Required step size is less than spacing between numbers.\n",
      "  warnings.warn(self.sol_.message, IntegrationWarning)\n",
      "/opt/anaconda3/envs/hux-rom/lib/python3.9/site-packages/rom_operator_inference/_core/_base.py:604: IntegrationWarning: Required step size is less than spacing between numbers.\n",
      "  warnings.warn(self.sol_.message, IntegrationWarning)\n",
      "/opt/anaconda3/envs/hux-rom/lib/python3.9/site-packages/rom_operator_inference/_core/_base.py:604: IntegrationWarning: Required step size is less than spacing between numbers.\n",
      "  warnings.warn(self.sol_.message, IntegrationWarning)\n",
      "/opt/anaconda3/envs/hux-rom/lib/python3.9/site-packages/rom_operator_inference/lstsq/_tikhonov.py:398: LinAlgWarning: original least-squares system is underdetermined!\n",
      "  self._process_fit_arguments(A, B)\n",
      "/opt/anaconda3/envs/hux-rom/lib/python3.9/site-packages/rom_operator_inference/lstsq/_tikhonov.py:398: LinAlgWarning: original least-squares system is underdetermined!\n",
      "  self._process_fit_arguments(A, B)\n",
      "/opt/anaconda3/envs/hux-rom/lib/python3.9/site-packages/rom_operator_inference/_core/_base.py:604: IntegrationWarning: Required step size is less than spacing between numbers.\n",
      "  warnings.warn(self.sol_.message, IntegrationWarning)\n",
      "/opt/anaconda3/envs/hux-rom/lib/python3.9/site-packages/rom_operator_inference/_core/_base.py:604: IntegrationWarning: Required step size is less than spacing between numbers.\n",
      "  warnings.warn(self.sol_.message, IntegrationWarning)\n",
      "/opt/anaconda3/envs/hux-rom/lib/python3.9/site-packages/rom_operator_inference/_core/_base.py:604: IntegrationWarning: Required step size is less than spacing between numbers.\n",
      "  warnings.warn(self.sol_.message, IntegrationWarning)\n",
      "/opt/anaconda3/envs/hux-rom/lib/python3.9/site-packages/rom_operator_inference/_core/_base.py:604: IntegrationWarning: Required step size is less than spacing between numbers.\n",
      "  warnings.warn(self.sol_.message, IntegrationWarning)\n",
      "/opt/anaconda3/envs/hux-rom/lib/python3.9/site-packages/rom_operator_inference/_core/_base.py:604: IntegrationWarning: Required step size is less than spacing between numbers.\n",
      "  warnings.warn(self.sol_.message, IntegrationWarning)\n",
      "/opt/anaconda3/envs/hux-rom/lib/python3.9/site-packages/rom_operator_inference/_core/_base.py:604: IntegrationWarning: Required step size is less than spacing between numbers.\n",
      "  warnings.warn(self.sol_.message, IntegrationWarning)\n",
      "/opt/anaconda3/envs/hux-rom/lib/python3.9/site-packages/rom_operator_inference/_core/_base.py:604: IntegrationWarning: Required step size is less than spacing between numbers.\n",
      "  warnings.warn(self.sol_.message, IntegrationWarning)\n",
      "/opt/anaconda3/envs/hux-rom/lib/python3.9/site-packages/rom_operator_inference/lstsq/_tikhonov.py:398: LinAlgWarning: original least-squares system is underdetermined!\n",
      "  self._process_fit_arguments(A, B)\n",
      "/opt/anaconda3/envs/hux-rom/lib/python3.9/site-packages/rom_operator_inference/lstsq/_tikhonov.py:398: LinAlgWarning: original least-squares system is underdetermined!\n",
      "  self._process_fit_arguments(A, B)\n",
      "/opt/anaconda3/envs/hux-rom/lib/python3.9/site-packages/rom_operator_inference/_core/_base.py:604: IntegrationWarning: Required step size is less than spacing between numbers.\n",
      "  warnings.warn(self.sol_.message, IntegrationWarning)\n",
      "/opt/anaconda3/envs/hux-rom/lib/python3.9/site-packages/rom_operator_inference/_core/_base.py:604: IntegrationWarning: Required step size is less than spacing between numbers.\n",
      "  warnings.warn(self.sol_.message, IntegrationWarning)\n",
      "/opt/anaconda3/envs/hux-rom/lib/python3.9/site-packages/rom_operator_inference/_core/_base.py:604: IntegrationWarning: Required step size is less than spacing between numbers.\n",
      "  warnings.warn(self.sol_.message, IntegrationWarning)\n",
      "/opt/anaconda3/envs/hux-rom/lib/python3.9/site-packages/rom_operator_inference/_core/_base.py:604: IntegrationWarning: Required step size is less than spacing between numbers.\n",
      "  warnings.warn(self.sol_.message, IntegrationWarning)\n",
      "/opt/anaconda3/envs/hux-rom/lib/python3.9/site-packages/rom_operator_inference/_core/_base.py:604: IntegrationWarning: Required step size is less than spacing between numbers.\n",
      "  warnings.warn(self.sol_.message, IntegrationWarning)\n",
      "/opt/anaconda3/envs/hux-rom/lib/python3.9/site-packages/rom_operator_inference/_core/_base.py:604: IntegrationWarning: Required step size is less than spacing between numbers.\n",
      "  warnings.warn(self.sol_.message, IntegrationWarning)\n",
      "/opt/anaconda3/envs/hux-rom/lib/python3.9/site-packages/rom_operator_inference/_core/_base.py:604: IntegrationWarning: Required step size is less than spacing between numbers.\n",
      "  warnings.warn(self.sol_.message, IntegrationWarning)\n"
     ]
    },
    {
     "name": "stdout",
     "output_type": "stream",
     "text": [
      "normal equations solve failed, switching lstsq solver\n",
      "normal equations solve failed, switching lstsq solver\n",
      "normal equations solve failed, switching lstsq solver\n"
     ]
    },
    {
     "name": "stderr",
     "output_type": "stream",
     "text": [
      "/opt/anaconda3/envs/hux-rom/lib/python3.9/site-packages/rom_operator_inference/_core/_base.py:604: IntegrationWarning: Required step size is less than spacing between numbers.\n",
      "  warnings.warn(self.sol_.message, IntegrationWarning)\n",
      "/opt/anaconda3/envs/hux-rom/lib/python3.9/site-packages/rom_operator_inference/_core/_base.py:604: IntegrationWarning: Required step size is less than spacing between numbers.\n",
      "  warnings.warn(self.sol_.message, IntegrationWarning)\n"
     ]
    },
    {
     "name": "stdout",
     "output_type": "stream",
     "text": [
      "normal equations solve failed, switching lstsq solver\n",
      "normal equations solve failed, switching lstsq solver\n"
     ]
    },
    {
     "name": "stderr",
     "output_type": "stream",
     "text": [
      "/opt/anaconda3/envs/hux-rom/lib/python3.9/site-packages/rom_operator_inference/_core/_base.py:604: IntegrationWarning: Required step size is less than spacing between numbers.\n",
      "  warnings.warn(self.sol_.message, IntegrationWarning)\n",
      "/opt/anaconda3/envs/hux-rom/lib/python3.9/site-packages/rom_operator_inference/lstsq/_tikhonov.py:398: LinAlgWarning: original least-squares system is underdetermined!\n",
      "  self._process_fit_arguments(A, B)\n",
      "/opt/anaconda3/envs/hux-rom/lib/python3.9/site-packages/rom_operator_inference/_core/_base.py:604: IntegrationWarning: Required step size is less than spacing between numbers.\n",
      "  warnings.warn(self.sol_.message, IntegrationWarning)\n",
      "/opt/anaconda3/envs/hux-rom/lib/python3.9/site-packages/rom_operator_inference/lstsq/_tikhonov.py:398: LinAlgWarning: original least-squares system is underdetermined!\n",
      "  self._process_fit_arguments(A, B)\n"
     ]
    },
    {
     "name": "stdout",
     "output_type": "stream",
     "text": [
      "normal equations solve failed, switching lstsq solver\n",
      "normal equations solve failed, switching lstsq solver\n"
     ]
    },
    {
     "name": "stderr",
     "output_type": "stream",
     "text": [
      "/opt/anaconda3/envs/hux-rom/lib/python3.9/site-packages/rom_operator_inference/_core/_base.py:604: IntegrationWarning: Required step size is less than spacing between numbers.\n",
      "  warnings.warn(self.sol_.message, IntegrationWarning)\n",
      "/opt/anaconda3/envs/hux-rom/lib/python3.9/site-packages/rom_operator_inference/_core/_base.py:604: IntegrationWarning: Required step size is less than spacing between numbers.\n",
      "  warnings.warn(self.sol_.message, IntegrationWarning)\n",
      "/opt/anaconda3/envs/hux-rom/lib/python3.9/site-packages/rom_operator_inference/_core/_base.py:604: IntegrationWarning: Required step size is less than spacing between numbers.\n",
      "  warnings.warn(self.sol_.message, IntegrationWarning)\n",
      "/opt/anaconda3/envs/hux-rom/lib/python3.9/site-packages/rom_operator_inference/_core/_base.py:604: IntegrationWarning: Required step size is less than spacing between numbers.\n",
      "  warnings.warn(self.sol_.message, IntegrationWarning)\n",
      "/opt/anaconda3/envs/hux-rom/lib/python3.9/site-packages/rom_operator_inference/_core/_base.py:604: IntegrationWarning: Required step size is less than spacing between numbers.\n",
      "  warnings.warn(self.sol_.message, IntegrationWarning)\n",
      "/opt/anaconda3/envs/hux-rom/lib/python3.9/site-packages/rom_operator_inference/_core/_base.py:604: IntegrationWarning: Required step size is less than spacing between numbers.\n",
      "  warnings.warn(self.sol_.message, IntegrationWarning)\n",
      "/opt/anaconda3/envs/hux-rom/lib/python3.9/site-packages/rom_operator_inference/_core/_base.py:604: IntegrationWarning: Required step size is less than spacing between numbers.\n",
      "  warnings.warn(self.sol_.message, IntegrationWarning)\n"
     ]
    },
    {
     "name": "stdout",
     "output_type": "stream",
     "text": [
      "normal equations solve failed, switching lstsq solver\n",
      "normal equations solve failed, switching lstsq solver\n",
      "normal equations solve failed, switching lstsq solver\n"
     ]
    },
    {
     "name": "stderr",
     "output_type": "stream",
     "text": [
      "/opt/anaconda3/envs/hux-rom/lib/python3.9/site-packages/rom_operator_inference/_core/_base.py:604: IntegrationWarning: Required step size is less than spacing between numbers.\n",
      "  warnings.warn(self.sol_.message, IntegrationWarning)\n",
      "/opt/anaconda3/envs/hux-rom/lib/python3.9/site-packages/rom_operator_inference/_core/_base.py:604: IntegrationWarning: Required step size is less than spacing between numbers.\n",
      "  warnings.warn(self.sol_.message, IntegrationWarning)\n"
     ]
    },
    {
     "name": "stdout",
     "output_type": "stream",
     "text": [
      "normal equations solve failed, switching lstsq solver\n",
      "normal equations solve failed, switching lstsq solver\n"
     ]
    },
    {
     "name": "stderr",
     "output_type": "stream",
     "text": [
      "/opt/anaconda3/envs/hux-rom/lib/python3.9/site-packages/rom_operator_inference/_core/_base.py:604: IntegrationWarning: Required step size is less than spacing between numbers.\n",
      "  warnings.warn(self.sol_.message, IntegrationWarning)\n",
      "/opt/anaconda3/envs/hux-rom/lib/python3.9/site-packages/rom_operator_inference/lstsq/_tikhonov.py:398: LinAlgWarning: original least-squares system is underdetermined!\n",
      "  self._process_fit_arguments(A, B)\n",
      "/opt/anaconda3/envs/hux-rom/lib/python3.9/site-packages/rom_operator_inference/_core/_base.py:604: IntegrationWarning: Required step size is less than spacing between numbers.\n",
      "  warnings.warn(self.sol_.message, IntegrationWarning)\n",
      "/opt/anaconda3/envs/hux-rom/lib/python3.9/site-packages/rom_operator_inference/lstsq/_tikhonov.py:398: LinAlgWarning: original least-squares system is underdetermined!\n",
      "  self._process_fit_arguments(A, B)\n"
     ]
    },
    {
     "name": "stdout",
     "output_type": "stream",
     "text": [
      "normal equations solve failed, switching lstsq solver\n",
      "normal equations solve failed, switching lstsq solver\n"
     ]
    },
    {
     "name": "stderr",
     "output_type": "stream",
     "text": [
      "/opt/anaconda3/envs/hux-rom/lib/python3.9/site-packages/rom_operator_inference/_core/_base.py:604: IntegrationWarning: Required step size is less than spacing between numbers.\n",
      "  warnings.warn(self.sol_.message, IntegrationWarning)\n",
      "/opt/anaconda3/envs/hux-rom/lib/python3.9/site-packages/rom_operator_inference/_core/_base.py:604: IntegrationWarning: Required step size is less than spacing between numbers.\n",
      "  warnings.warn(self.sol_.message, IntegrationWarning)\n",
      "/opt/anaconda3/envs/hux-rom/lib/python3.9/site-packages/rom_operator_inference/_core/_base.py:604: IntegrationWarning: Required step size is less than spacing between numbers.\n",
      "  warnings.warn(self.sol_.message, IntegrationWarning)\n",
      "/opt/anaconda3/envs/hux-rom/lib/python3.9/site-packages/rom_operator_inference/_core/_base.py:604: IntegrationWarning: Required step size is less than spacing between numbers.\n",
      "  warnings.warn(self.sol_.message, IntegrationWarning)\n",
      "/opt/anaconda3/envs/hux-rom/lib/python3.9/site-packages/rom_operator_inference/_core/_base.py:604: IntegrationWarning: Required step size is less than spacing between numbers.\n",
      "  warnings.warn(self.sol_.message, IntegrationWarning)\n",
      "/opt/anaconda3/envs/hux-rom/lib/python3.9/site-packages/rom_operator_inference/_core/_base.py:604: IntegrationWarning: Required step size is less than spacing between numbers.\n",
      "  warnings.warn(self.sol_.message, IntegrationWarning)\n"
     ]
    },
    {
     "name": "stdout",
     "output_type": "stream",
     "text": [
      "normal equations solve failed, switching lstsq solver\n",
      "normal equations solve failed, switching lstsq solver\n"
     ]
    },
    {
     "name": "stderr",
     "output_type": "stream",
     "text": [
      "/opt/anaconda3/envs/hux-rom/lib/python3.9/site-packages/rom_operator_inference/_core/_base.py:604: IntegrationWarning: Required step size is less than spacing between numbers.\n",
      "  warnings.warn(self.sol_.message, IntegrationWarning)\n"
     ]
    },
    {
     "name": "stdout",
     "output_type": "stream",
     "text": [
      "normal equations solve failed, switching lstsq solver\n"
     ]
    },
    {
     "name": "stderr",
     "output_type": "stream",
     "text": [
      "/opt/anaconda3/envs/hux-rom/lib/python3.9/site-packages/rom_operator_inference/_core/_base.py:604: IntegrationWarning: Required step size is less than spacing between numbers.\n",
      "  warnings.warn(self.sol_.message, IntegrationWarning)\n"
     ]
    },
    {
     "name": "stdout",
     "output_type": "stream",
     "text": [
      "normal equations solve failed, switching lstsq solver\n",
      "normal equations solve failed, switching lstsq solver\n"
     ]
    },
    {
     "name": "stderr",
     "output_type": "stream",
     "text": [
      "/opt/anaconda3/envs/hux-rom/lib/python3.9/site-packages/rom_operator_inference/_core/_base.py:604: IntegrationWarning: Required step size is less than spacing between numbers.\n",
      "  warnings.warn(self.sol_.message, IntegrationWarning)\n",
      "/opt/anaconda3/envs/hux-rom/lib/python3.9/site-packages/rom_operator_inference/_core/_base.py:604: IntegrationWarning: Required step size is less than spacing between numbers.\n",
      "  warnings.warn(self.sol_.message, IntegrationWarning)\n",
      "/opt/anaconda3/envs/hux-rom/lib/python3.9/site-packages/rom_operator_inference/lstsq/_tikhonov.py:398: LinAlgWarning: original least-squares system is underdetermined!\n",
      "  self._process_fit_arguments(A, B)\n"
     ]
    },
    {
     "name": "stdout",
     "output_type": "stream",
     "text": [
      "normal equations solve failed, switching lstsq solver\n"
     ]
    },
    {
     "name": "stderr",
     "output_type": "stream",
     "text": [
      "/opt/anaconda3/envs/hux-rom/lib/python3.9/site-packages/rom_operator_inference/_core/_base.py:604: IntegrationWarning: Required step size is less than spacing between numbers.\n",
      "  warnings.warn(self.sol_.message, IntegrationWarning)\n",
      "/opt/anaconda3/envs/hux-rom/lib/python3.9/site-packages/rom_operator_inference/lstsq/_tikhonov.py:398: LinAlgWarning: original least-squares system is underdetermined!\n",
      "  self._process_fit_arguments(A, B)\n"
     ]
    },
    {
     "name": "stdout",
     "output_type": "stream",
     "text": [
      "normal equations solve failed, switching lstsq solver\n"
     ]
    },
    {
     "name": "stderr",
     "output_type": "stream",
     "text": [
      "/opt/anaconda3/envs/hux-rom/lib/python3.9/site-packages/rom_operator_inference/_core/_base.py:604: IntegrationWarning: Required step size is less than spacing between numbers.\n",
      "  warnings.warn(self.sol_.message, IntegrationWarning)\n",
      "/opt/anaconda3/envs/hux-rom/lib/python3.9/site-packages/rom_operator_inference/_core/_base.py:604: IntegrationWarning: Required step size is less than spacing between numbers.\n",
      "  warnings.warn(self.sol_.message, IntegrationWarning)\n",
      "/opt/anaconda3/envs/hux-rom/lib/python3.9/site-packages/rom_operator_inference/_core/_base.py:604: IntegrationWarning: Required step size is less than spacing between numbers.\n",
      "  warnings.warn(self.sol_.message, IntegrationWarning)\n",
      "/opt/anaconda3/envs/hux-rom/lib/python3.9/site-packages/rom_operator_inference/_core/_base.py:604: IntegrationWarning: Required step size is less than spacing between numbers.\n",
      "  warnings.warn(self.sol_.message, IntegrationWarning)\n",
      "/opt/anaconda3/envs/hux-rom/lib/python3.9/site-packages/rom_operator_inference/_core/_base.py:604: IntegrationWarning: Required step size is less than spacing between numbers.\n",
      "  warnings.warn(self.sol_.message, IntegrationWarning)\n",
      "/opt/anaconda3/envs/hux-rom/lib/python3.9/site-packages/rom_operator_inference/_core/_base.py:604: IntegrationWarning: Required step size is less than spacing between numbers.\n",
      "  warnings.warn(self.sol_.message, IntegrationWarning)\n",
      "/opt/anaconda3/envs/hux-rom/lib/python3.9/site-packages/rom_operator_inference/_core/_base.py:604: IntegrationWarning: Required step size is less than spacing between numbers.\n",
      "  warnings.warn(self.sol_.message, IntegrationWarning)\n",
      "/opt/anaconda3/envs/hux-rom/lib/python3.9/site-packages/rom_operator_inference/_core/_base.py:604: IntegrationWarning: Required step size is less than spacing between numbers.\n",
      "  warnings.warn(self.sol_.message, IntegrationWarning)\n",
      "/opt/anaconda3/envs/hux-rom/lib/python3.9/site-packages/rom_operator_inference/_core/_base.py:604: IntegrationWarning: Required step size is less than spacing between numbers.\n",
      "  warnings.warn(self.sol_.message, IntegrationWarning)\n"
     ]
    },
    {
     "name": "stdout",
     "output_type": "stream",
     "text": [
      "normal equations solve failed, switching lstsq solver\n",
      "normal equations solve failed, switching lstsq solver\n"
     ]
    },
    {
     "name": "stderr",
     "output_type": "stream",
     "text": [
      "/opt/anaconda3/envs/hux-rom/lib/python3.9/site-packages/rom_operator_inference/_core/_base.py:604: IntegrationWarning: Required step size is less than spacing between numbers.\n",
      "  warnings.warn(self.sol_.message, IntegrationWarning)\n",
      "/opt/anaconda3/envs/hux-rom/lib/python3.9/site-packages/rom_operator_inference/lstsq/_tikhonov.py:398: LinAlgWarning: original least-squares system is underdetermined!\n",
      "  self._process_fit_arguments(A, B)\n",
      "/opt/anaconda3/envs/hux-rom/lib/python3.9/site-packages/rom_operator_inference/_core/_base.py:604: IntegrationWarning: Required step size is less than spacing between numbers.\n",
      "  warnings.warn(self.sol_.message, IntegrationWarning)\n",
      "/opt/anaconda3/envs/hux-rom/lib/python3.9/site-packages/rom_operator_inference/lstsq/_tikhonov.py:398: LinAlgWarning: original least-squares system is underdetermined!\n",
      "  self._process_fit_arguments(A, B)\n"
     ]
    },
    {
     "name": "stdout",
     "output_type": "stream",
     "text": [
      "normal equations solve failed, switching lstsq solver\n",
      "normal equations solve failed, switching lstsq solver\n"
     ]
    },
    {
     "name": "stderr",
     "output_type": "stream",
     "text": [
      "/opt/anaconda3/envs/hux-rom/lib/python3.9/site-packages/rom_operator_inference/_core/_base.py:604: IntegrationWarning: Required step size is less than spacing between numbers.\n",
      "  warnings.warn(self.sol_.message, IntegrationWarning)\n",
      "/opt/anaconda3/envs/hux-rom/lib/python3.9/site-packages/rom_operator_inference/_core/_base.py:604: IntegrationWarning: Required step size is less than spacing between numbers.\n",
      "  warnings.warn(self.sol_.message, IntegrationWarning)\n",
      "/opt/anaconda3/envs/hux-rom/lib/python3.9/site-packages/rom_operator_inference/_core/_base.py:604: IntegrationWarning: Required step size is less than spacing between numbers.\n",
      "  warnings.warn(self.sol_.message, IntegrationWarning)\n",
      "/opt/anaconda3/envs/hux-rom/lib/python3.9/site-packages/rom_operator_inference/_core/_base.py:604: IntegrationWarning: Required step size is less than spacing between numbers.\n",
      "  warnings.warn(self.sol_.message, IntegrationWarning)\n",
      "/opt/anaconda3/envs/hux-rom/lib/python3.9/site-packages/rom_operator_inference/_core/_base.py:604: IntegrationWarning: Required step size is less than spacing between numbers.\n",
      "  warnings.warn(self.sol_.message, IntegrationWarning)\n",
      "/opt/anaconda3/envs/hux-rom/lib/python3.9/site-packages/rom_operator_inference/_core/_base.py:604: IntegrationWarning: Required step size is less than spacing between numbers.\n",
      "  warnings.warn(self.sol_.message, IntegrationWarning)\n",
      "/opt/anaconda3/envs/hux-rom/lib/python3.9/site-packages/rom_operator_inference/_core/_base.py:604: IntegrationWarning: Required step size is less than spacing between numbers.\n",
      "  warnings.warn(self.sol_.message, IntegrationWarning)\n",
      "/opt/anaconda3/envs/hux-rom/lib/python3.9/site-packages/rom_operator_inference/_core/_base.py:604: IntegrationWarning: Required step size is less than spacing between numbers.\n",
      "  warnings.warn(self.sol_.message, IntegrationWarning)\n",
      "/opt/anaconda3/envs/hux-rom/lib/python3.9/site-packages/rom_operator_inference/_core/_base.py:604: IntegrationWarning: Required step size is less than spacing between numbers.\n",
      "  warnings.warn(self.sol_.message, IntegrationWarning)\n",
      "/opt/anaconda3/envs/hux-rom/lib/python3.9/site-packages/rom_operator_inference/_core/_base.py:604: IntegrationWarning: Required step size is less than spacing between numbers.\n",
      "  warnings.warn(self.sol_.message, IntegrationWarning)\n",
      "/opt/anaconda3/envs/hux-rom/lib/python3.9/site-packages/rom_operator_inference/lstsq/_tikhonov.py:398: LinAlgWarning: original least-squares system is underdetermined!\n",
      "  self._process_fit_arguments(A, B)\n",
      "/opt/anaconda3/envs/hux-rom/lib/python3.9/site-packages/rom_operator_inference/_core/_base.py:604: IntegrationWarning: Required step size is less than spacing between numbers.\n",
      "  warnings.warn(self.sol_.message, IntegrationWarning)\n",
      "/opt/anaconda3/envs/hux-rom/lib/python3.9/site-packages/rom_operator_inference/lstsq/_tikhonov.py:398: LinAlgWarning: original least-squares system is underdetermined!\n",
      "  self._process_fit_arguments(A, B)\n",
      "/opt/anaconda3/envs/hux-rom/lib/python3.9/site-packages/rom_operator_inference/_core/_base.py:604: IntegrationWarning: Required step size is less than spacing between numbers.\n",
      "  warnings.warn(self.sol_.message, IntegrationWarning)\n",
      "/opt/anaconda3/envs/hux-rom/lib/python3.9/site-packages/rom_operator_inference/_core/_base.py:604: IntegrationWarning: Required step size is less than spacing between numbers.\n",
      "  warnings.warn(self.sol_.message, IntegrationWarning)\n",
      "/opt/anaconda3/envs/hux-rom/lib/python3.9/site-packages/rom_operator_inference/_core/_base.py:604: IntegrationWarning: Required step size is less than spacing between numbers.\n",
      "  warnings.warn(self.sol_.message, IntegrationWarning)\n",
      "/opt/anaconda3/envs/hux-rom/lib/python3.9/site-packages/rom_operator_inference/_core/_base.py:604: IntegrationWarning: Required step size is less than spacing between numbers.\n",
      "  warnings.warn(self.sol_.message, IntegrationWarning)\n",
      "/opt/anaconda3/envs/hux-rom/lib/python3.9/site-packages/rom_operator_inference/_core/_base.py:604: IntegrationWarning: Required step size is less than spacing between numbers.\n",
      "  warnings.warn(self.sol_.message, IntegrationWarning)\n",
      "/opt/anaconda3/envs/hux-rom/lib/python3.9/site-packages/rom_operator_inference/_core/_base.py:604: IntegrationWarning: Required step size is less than spacing between numbers.\n",
      "  warnings.warn(self.sol_.message, IntegrationWarning)\n",
      "/opt/anaconda3/envs/hux-rom/lib/python3.9/site-packages/rom_operator_inference/_core/_base.py:604: IntegrationWarning: Required step size is less than spacing between numbers.\n",
      "  warnings.warn(self.sol_.message, IntegrationWarning)\n",
      "/opt/anaconda3/envs/hux-rom/lib/python3.9/site-packages/rom_operator_inference/_core/_base.py:604: IntegrationWarning: Required step size is less than spacing between numbers.\n",
      "  warnings.warn(self.sol_.message, IntegrationWarning)\n",
      "/opt/anaconda3/envs/hux-rom/lib/python3.9/site-packages/rom_operator_inference/_core/_base.py:604: IntegrationWarning: Required step size is less than spacing between numbers.\n",
      "  warnings.warn(self.sol_.message, IntegrationWarning)\n",
      "/opt/anaconda3/envs/hux-rom/lib/python3.9/site-packages/rom_operator_inference/lstsq/_tikhonov.py:398: LinAlgWarning: original least-squares system is underdetermined!\n",
      "  self._process_fit_arguments(A, B)\n",
      "/opt/anaconda3/envs/hux-rom/lib/python3.9/site-packages/rom_operator_inference/lstsq/_tikhonov.py:398: LinAlgWarning: original least-squares system is underdetermined!\n",
      "  self._process_fit_arguments(A, B)\n",
      "/opt/anaconda3/envs/hux-rom/lib/python3.9/site-packages/rom_operator_inference/_core/_base.py:604: IntegrationWarning: Required step size is less than spacing between numbers.\n",
      "  warnings.warn(self.sol_.message, IntegrationWarning)\n",
      "/opt/anaconda3/envs/hux-rom/lib/python3.9/site-packages/rom_operator_inference/_core/_base.py:604: IntegrationWarning: Required step size is less than spacing between numbers.\n",
      "  warnings.warn(self.sol_.message, IntegrationWarning)\n",
      "/opt/anaconda3/envs/hux-rom/lib/python3.9/site-packages/rom_operator_inference/_core/_base.py:604: IntegrationWarning: Required step size is less than spacing between numbers.\n",
      "  warnings.warn(self.sol_.message, IntegrationWarning)\n",
      "/opt/anaconda3/envs/hux-rom/lib/python3.9/site-packages/rom_operator_inference/_core/_base.py:604: IntegrationWarning: Required step size is less than spacing between numbers.\n",
      "  warnings.warn(self.sol_.message, IntegrationWarning)\n",
      "/opt/anaconda3/envs/hux-rom/lib/python3.9/site-packages/rom_operator_inference/lstsq/_tikhonov.py:398: LinAlgWarning: original least-squares system is underdetermined!\n",
      "  self._process_fit_arguments(A, B)\n",
      "/opt/anaconda3/envs/hux-rom/lib/python3.9/site-packages/rom_operator_inference/lstsq/_tikhonov.py:398: LinAlgWarning: original least-squares system is underdetermined!\n",
      "  self._process_fit_arguments(A, B)\n",
      "/opt/anaconda3/envs/hux-rom/lib/python3.9/site-packages/rom_operator_inference/_core/_base.py:604: IntegrationWarning: Required step size is less than spacing between numbers.\n",
      "  warnings.warn(self.sol_.message, IntegrationWarning)\n",
      "/opt/anaconda3/envs/hux-rom/lib/python3.9/site-packages/rom_operator_inference/_core/_base.py:604: IntegrationWarning: Required step size is less than spacing between numbers.\n",
      "  warnings.warn(self.sol_.message, IntegrationWarning)\n",
      "/opt/anaconda3/envs/hux-rom/lib/python3.9/site-packages/rom_operator_inference/_core/_base.py:604: IntegrationWarning: Required step size is less than spacing between numbers.\n",
      "  warnings.warn(self.sol_.message, IntegrationWarning)\n",
      "/opt/anaconda3/envs/hux-rom/lib/python3.9/site-packages/rom_operator_inference/lstsq/_tikhonov.py:398: LinAlgWarning: original least-squares system is underdetermined!\n",
      "  self._process_fit_arguments(A, B)\n",
      "/opt/anaconda3/envs/hux-rom/lib/python3.9/site-packages/rom_operator_inference/lstsq/_tikhonov.py:398: LinAlgWarning: original least-squares system is underdetermined!\n",
      "  self._process_fit_arguments(A, B)\n",
      "/opt/anaconda3/envs/hux-rom/lib/python3.9/site-packages/rom_operator_inference/_core/_base.py:604: IntegrationWarning: Required step size is less than spacing between numbers.\n",
      "  warnings.warn(self.sol_.message, IntegrationWarning)\n",
      "/opt/anaconda3/envs/hux-rom/lib/python3.9/site-packages/rom_operator_inference/_core/_base.py:604: IntegrationWarning: Required step size is less than spacing between numbers.\n",
      "  warnings.warn(self.sol_.message, IntegrationWarning)\n"
     ]
    },
    {
     "name": "stderr",
     "output_type": "stream",
     "text": [
      "/opt/anaconda3/envs/hux-rom/lib/python3.9/site-packages/rom_operator_inference/_core/_base.py:604: IntegrationWarning: Required step size is less than spacing between numbers.\n",
      "  warnings.warn(self.sol_.message, IntegrationWarning)\n",
      "/opt/anaconda3/envs/hux-rom/lib/python3.9/site-packages/rom_operator_inference/_core/_base.py:604: IntegrationWarning: Required step size is less than spacing between numbers.\n",
      "  warnings.warn(self.sol_.message, IntegrationWarning)\n",
      "/opt/anaconda3/envs/hux-rom/lib/python3.9/site-packages/rom_operator_inference/lstsq/_tikhonov.py:398: LinAlgWarning: original least-squares system is underdetermined!\n",
      "  self._process_fit_arguments(A, B)\n",
      "/opt/anaconda3/envs/hux-rom/lib/python3.9/site-packages/rom_operator_inference/lstsq/_tikhonov.py:398: LinAlgWarning: original least-squares system is underdetermined!\n",
      "  self._process_fit_arguments(A, B)\n",
      "/opt/anaconda3/envs/hux-rom/lib/python3.9/site-packages/rom_operator_inference/_core/_base.py:604: IntegrationWarning: Required step size is less than spacing between numbers.\n",
      "  warnings.warn(self.sol_.message, IntegrationWarning)\n",
      "/opt/anaconda3/envs/hux-rom/lib/python3.9/site-packages/rom_operator_inference/_core/_base.py:604: IntegrationWarning: Required step size is less than spacing between numbers.\n",
      "  warnings.warn(self.sol_.message, IntegrationWarning)\n",
      "/opt/anaconda3/envs/hux-rom/lib/python3.9/site-packages/rom_operator_inference/_core/_base.py:604: IntegrationWarning: Required step size is less than spacing between numbers.\n",
      "  warnings.warn(self.sol_.message, IntegrationWarning)\n",
      "/opt/anaconda3/envs/hux-rom/lib/python3.9/site-packages/rom_operator_inference/lstsq/_tikhonov.py:398: LinAlgWarning: original least-squares system is underdetermined!\n",
      "  self._process_fit_arguments(A, B)\n",
      "/opt/anaconda3/envs/hux-rom/lib/python3.9/site-packages/rom_operator_inference/lstsq/_tikhonov.py:398: LinAlgWarning: original least-squares system is underdetermined!\n",
      "  self._process_fit_arguments(A, B)\n",
      "/opt/anaconda3/envs/hux-rom/lib/python3.9/site-packages/rom_operator_inference/_core/_base.py:604: IntegrationWarning: Required step size is less than spacing between numbers.\n",
      "  warnings.warn(self.sol_.message, IntegrationWarning)\n",
      "/opt/anaconda3/envs/hux-rom/lib/python3.9/site-packages/rom_operator_inference/_core/_base.py:604: IntegrationWarning: Required step size is less than spacing between numbers.\n",
      "  warnings.warn(self.sol_.message, IntegrationWarning)\n",
      "/opt/anaconda3/envs/hux-rom/lib/python3.9/site-packages/rom_operator_inference/_core/_base.py:604: IntegrationWarning: Required step size is less than spacing between numbers.\n",
      "  warnings.warn(self.sol_.message, IntegrationWarning)\n"
     ]
    },
    {
     "name": "stdout",
     "output_type": "stream",
     "text": [
      "normal equations solve failed, switching lstsq solver\n",
      "normal equations solve failed, switching lstsq solver\n"
     ]
    },
    {
     "name": "stderr",
     "output_type": "stream",
     "text": [
      "/opt/anaconda3/envs/hux-rom/lib/python3.9/site-packages/rom_operator_inference/_core/_base.py:604: IntegrationWarning: Required step size is less than spacing between numbers.\n",
      "  warnings.warn(self.sol_.message, IntegrationWarning)\n",
      "/opt/anaconda3/envs/hux-rom/lib/python3.9/site-packages/rom_operator_inference/_core/_base.py:604: IntegrationWarning: Required step size is less than spacing between numbers.\n",
      "  warnings.warn(self.sol_.message, IntegrationWarning)\n"
     ]
    },
    {
     "name": "stdout",
     "output_type": "stream",
     "text": [
      "normal equations solve failed, switching lstsq solver\n",
      "normal equations solve failed, switching lstsq solver\n"
     ]
    },
    {
     "name": "stderr",
     "output_type": "stream",
     "text": [
      "/opt/anaconda3/envs/hux-rom/lib/python3.9/site-packages/rom_operator_inference/_core/_base.py:604: IntegrationWarning: Required step size is less than spacing between numbers.\n",
      "  warnings.warn(self.sol_.message, IntegrationWarning)\n",
      "/opt/anaconda3/envs/hux-rom/lib/python3.9/site-packages/rom_operator_inference/_core/_base.py:604: IntegrationWarning: Required step size is less than spacing between numbers.\n",
      "  warnings.warn(self.sol_.message, IntegrationWarning)\n",
      "/opt/anaconda3/envs/hux-rom/lib/python3.9/site-packages/rom_operator_inference/_core/_base.py:604: IntegrationWarning: Required step size is less than spacing between numbers.\n",
      "  warnings.warn(self.sol_.message, IntegrationWarning)\n",
      "/opt/anaconda3/envs/hux-rom/lib/python3.9/site-packages/rom_operator_inference/lstsq/_tikhonov.py:398: LinAlgWarning: original least-squares system is underdetermined!\n",
      "  self._process_fit_arguments(A, B)\n"
     ]
    },
    {
     "name": "stdout",
     "output_type": "stream",
     "text": [
      "normal equations solve failed, switching lstsq solver\n",
      "normal equations solve failed, switching lstsq solver\n"
     ]
    },
    {
     "name": "stderr",
     "output_type": "stream",
     "text": [
      "/opt/anaconda3/envs/hux-rom/lib/python3.9/site-packages/rom_operator_inference/_core/_base.py:604: IntegrationWarning: Required step size is less than spacing between numbers.\n",
      "  warnings.warn(self.sol_.message, IntegrationWarning)\n",
      "/opt/anaconda3/envs/hux-rom/lib/python3.9/site-packages/rom_operator_inference/lstsq/_tikhonov.py:398: LinAlgWarning: original least-squares system is underdetermined!\n",
      "  self._process_fit_arguments(A, B)\n",
      "/opt/anaconda3/envs/hux-rom/lib/python3.9/site-packages/rom_operator_inference/_core/_base.py:604: IntegrationWarning: Required step size is less than spacing between numbers.\n",
      "  warnings.warn(self.sol_.message, IntegrationWarning)\n"
     ]
    },
    {
     "name": "stdout",
     "output_type": "stream",
     "text": [
      "normal equations solve failed, switching lstsq solver\n"
     ]
    },
    {
     "name": "stderr",
     "output_type": "stream",
     "text": [
      "/opt/anaconda3/envs/hux-rom/lib/python3.9/site-packages/rom_operator_inference/_core/_base.py:604: IntegrationWarning: Required step size is less than spacing between numbers.\n",
      "  warnings.warn(self.sol_.message, IntegrationWarning)\n",
      "/opt/anaconda3/envs/hux-rom/lib/python3.9/site-packages/rom_operator_inference/_core/_base.py:604: IntegrationWarning: Required step size is less than spacing between numbers.\n",
      "  warnings.warn(self.sol_.message, IntegrationWarning)\n",
      "/opt/anaconda3/envs/hux-rom/lib/python3.9/site-packages/rom_operator_inference/_core/_base.py:604: IntegrationWarning: Required step size is less than spacing between numbers.\n",
      "  warnings.warn(self.sol_.message, IntegrationWarning)\n"
     ]
    },
    {
     "name": "stdout",
     "output_type": "stream",
     "text": [
      "normal equations solve failed, switching lstsq solver\n",
      "normal equations solve failed, switching lstsq solver\n"
     ]
    },
    {
     "name": "stderr",
     "output_type": "stream",
     "text": [
      "/opt/anaconda3/envs/hux-rom/lib/python3.9/site-packages/rom_operator_inference/_core/_base.py:604: IntegrationWarning: Required step size is less than spacing between numbers.\n",
      "  warnings.warn(self.sol_.message, IntegrationWarning)\n",
      "/opt/anaconda3/envs/hux-rom/lib/python3.9/site-packages/rom_operator_inference/_core/_base.py:604: IntegrationWarning: Required step size is less than spacing between numbers.\n",
      "  warnings.warn(self.sol_.message, IntegrationWarning)\n"
     ]
    },
    {
     "name": "stdout",
     "output_type": "stream",
     "text": [
      "normal equations solve failed, switching lstsq solver\n",
      "normal equations solve failed, switching lstsq solver\n"
     ]
    },
    {
     "name": "stderr",
     "output_type": "stream",
     "text": [
      "/opt/anaconda3/envs/hux-rom/lib/python3.9/site-packages/rom_operator_inference/_core/_base.py:604: IntegrationWarning: Required step size is less than spacing between numbers.\n",
      "  warnings.warn(self.sol_.message, IntegrationWarning)\n",
      "/opt/anaconda3/envs/hux-rom/lib/python3.9/site-packages/rom_operator_inference/_core/_base.py:604: IntegrationWarning: Required step size is less than spacing between numbers.\n",
      "  warnings.warn(self.sol_.message, IntegrationWarning)\n"
     ]
    },
    {
     "name": "stdout",
     "output_type": "stream",
     "text": [
      "normal equations solve failed, switching lstsq solver\n",
      "normal equations solve failed, switching lstsq solver\n"
     ]
    },
    {
     "name": "stderr",
     "output_type": "stream",
     "text": [
      "/opt/anaconda3/envs/hux-rom/lib/python3.9/site-packages/rom_operator_inference/_core/_base.py:604: IntegrationWarning: Required step size is less than spacing between numbers.\n",
      "  warnings.warn(self.sol_.message, IntegrationWarning)\n",
      "/opt/anaconda3/envs/hux-rom/lib/python3.9/site-packages/rom_operator_inference/lstsq/_tikhonov.py:398: LinAlgWarning: original least-squares system is underdetermined!\n",
      "  self._process_fit_arguments(A, B)\n",
      "/opt/anaconda3/envs/hux-rom/lib/python3.9/site-packages/rom_operator_inference/_core/_base.py:604: IntegrationWarning: Required step size is less than spacing between numbers.\n",
      "  warnings.warn(self.sol_.message, IntegrationWarning)\n",
      "/opt/anaconda3/envs/hux-rom/lib/python3.9/site-packages/rom_operator_inference/lstsq/_tikhonov.py:398: LinAlgWarning: original least-squares system is underdetermined!\n",
      "  self._process_fit_arguments(A, B)\n",
      "/opt/anaconda3/envs/hux-rom/lib/python3.9/site-packages/rom_operator_inference/_core/_base.py:604: IntegrationWarning: Required step size is less than spacing between numbers.\n",
      "  warnings.warn(self.sol_.message, IntegrationWarning)\n"
     ]
    },
    {
     "name": "stdout",
     "output_type": "stream",
     "text": [
      "normal equations solve failed, switching lstsq solver\n"
     ]
    },
    {
     "name": "stderr",
     "output_type": "stream",
     "text": [
      "/opt/anaconda3/envs/hux-rom/lib/python3.9/site-packages/rom_operator_inference/_core/_base.py:604: IntegrationWarning: Required step size is less than spacing between numbers.\n",
      "  warnings.warn(self.sol_.message, IntegrationWarning)\n",
      "/opt/anaconda3/envs/hux-rom/lib/python3.9/site-packages/rom_operator_inference/_core/_base.py:604: IntegrationWarning: Required step size is less than spacing between numbers.\n",
      "  warnings.warn(self.sol_.message, IntegrationWarning)\n",
      "/opt/anaconda3/envs/hux-rom/lib/python3.9/site-packages/rom_operator_inference/_core/_base.py:604: IntegrationWarning: Required step size is less than spacing between numbers.\n",
      "  warnings.warn(self.sol_.message, IntegrationWarning)\n",
      "/opt/anaconda3/envs/hux-rom/lib/python3.9/site-packages/rom_operator_inference/_core/_base.py:604: IntegrationWarning: Required step size is less than spacing between numbers.\n",
      "  warnings.warn(self.sol_.message, IntegrationWarning)\n"
     ]
    },
    {
     "name": "stdout",
     "output_type": "stream",
     "text": [
      "normal equations solve failed, switching lstsq solver\n",
      "normal equations solve failed, switching lstsq solver\n"
     ]
    },
    {
     "name": "stderr",
     "output_type": "stream",
     "text": [
      "/opt/anaconda3/envs/hux-rom/lib/python3.9/site-packages/rom_operator_inference/_core/_base.py:604: IntegrationWarning: Required step size is less than spacing between numbers.\n",
      "  warnings.warn(self.sol_.message, IntegrationWarning)\n"
     ]
    },
    {
     "name": "stdout",
     "output_type": "stream",
     "text": [
      "normal equations solve failed, switching lstsq solver\n"
     ]
    },
    {
     "name": "stderr",
     "output_type": "stream",
     "text": [
      "/opt/anaconda3/envs/hux-rom/lib/python3.9/site-packages/rom_operator_inference/_core/_base.py:604: IntegrationWarning: Required step size is less than spacing between numbers.\n",
      "  warnings.warn(self.sol_.message, IntegrationWarning)\n",
      "/opt/anaconda3/envs/hux-rom/lib/python3.9/site-packages/rom_operator_inference/_core/_base.py:604: IntegrationWarning: Required step size is less than spacing between numbers.\n",
      "  warnings.warn(self.sol_.message, IntegrationWarning)\n"
     ]
    },
    {
     "name": "stdout",
     "output_type": "stream",
     "text": [
      "normal equations solve failed, switching lstsq solver\n",
      "normal equations solve failed, switching lstsq solver\n"
     ]
    },
    {
     "name": "stderr",
     "output_type": "stream",
     "text": [
      "/opt/anaconda3/envs/hux-rom/lib/python3.9/site-packages/rom_operator_inference/_core/_base.py:604: IntegrationWarning: Required step size is less than spacing between numbers.\n",
      "  warnings.warn(self.sol_.message, IntegrationWarning)\n",
      "/opt/anaconda3/envs/hux-rom/lib/python3.9/site-packages/rom_operator_inference/lstsq/_tikhonov.py:398: LinAlgWarning: original least-squares system is underdetermined!\n",
      "  self._process_fit_arguments(A, B)\n"
     ]
    },
    {
     "name": "stdout",
     "output_type": "stream",
     "text": [
      "normal equations solve failed, switching lstsq solver\n"
     ]
    },
    {
     "name": "stderr",
     "output_type": "stream",
     "text": [
      "/opt/anaconda3/envs/hux-rom/lib/python3.9/site-packages/rom_operator_inference/_core/_base.py:604: IntegrationWarning: Required step size is less than spacing between numbers.\n",
      "  warnings.warn(self.sol_.message, IntegrationWarning)\n",
      "/opt/anaconda3/envs/hux-rom/lib/python3.9/site-packages/rom_operator_inference/lstsq/_tikhonov.py:398: LinAlgWarning: original least-squares system is underdetermined!\n",
      "  self._process_fit_arguments(A, B)\n",
      "/opt/anaconda3/envs/hux-rom/lib/python3.9/site-packages/rom_operator_inference/_core/_base.py:604: IntegrationWarning: Required step size is less than spacing between numbers.\n",
      "  warnings.warn(self.sol_.message, IntegrationWarning)\n"
     ]
    },
    {
     "name": "stdout",
     "output_type": "stream",
     "text": [
      "normal equations solve failed, switching lstsq solver\n"
     ]
    },
    {
     "name": "stderr",
     "output_type": "stream",
     "text": [
      "/opt/anaconda3/envs/hux-rom/lib/python3.9/site-packages/rom_operator_inference/_core/_base.py:604: IntegrationWarning: Required step size is less than spacing between numbers.\n",
      "  warnings.warn(self.sol_.message, IntegrationWarning)\n",
      "/opt/anaconda3/envs/hux-rom/lib/python3.9/site-packages/rom_operator_inference/_core/_base.py:604: IntegrationWarning: Required step size is less than spacing between numbers.\n",
      "  warnings.warn(self.sol_.message, IntegrationWarning)\n",
      "/opt/anaconda3/envs/hux-rom/lib/python3.9/site-packages/rom_operator_inference/_core/_base.py:604: IntegrationWarning: Required step size is less than spacing between numbers.\n",
      "  warnings.warn(self.sol_.message, IntegrationWarning)\n",
      "/opt/anaconda3/envs/hux-rom/lib/python3.9/site-packages/rom_operator_inference/_core/_base.py:604: IntegrationWarning: Required step size is less than spacing between numbers.\n",
      "  warnings.warn(self.sol_.message, IntegrationWarning)\n",
      "/opt/anaconda3/envs/hux-rom/lib/python3.9/site-packages/rom_operator_inference/_core/_base.py:604: IntegrationWarning: Required step size is less than spacing between numbers.\n",
      "  warnings.warn(self.sol_.message, IntegrationWarning)\n",
      "/opt/anaconda3/envs/hux-rom/lib/python3.9/site-packages/rom_operator_inference/_core/_base.py:604: IntegrationWarning: Required step size is less than spacing between numbers.\n",
      "  warnings.warn(self.sol_.message, IntegrationWarning)\n",
      "/opt/anaconda3/envs/hux-rom/lib/python3.9/site-packages/rom_operator_inference/_core/_base.py:604: IntegrationWarning: Required step size is less than spacing between numbers.\n",
      "  warnings.warn(self.sol_.message, IntegrationWarning)\n"
     ]
    },
    {
     "name": "stdout",
     "output_type": "stream",
     "text": [
      "normal equations solve failed, switching lstsq solver\n",
      "normal equations solve failed, switching lstsq solver\n"
     ]
    },
    {
     "name": "stderr",
     "output_type": "stream",
     "text": [
      "/opt/anaconda3/envs/hux-rom/lib/python3.9/site-packages/rom_operator_inference/_core/_base.py:604: IntegrationWarning: Required step size is less than spacing between numbers.\n",
      "  warnings.warn(self.sol_.message, IntegrationWarning)\n",
      "/opt/anaconda3/envs/hux-rom/lib/python3.9/site-packages/rom_operator_inference/lstsq/_tikhonov.py:398: LinAlgWarning: original least-squares system is underdetermined!\n",
      "  self._process_fit_arguments(A, B)\n",
      "/opt/anaconda3/envs/hux-rom/lib/python3.9/site-packages/rom_operator_inference/_core/_base.py:604: IntegrationWarning: Required step size is less than spacing between numbers.\n",
      "  warnings.warn(self.sol_.message, IntegrationWarning)\n"
     ]
    },
    {
     "name": "stdout",
     "output_type": "stream",
     "text": [
      "normal equations solve failed, switching lstsq solver\n"
     ]
    },
    {
     "name": "stderr",
     "output_type": "stream",
     "text": [
      "/opt/anaconda3/envs/hux-rom/lib/python3.9/site-packages/rom_operator_inference/lstsq/_tikhonov.py:398: LinAlgWarning: original least-squares system is underdetermined!\n",
      "  self._process_fit_arguments(A, B)\n",
      "/opt/anaconda3/envs/hux-rom/lib/python3.9/site-packages/rom_operator_inference/_core/_base.py:604: IntegrationWarning: Required step size is less than spacing between numbers.\n",
      "  warnings.warn(self.sol_.message, IntegrationWarning)\n"
     ]
    },
    {
     "name": "stdout",
     "output_type": "stream",
     "text": [
      "normal equations solve failed, switching lstsq solver\n"
     ]
    },
    {
     "name": "stderr",
     "output_type": "stream",
     "text": [
      "/opt/anaconda3/envs/hux-rom/lib/python3.9/site-packages/rom_operator_inference/_core/_base.py:604: IntegrationWarning: Required step size is less than spacing between numbers.\n",
      "  warnings.warn(self.sol_.message, IntegrationWarning)\n",
      "/opt/anaconda3/envs/hux-rom/lib/python3.9/site-packages/rom_operator_inference/_core/_base.py:604: IntegrationWarning: Required step size is less than spacing between numbers.\n",
      "  warnings.warn(self.sol_.message, IntegrationWarning)\n",
      "/opt/anaconda3/envs/hux-rom/lib/python3.9/site-packages/rom_operator_inference/_core/_base.py:604: IntegrationWarning: Required step size is less than spacing between numbers.\n",
      "  warnings.warn(self.sol_.message, IntegrationWarning)\n",
      "/opt/anaconda3/envs/hux-rom/lib/python3.9/site-packages/rom_operator_inference/_core/_base.py:604: IntegrationWarning: Required step size is less than spacing between numbers.\n",
      "  warnings.warn(self.sol_.message, IntegrationWarning)\n",
      "/opt/anaconda3/envs/hux-rom/lib/python3.9/site-packages/rom_operator_inference/_core/_base.py:604: IntegrationWarning: Required step size is less than spacing between numbers.\n",
      "  warnings.warn(self.sol_.message, IntegrationWarning)\n",
      "/opt/anaconda3/envs/hux-rom/lib/python3.9/site-packages/rom_operator_inference/_core/_base.py:604: IntegrationWarning: Required step size is less than spacing between numbers.\n",
      "  warnings.warn(self.sol_.message, IntegrationWarning)\n",
      "/opt/anaconda3/envs/hux-rom/lib/python3.9/site-packages/rom_operator_inference/_core/_base.py:604: IntegrationWarning: Required step size is less than spacing between numbers.\n",
      "  warnings.warn(self.sol_.message, IntegrationWarning)\n",
      "/opt/anaconda3/envs/hux-rom/lib/python3.9/site-packages/rom_operator_inference/_core/_base.py:604: IntegrationWarning: Required step size is less than spacing between numbers.\n",
      "  warnings.warn(self.sol_.message, IntegrationWarning)\n",
      "/opt/anaconda3/envs/hux-rom/lib/python3.9/site-packages/rom_operator_inference/lstsq/_tikhonov.py:398: LinAlgWarning: original least-squares system is underdetermined!\n",
      "  self._process_fit_arguments(A, B)\n",
      "/opt/anaconda3/envs/hux-rom/lib/python3.9/site-packages/rom_operator_inference/_core/_base.py:604: IntegrationWarning: Required step size is less than spacing between numbers.\n",
      "  warnings.warn(self.sol_.message, IntegrationWarning)\n",
      "/opt/anaconda3/envs/hux-rom/lib/python3.9/site-packages/rom_operator_inference/lstsq/_tikhonov.py:398: LinAlgWarning: original least-squares system is underdetermined!\n",
      "  self._process_fit_arguments(A, B)\n",
      "/opt/anaconda3/envs/hux-rom/lib/python3.9/site-packages/rom_operator_inference/_core/_base.py:604: IntegrationWarning: Required step size is less than spacing between numbers.\n",
      "  warnings.warn(self.sol_.message, IntegrationWarning)\n",
      "/opt/anaconda3/envs/hux-rom/lib/python3.9/site-packages/rom_operator_inference/_core/_base.py:604: IntegrationWarning: Required step size is less than spacing between numbers.\n",
      "  warnings.warn(self.sol_.message, IntegrationWarning)\n",
      "/opt/anaconda3/envs/hux-rom/lib/python3.9/site-packages/rom_operator_inference/_core/_base.py:604: IntegrationWarning: Required step size is less than spacing between numbers.\n",
      "  warnings.warn(self.sol_.message, IntegrationWarning)\n",
      "/opt/anaconda3/envs/hux-rom/lib/python3.9/site-packages/rom_operator_inference/_core/_base.py:604: IntegrationWarning: Required step size is less than spacing between numbers.\n",
      "  warnings.warn(self.sol_.message, IntegrationWarning)\n",
      "/opt/anaconda3/envs/hux-rom/lib/python3.9/site-packages/rom_operator_inference/_core/_base.py:604: IntegrationWarning: Required step size is less than spacing between numbers.\n",
      "  warnings.warn(self.sol_.message, IntegrationWarning)\n",
      "/opt/anaconda3/envs/hux-rom/lib/python3.9/site-packages/rom_operator_inference/_core/_base.py:604: IntegrationWarning: Required step size is less than spacing between numbers.\n",
      "  warnings.warn(self.sol_.message, IntegrationWarning)\n",
      "/opt/anaconda3/envs/hux-rom/lib/python3.9/site-packages/rom_operator_inference/_core/_base.py:604: IntegrationWarning: Required step size is less than spacing between numbers.\n",
      "  warnings.warn(self.sol_.message, IntegrationWarning)\n",
      "/opt/anaconda3/envs/hux-rom/lib/python3.9/site-packages/rom_operator_inference/lstsq/_tikhonov.py:398: LinAlgWarning: original least-squares system is underdetermined!\n",
      "  self._process_fit_arguments(A, B)\n",
      "/opt/anaconda3/envs/hux-rom/lib/python3.9/site-packages/rom_operator_inference/lstsq/_tikhonov.py:398: LinAlgWarning: original least-squares system is underdetermined!\n",
      "  self._process_fit_arguments(A, B)\n",
      "/opt/anaconda3/envs/hux-rom/lib/python3.9/site-packages/rom_operator_inference/_core/_base.py:604: IntegrationWarning: Required step size is less than spacing between numbers.\n",
      "  warnings.warn(self.sol_.message, IntegrationWarning)\n",
      "/opt/anaconda3/envs/hux-rom/lib/python3.9/site-packages/rom_operator_inference/lstsq/_tikhonov.py:398: LinAlgWarning: original least-squares system is underdetermined!\n",
      "  self._process_fit_arguments(A, B)\n",
      "/opt/anaconda3/envs/hux-rom/lib/python3.9/site-packages/rom_operator_inference/lstsq/_tikhonov.py:398: LinAlgWarning: original least-squares system is underdetermined!\n",
      "  self._process_fit_arguments(A, B)\n",
      "/opt/anaconda3/envs/hux-rom/lib/python3.9/site-packages/rom_operator_inference/_core/_base.py:604: IntegrationWarning: Required step size is less than spacing between numbers.\n",
      "  warnings.warn(self.sol_.message, IntegrationWarning)\n",
      "/opt/anaconda3/envs/hux-rom/lib/python3.9/site-packages/rom_operator_inference/lstsq/_tikhonov.py:398: LinAlgWarning: original least-squares system is underdetermined!\n",
      "  self._process_fit_arguments(A, B)\n",
      "/opt/anaconda3/envs/hux-rom/lib/python3.9/site-packages/rom_operator_inference/lstsq/_tikhonov.py:398: LinAlgWarning: original least-squares system is underdetermined!\n",
      "  self._process_fit_arguments(A, B)\n",
      "/opt/anaconda3/envs/hux-rom/lib/python3.9/site-packages/rom_operator_inference/_core/_base.py:604: IntegrationWarning: Required step size is less than spacing between numbers.\n",
      "  warnings.warn(self.sol_.message, IntegrationWarning)\n",
      "/opt/anaconda3/envs/hux-rom/lib/python3.9/site-packages/rom_operator_inference/_core/_base.py:604: IntegrationWarning: Required step size is less than spacing between numbers.\n",
      "  warnings.warn(self.sol_.message, IntegrationWarning)\n",
      "/opt/anaconda3/envs/hux-rom/lib/python3.9/site-packages/rom_operator_inference/_core/_base.py:604: IntegrationWarning: Required step size is less than spacing between numbers.\n",
      "  warnings.warn(self.sol_.message, IntegrationWarning)\n",
      "/opt/anaconda3/envs/hux-rom/lib/python3.9/site-packages/rom_operator_inference/lstsq/_tikhonov.py:398: LinAlgWarning: original least-squares system is underdetermined!\n",
      "  self._process_fit_arguments(A, B)\n",
      "/opt/anaconda3/envs/hux-rom/lib/python3.9/site-packages/rom_operator_inference/lstsq/_tikhonov.py:398: LinAlgWarning: original least-squares system is underdetermined!\n",
      "  self._process_fit_arguments(A, B)\n",
      "/opt/anaconda3/envs/hux-rom/lib/python3.9/site-packages/rom_operator_inference/_core/_base.py:604: IntegrationWarning: Required step size is less than spacing between numbers.\n",
      "  warnings.warn(self.sol_.message, IntegrationWarning)\n",
      "/opt/anaconda3/envs/hux-rom/lib/python3.9/site-packages/rom_operator_inference/_core/_base.py:604: IntegrationWarning: Required step size is less than spacing between numbers.\n",
      "  warnings.warn(self.sol_.message, IntegrationWarning)\n",
      "/opt/anaconda3/envs/hux-rom/lib/python3.9/site-packages/rom_operator_inference/lstsq/_tikhonov.py:398: LinAlgWarning: original least-squares system is underdetermined!\n",
      "  self._process_fit_arguments(A, B)\n",
      "/opt/anaconda3/envs/hux-rom/lib/python3.9/site-packages/rom_operator_inference/lstsq/_tikhonov.py:398: LinAlgWarning: original least-squares system is underdetermined!\n",
      "  self._process_fit_arguments(A, B)\n",
      "/opt/anaconda3/envs/hux-rom/lib/python3.9/site-packages/rom_operator_inference/_core/_base.py:604: IntegrationWarning: Required step size is less than spacing between numbers.\n",
      "  warnings.warn(self.sol_.message, IntegrationWarning)\n",
      "/opt/anaconda3/envs/hux-rom/lib/python3.9/site-packages/rom_operator_inference/_core/_base.py:604: IntegrationWarning: Required step size is less than spacing between numbers.\n",
      "  warnings.warn(self.sol_.message, IntegrationWarning)\n",
      "/opt/anaconda3/envs/hux-rom/lib/python3.9/site-packages/rom_operator_inference/_core/_base.py:604: IntegrationWarning: Required step size is less than spacing between numbers.\n",
      "  warnings.warn(self.sol_.message, IntegrationWarning)\n"
     ]
    },
    {
     "name": "stdout",
     "output_type": "stream",
     "text": [
      "normal equations solve failed, switching lstsq solver\n",
      "normal equations solve failed, switching lstsq solver\n"
     ]
    },
    {
     "name": "stderr",
     "output_type": "stream",
     "text": [
      "/opt/anaconda3/envs/hux-rom/lib/python3.9/site-packages/rom_operator_inference/_core/_base.py:604: IntegrationWarning: Required step size is less than spacing between numbers.\n",
      "  warnings.warn(self.sol_.message, IntegrationWarning)\n",
      "/opt/anaconda3/envs/hux-rom/lib/python3.9/site-packages/rom_operator_inference/_core/_base.py:604: IntegrationWarning: Required step size is less than spacing between numbers.\n",
      "  warnings.warn(self.sol_.message, IntegrationWarning)\n"
     ]
    },
    {
     "name": "stdout",
     "output_type": "stream",
     "text": [
      "normal equations solve failed, switching lstsq solver\n",
      "normal equations solve failed, switching lstsq solver\n"
     ]
    },
    {
     "name": "stderr",
     "output_type": "stream",
     "text": [
      "/opt/anaconda3/envs/hux-rom/lib/python3.9/site-packages/rom_operator_inference/_core/_base.py:604: IntegrationWarning: Required step size is less than spacing between numbers.\n",
      "  warnings.warn(self.sol_.message, IntegrationWarning)\n",
      "/opt/anaconda3/envs/hux-rom/lib/python3.9/site-packages/rom_operator_inference/_core/_base.py:604: IntegrationWarning: Required step size is less than spacing between numbers.\n",
      "  warnings.warn(self.sol_.message, IntegrationWarning)\n",
      "/opt/anaconda3/envs/hux-rom/lib/python3.9/site-packages/rom_operator_inference/lstsq/_tikhonov.py:398: LinAlgWarning: original least-squares system is underdetermined!\n",
      "  self._process_fit_arguments(A, B)\n"
     ]
    },
    {
     "name": "stdout",
     "output_type": "stream",
     "text": [
      "normal equations solve failed, switching lstsq solver\n",
      "normal equations solve failed, switching lstsq solver\n"
     ]
    },
    {
     "name": "stderr",
     "output_type": "stream",
     "text": [
      "/opt/anaconda3/envs/hux-rom/lib/python3.9/site-packages/rom_operator_inference/_core/_base.py:604: IntegrationWarning: Required step size is less than spacing between numbers.\n",
      "  warnings.warn(self.sol_.message, IntegrationWarning)\n",
      "/opt/anaconda3/envs/hux-rom/lib/python3.9/site-packages/rom_operator_inference/lstsq/_tikhonov.py:398: LinAlgWarning: original least-squares system is underdetermined!\n",
      "  self._process_fit_arguments(A, B)\n",
      "/opt/anaconda3/envs/hux-rom/lib/python3.9/site-packages/rom_operator_inference/_core/_base.py:604: IntegrationWarning: Required step size is less than spacing between numbers.\n",
      "  warnings.warn(self.sol_.message, IntegrationWarning)\n"
     ]
    },
    {
     "name": "stdout",
     "output_type": "stream",
     "text": [
      "normal equations solve failed, switching lstsq solver\n"
     ]
    },
    {
     "name": "stderr",
     "output_type": "stream",
     "text": [
      "/opt/anaconda3/envs/hux-rom/lib/python3.9/site-packages/rom_operator_inference/_core/_base.py:604: IntegrationWarning: Required step size is less than spacing between numbers.\n",
      "  warnings.warn(self.sol_.message, IntegrationWarning)\n",
      "/opt/anaconda3/envs/hux-rom/lib/python3.9/site-packages/rom_operator_inference/_core/_base.py:604: IntegrationWarning: Required step size is less than spacing between numbers.\n",
      "  warnings.warn(self.sol_.message, IntegrationWarning)\n",
      "/opt/anaconda3/envs/hux-rom/lib/python3.9/site-packages/rom_operator_inference/_core/_base.py:604: IntegrationWarning: Required step size is less than spacing between numbers.\n",
      "  warnings.warn(self.sol_.message, IntegrationWarning)\n"
     ]
    },
    {
     "name": "stdout",
     "output_type": "stream",
     "text": [
      "normal equations solve failed, switching lstsq solver\n",
      "normal equations solve failed, switching lstsq solver\n"
     ]
    },
    {
     "name": "stderr",
     "output_type": "stream",
     "text": [
      "/opt/anaconda3/envs/hux-rom/lib/python3.9/site-packages/rom_operator_inference/_core/_base.py:604: IntegrationWarning: Required step size is less than spacing between numbers.\n",
      "  warnings.warn(self.sol_.message, IntegrationWarning)\n",
      "/opt/anaconda3/envs/hux-rom/lib/python3.9/site-packages/rom_operator_inference/_core/_base.py:604: IntegrationWarning: Required step size is less than spacing between numbers.\n",
      "  warnings.warn(self.sol_.message, IntegrationWarning)\n"
     ]
    },
    {
     "name": "stdout",
     "output_type": "stream",
     "text": [
      "normal equations solve failed, switching lstsq solver\n",
      "normal equations solve failed, switching lstsq solver\n"
     ]
    },
    {
     "name": "stderr",
     "output_type": "stream",
     "text": [
      "/opt/anaconda3/envs/hux-rom/lib/python3.9/site-packages/rom_operator_inference/_core/_base.py:604: IntegrationWarning: Required step size is less than spacing between numbers.\n",
      "  warnings.warn(self.sol_.message, IntegrationWarning)\n",
      "/opt/anaconda3/envs/hux-rom/lib/python3.9/site-packages/rom_operator_inference/_core/_base.py:604: IntegrationWarning: Required step size is less than spacing between numbers.\n",
      "  warnings.warn(self.sol_.message, IntegrationWarning)\n",
      "/opt/anaconda3/envs/hux-rom/lib/python3.9/site-packages/rom_operator_inference/lstsq/_tikhonov.py:398: LinAlgWarning: original least-squares system is underdetermined!\n",
      "  self._process_fit_arguments(A, B)\n"
     ]
    },
    {
     "name": "stdout",
     "output_type": "stream",
     "text": [
      "normal equations solve failed, switching lstsq solver\n",
      "normal equations solve failed, switching lstsq solver\n"
     ]
    },
    {
     "name": "stderr",
     "output_type": "stream",
     "text": [
      "/opt/anaconda3/envs/hux-rom/lib/python3.9/site-packages/rom_operator_inference/_core/_base.py:604: IntegrationWarning: Required step size is less than spacing between numbers.\n",
      "  warnings.warn(self.sol_.message, IntegrationWarning)\n",
      "/opt/anaconda3/envs/hux-rom/lib/python3.9/site-packages/rom_operator_inference/lstsq/_tikhonov.py:398: LinAlgWarning: original least-squares system is underdetermined!\n",
      "  self._process_fit_arguments(A, B)\n",
      "/opt/anaconda3/envs/hux-rom/lib/python3.9/site-packages/rom_operator_inference/_core/_base.py:604: IntegrationWarning: Required step size is less than spacing between numbers.\n",
      "  warnings.warn(self.sol_.message, IntegrationWarning)\n"
     ]
    },
    {
     "name": "stdout",
     "output_type": "stream",
     "text": [
      "normal equations solve failed, switching lstsq solver\n"
     ]
    },
    {
     "name": "stderr",
     "output_type": "stream",
     "text": [
      "/opt/anaconda3/envs/hux-rom/lib/python3.9/site-packages/rom_operator_inference/_core/_base.py:604: IntegrationWarning: Required step size is less than spacing between numbers.\n",
      "  warnings.warn(self.sol_.message, IntegrationWarning)\n",
      "/opt/anaconda3/envs/hux-rom/lib/python3.9/site-packages/rom_operator_inference/_core/_base.py:604: IntegrationWarning: Required step size is less than spacing between numbers.\n",
      "  warnings.warn(self.sol_.message, IntegrationWarning)\n",
      "/opt/anaconda3/envs/hux-rom/lib/python3.9/site-packages/rom_operator_inference/_core/_base.py:604: IntegrationWarning: Required step size is less than spacing between numbers.\n",
      "  warnings.warn(self.sol_.message, IntegrationWarning)\n"
     ]
    },
    {
     "name": "stdout",
     "output_type": "stream",
     "text": [
      "normal equations solve failed, switching lstsq solver\n",
      "normal equations solve failed, switching lstsq solver\n"
     ]
    },
    {
     "name": "stderr",
     "output_type": "stream",
     "text": [
      "/opt/anaconda3/envs/hux-rom/lib/python3.9/site-packages/rom_operator_inference/_core/_base.py:604: IntegrationWarning: Required step size is less than spacing between numbers.\n",
      "  warnings.warn(self.sol_.message, IntegrationWarning)\n",
      "/opt/anaconda3/envs/hux-rom/lib/python3.9/site-packages/rom_operator_inference/_core/_base.py:604: IntegrationWarning: Required step size is less than spacing between numbers.\n",
      "  warnings.warn(self.sol_.message, IntegrationWarning)\n"
     ]
    },
    {
     "name": "stdout",
     "output_type": "stream",
     "text": [
      "normal equations solve failed, switching lstsq solver\n",
      "normal equations solve failed, switching lstsq solver\n"
     ]
    },
    {
     "name": "stderr",
     "output_type": "stream",
     "text": [
      "/opt/anaconda3/envs/hux-rom/lib/python3.9/site-packages/rom_operator_inference/_core/_base.py:604: IntegrationWarning: Required step size is less than spacing between numbers.\n",
      "  warnings.warn(self.sol_.message, IntegrationWarning)\n",
      "/opt/anaconda3/envs/hux-rom/lib/python3.9/site-packages/rom_operator_inference/_core/_base.py:604: IntegrationWarning: Required step size is less than spacing between numbers.\n",
      "  warnings.warn(self.sol_.message, IntegrationWarning)\n"
     ]
    },
    {
     "name": "stdout",
     "output_type": "stream",
     "text": [
      "normal equations solve failed, switching lstsq solver\n",
      "normal equations solve failed, switching lstsq solver\n"
     ]
    },
    {
     "name": "stderr",
     "output_type": "stream",
     "text": [
      "/opt/anaconda3/envs/hux-rom/lib/python3.9/site-packages/rom_operator_inference/lstsq/_tikhonov.py:398: LinAlgWarning: original least-squares system is underdetermined!\n",
      "  self._process_fit_arguments(A, B)\n",
      "/opt/anaconda3/envs/hux-rom/lib/python3.9/site-packages/rom_operator_inference/_core/_base.py:604: IntegrationWarning: Required step size is less than spacing between numbers.\n",
      "  warnings.warn(self.sol_.message, IntegrationWarning)\n",
      "/opt/anaconda3/envs/hux-rom/lib/python3.9/site-packages/rom_operator_inference/lstsq/_tikhonov.py:398: LinAlgWarning: original least-squares system is underdetermined!\n",
      "  self._process_fit_arguments(A, B)\n"
     ]
    },
    {
     "name": "stdout",
     "output_type": "stream",
     "text": [
      "normal equations solve failed, switching lstsq solver\n"
     ]
    },
    {
     "name": "stderr",
     "output_type": "stream",
     "text": [
      "/opt/anaconda3/envs/hux-rom/lib/python3.9/site-packages/rom_operator_inference/_core/_base.py:604: IntegrationWarning: Required step size is less than spacing between numbers.\n",
      "  warnings.warn(self.sol_.message, IntegrationWarning)\n",
      "/opt/anaconda3/envs/hux-rom/lib/python3.9/site-packages/rom_operator_inference/_core/_base.py:604: IntegrationWarning: Required step size is less than spacing between numbers.\n",
      "  warnings.warn(self.sol_.message, IntegrationWarning)\n",
      "/opt/anaconda3/envs/hux-rom/lib/python3.9/site-packages/rom_operator_inference/_core/_base.py:604: IntegrationWarning: Required step size is less than spacing between numbers.\n",
      "  warnings.warn(self.sol_.message, IntegrationWarning)\n",
      "/opt/anaconda3/envs/hux-rom/lib/python3.9/site-packages/rom_operator_inference/_core/_base.py:604: IntegrationWarning: Required step size is less than spacing between numbers.\n",
      "  warnings.warn(self.sol_.message, IntegrationWarning)\n",
      "/opt/anaconda3/envs/hux-rom/lib/python3.9/site-packages/rom_operator_inference/_core/_base.py:604: IntegrationWarning: Required step size is less than spacing between numbers.\n",
      "  warnings.warn(self.sol_.message, IntegrationWarning)\n",
      "/opt/anaconda3/envs/hux-rom/lib/python3.9/site-packages/rom_operator_inference/_core/_base.py:604: IntegrationWarning: Required step size is less than spacing between numbers.\n",
      "  warnings.warn(self.sol_.message, IntegrationWarning)\n"
     ]
    },
    {
     "name": "stdout",
     "output_type": "stream",
     "text": [
      "normal equations solve failed, switching lstsq solver\n",
      "normal equations solve failed, switching lstsq solver\n"
     ]
    },
    {
     "name": "stderr",
     "output_type": "stream",
     "text": [
      "/opt/anaconda3/envs/hux-rom/lib/python3.9/site-packages/rom_operator_inference/_core/_base.py:604: IntegrationWarning: Required step size is less than spacing between numbers.\n",
      "  warnings.warn(self.sol_.message, IntegrationWarning)\n",
      "/opt/anaconda3/envs/hux-rom/lib/python3.9/site-packages/rom_operator_inference/_core/_base.py:604: IntegrationWarning: Required step size is less than spacing between numbers.\n",
      "  warnings.warn(self.sol_.message, IntegrationWarning)\n",
      "/opt/anaconda3/envs/hux-rom/lib/python3.9/site-packages/rom_operator_inference/lstsq/_tikhonov.py:398: LinAlgWarning: original least-squares system is underdetermined!\n",
      "  self._process_fit_arguments(A, B)\n"
     ]
    },
    {
     "name": "stdout",
     "output_type": "stream",
     "text": [
      "normal equations solve failed, switching lstsq solver\n",
      "normal equations solve failed, switching lstsq solver\n"
     ]
    },
    {
     "name": "stderr",
     "output_type": "stream",
     "text": [
      "/opt/anaconda3/envs/hux-rom/lib/python3.9/site-packages/rom_operator_inference/_core/_base.py:604: IntegrationWarning: Required step size is less than spacing between numbers.\n",
      "  warnings.warn(self.sol_.message, IntegrationWarning)\n",
      "/opt/anaconda3/envs/hux-rom/lib/python3.9/site-packages/rom_operator_inference/lstsq/_tikhonov.py:398: LinAlgWarning: original least-squares system is underdetermined!\n",
      "  self._process_fit_arguments(A, B)\n",
      "/opt/anaconda3/envs/hux-rom/lib/python3.9/site-packages/rom_operator_inference/_core/_base.py:604: IntegrationWarning: Required step size is less than spacing between numbers.\n",
      "  warnings.warn(self.sol_.message, IntegrationWarning)\n",
      "/opt/anaconda3/envs/hux-rom/lib/python3.9/site-packages/rom_operator_inference/_core/_base.py:604: IntegrationWarning: Required step size is less than spacing between numbers.\n",
      "  warnings.warn(self.sol_.message, IntegrationWarning)\n",
      "/opt/anaconda3/envs/hux-rom/lib/python3.9/site-packages/rom_operator_inference/_core/_base.py:604: IntegrationWarning: Required step size is less than spacing between numbers.\n",
      "  warnings.warn(self.sol_.message, IntegrationWarning)\n",
      "/opt/anaconda3/envs/hux-rom/lib/python3.9/site-packages/rom_operator_inference/_core/_base.py:604: IntegrationWarning: Required step size is less than spacing between numbers.\n",
      "  warnings.warn(self.sol_.message, IntegrationWarning)\n",
      "/opt/anaconda3/envs/hux-rom/lib/python3.9/site-packages/rom_operator_inference/_core/_base.py:604: IntegrationWarning: Required step size is less than spacing between numbers.\n",
      "  warnings.warn(self.sol_.message, IntegrationWarning)\n",
      "/opt/anaconda3/envs/hux-rom/lib/python3.9/site-packages/rom_operator_inference/_core/_base.py:604: IntegrationWarning: Required step size is less than spacing between numbers.\n",
      "  warnings.warn(self.sol_.message, IntegrationWarning)\n",
      "/opt/anaconda3/envs/hux-rom/lib/python3.9/site-packages/rom_operator_inference/_core/_base.py:604: IntegrationWarning: Required step size is less than spacing between numbers.\n",
      "  warnings.warn(self.sol_.message, IntegrationWarning)\n",
      "/opt/anaconda3/envs/hux-rom/lib/python3.9/site-packages/rom_operator_inference/_core/_base.py:604: IntegrationWarning: Required step size is less than spacing between numbers.\n",
      "  warnings.warn(self.sol_.message, IntegrationWarning)\n",
      "/opt/anaconda3/envs/hux-rom/lib/python3.9/site-packages/rom_operator_inference/lstsq/_tikhonov.py:398: LinAlgWarning: original least-squares system is underdetermined!\n",
      "  self._process_fit_arguments(A, B)\n",
      "/opt/anaconda3/envs/hux-rom/lib/python3.9/site-packages/rom_operator_inference/_core/_base.py:604: IntegrationWarning: Required step size is less than spacing between numbers.\n",
      "  warnings.warn(self.sol_.message, IntegrationWarning)\n",
      "/opt/anaconda3/envs/hux-rom/lib/python3.9/site-packages/rom_operator_inference/lstsq/_tikhonov.py:398: LinAlgWarning: original least-squares system is underdetermined!\n",
      "  self._process_fit_arguments(A, B)\n",
      "/opt/anaconda3/envs/hux-rom/lib/python3.9/site-packages/rom_operator_inference/_core/_base.py:604: IntegrationWarning: Required step size is less than spacing between numbers.\n",
      "  warnings.warn(self.sol_.message, IntegrationWarning)\n",
      "/opt/anaconda3/envs/hux-rom/lib/python3.9/site-packages/rom_operator_inference/_core/_base.py:604: IntegrationWarning: Required step size is less than spacing between numbers.\n",
      "  warnings.warn(self.sol_.message, IntegrationWarning)\n",
      "/opt/anaconda3/envs/hux-rom/lib/python3.9/site-packages/rom_operator_inference/_core/_base.py:604: IntegrationWarning: Required step size is less than spacing between numbers.\n",
      "  warnings.warn(self.sol_.message, IntegrationWarning)\n",
      "/opt/anaconda3/envs/hux-rom/lib/python3.9/site-packages/rom_operator_inference/_core/_base.py:604: IntegrationWarning: Required step size is less than spacing between numbers.\n",
      "  warnings.warn(self.sol_.message, IntegrationWarning)\n",
      "/opt/anaconda3/envs/hux-rom/lib/python3.9/site-packages/rom_operator_inference/_core/_base.py:604: IntegrationWarning: Required step size is less than spacing between numbers.\n",
      "  warnings.warn(self.sol_.message, IntegrationWarning)\n",
      "/opt/anaconda3/envs/hux-rom/lib/python3.9/site-packages/rom_operator_inference/_core/_base.py:604: IntegrationWarning: Required step size is less than spacing between numbers.\n",
      "  warnings.warn(self.sol_.message, IntegrationWarning)\n",
      "/opt/anaconda3/envs/hux-rom/lib/python3.9/site-packages/rom_operator_inference/lstsq/_tikhonov.py:398: LinAlgWarning: original least-squares system is underdetermined!\n",
      "  self._process_fit_arguments(A, B)\n",
      "/opt/anaconda3/envs/hux-rom/lib/python3.9/site-packages/rom_operator_inference/lstsq/_tikhonov.py:398: LinAlgWarning: original least-squares system is underdetermined!\n",
      "  self._process_fit_arguments(A, B)\n",
      "/opt/anaconda3/envs/hux-rom/lib/python3.9/site-packages/rom_operator_inference/lstsq/_tikhonov.py:398: LinAlgWarning: original least-squares system is underdetermined!\n",
      "  self._process_fit_arguments(A, B)\n",
      "/opt/anaconda3/envs/hux-rom/lib/python3.9/site-packages/rom_operator_inference/lstsq/_tikhonov.py:398: LinAlgWarning: original least-squares system is underdetermined!\n",
      "  self._process_fit_arguments(A, B)\n",
      "/opt/anaconda3/envs/hux-rom/lib/python3.9/site-packages/rom_operator_inference/lstsq/_tikhonov.py:398: LinAlgWarning: original least-squares system is underdetermined!\n",
      "  self._process_fit_arguments(A, B)\n",
      "/opt/anaconda3/envs/hux-rom/lib/python3.9/site-packages/rom_operator_inference/lstsq/_tikhonov.py:398: LinAlgWarning: original least-squares system is underdetermined!\n",
      "  self._process_fit_arguments(A, B)\n",
      "/opt/anaconda3/envs/hux-rom/lib/python3.9/site-packages/rom_operator_inference/lstsq/_tikhonov.py:398: LinAlgWarning: original least-squares system is underdetermined!\n",
      "  self._process_fit_arguments(A, B)\n",
      "/opt/anaconda3/envs/hux-rom/lib/python3.9/site-packages/rom_operator_inference/lstsq/_tikhonov.py:398: LinAlgWarning: original least-squares system is underdetermined!\n",
      "  self._process_fit_arguments(A, B)\n",
      "/opt/anaconda3/envs/hux-rom/lib/python3.9/site-packages/rom_operator_inference/lstsq/_tikhonov.py:398: LinAlgWarning: original least-squares system is underdetermined!\n",
      "  self._process_fit_arguments(A, B)\n",
      "/opt/anaconda3/envs/hux-rom/lib/python3.9/site-packages/rom_operator_inference/lstsq/_tikhonov.py:398: LinAlgWarning: original least-squares system is underdetermined!\n",
      "  self._process_fit_arguments(A, B)\n",
      "/opt/anaconda3/envs/hux-rom/lib/python3.9/site-packages/rom_operator_inference/_core/_base.py:604: IntegrationWarning: Required step size is less than spacing between numbers.\n",
      "  warnings.warn(self.sol_.message, IntegrationWarning)\n",
      "/opt/anaconda3/envs/hux-rom/lib/python3.9/site-packages/rom_operator_inference/_core/_base.py:604: IntegrationWarning: Required step size is less than spacing between numbers.\n",
      "  warnings.warn(self.sol_.message, IntegrationWarning)\n",
      "/opt/anaconda3/envs/hux-rom/lib/python3.9/site-packages/rom_operator_inference/_core/_base.py:604: IntegrationWarning: Required step size is less than spacing between numbers.\n",
      "  warnings.warn(self.sol_.message, IntegrationWarning)\n"
     ]
    },
    {
     "name": "stdout",
     "output_type": "stream",
     "text": [
      "normal equations solve failed, switching lstsq solver\n",
      "normal equations solve failed, switching lstsq solver\n"
     ]
    },
    {
     "name": "stderr",
     "output_type": "stream",
     "text": [
      "/opt/anaconda3/envs/hux-rom/lib/python3.9/site-packages/rom_operator_inference/_core/_base.py:604: IntegrationWarning: Required step size is less than spacing between numbers.\n",
      "  warnings.warn(self.sol_.message, IntegrationWarning)\n",
      "/opt/anaconda3/envs/hux-rom/lib/python3.9/site-packages/rom_operator_inference/_core/_base.py:604: IntegrationWarning: Required step size is less than spacing between numbers.\n",
      "  warnings.warn(self.sol_.message, IntegrationWarning)\n"
     ]
    },
    {
     "name": "stdout",
     "output_type": "stream",
     "text": [
      "normal equations solve failed, switching lstsq solver\n",
      "normal equations solve failed, switching lstsq solver\n"
     ]
    },
    {
     "name": "stderr",
     "output_type": "stream",
     "text": [
      "/opt/anaconda3/envs/hux-rom/lib/python3.9/site-packages/rom_operator_inference/_core/_base.py:604: IntegrationWarning: Required step size is less than spacing between numbers.\n",
      "  warnings.warn(self.sol_.message, IntegrationWarning)\n",
      "/opt/anaconda3/envs/hux-rom/lib/python3.9/site-packages/rom_operator_inference/_core/_base.py:604: IntegrationWarning: Required step size is less than spacing between numbers.\n",
      "  warnings.warn(self.sol_.message, IntegrationWarning)\n",
      "/opt/anaconda3/envs/hux-rom/lib/python3.9/site-packages/rom_operator_inference/lstsq/_tikhonov.py:398: LinAlgWarning: original least-squares system is underdetermined!\n",
      "  self._process_fit_arguments(A, B)\n"
     ]
    },
    {
     "name": "stdout",
     "output_type": "stream",
     "text": [
      "normal equations solve failed, switching lstsq solver\n",
      "normal equations solve failed, switching lstsq solver\n"
     ]
    },
    {
     "name": "stderr",
     "output_type": "stream",
     "text": [
      "/opt/anaconda3/envs/hux-rom/lib/python3.9/site-packages/rom_operator_inference/_core/_base.py:604: IntegrationWarning: Required step size is less than spacing between numbers.\n",
      "  warnings.warn(self.sol_.message, IntegrationWarning)\n",
      "/opt/anaconda3/envs/hux-rom/lib/python3.9/site-packages/rom_operator_inference/lstsq/_tikhonov.py:398: LinAlgWarning: original least-squares system is underdetermined!\n",
      "  self._process_fit_arguments(A, B)\n",
      "/opt/anaconda3/envs/hux-rom/lib/python3.9/site-packages/rom_operator_inference/_core/_base.py:604: IntegrationWarning: Required step size is less than spacing between numbers.\n",
      "  warnings.warn(self.sol_.message, IntegrationWarning)\n"
     ]
    },
    {
     "name": "stdout",
     "output_type": "stream",
     "text": [
      "normal equations solve failed, switching lstsq solver\n"
     ]
    },
    {
     "name": "stderr",
     "output_type": "stream",
     "text": [
      "/opt/anaconda3/envs/hux-rom/lib/python3.9/site-packages/rom_operator_inference/_core/_base.py:604: IntegrationWarning: Required step size is less than spacing between numbers.\n",
      "  warnings.warn(self.sol_.message, IntegrationWarning)\n",
      "/opt/anaconda3/envs/hux-rom/lib/python3.9/site-packages/rom_operator_inference/_core/_base.py:604: IntegrationWarning: Required step size is less than spacing between numbers.\n",
      "  warnings.warn(self.sol_.message, IntegrationWarning)\n",
      "/opt/anaconda3/envs/hux-rom/lib/python3.9/site-packages/rom_operator_inference/_core/_base.py:604: IntegrationWarning: Required step size is less than spacing between numbers.\n",
      "  warnings.warn(self.sol_.message, IntegrationWarning)\n"
     ]
    },
    {
     "name": "stdout",
     "output_type": "stream",
     "text": [
      "normal equations solve failed, switching lstsq solver\n",
      "normal equations solve failed, switching lstsq solver\n"
     ]
    },
    {
     "name": "stderr",
     "output_type": "stream",
     "text": [
      "/opt/anaconda3/envs/hux-rom/lib/python3.9/site-packages/rom_operator_inference/_core/_base.py:604: IntegrationWarning: Required step size is less than spacing between numbers.\n",
      "  warnings.warn(self.sol_.message, IntegrationWarning)\n",
      "/opt/anaconda3/envs/hux-rom/lib/python3.9/site-packages/rom_operator_inference/_core/_base.py:604: IntegrationWarning: Required step size is less than spacing between numbers.\n",
      "  warnings.warn(self.sol_.message, IntegrationWarning)\n"
     ]
    },
    {
     "name": "stdout",
     "output_type": "stream",
     "text": [
      "normal equations solve failed, switching lstsq solver\n",
      "normal equations solve failed, switching lstsq solver\n"
     ]
    },
    {
     "name": "stderr",
     "output_type": "stream",
     "text": [
      "/opt/anaconda3/envs/hux-rom/lib/python3.9/site-packages/rom_operator_inference/_core/_base.py:604: IntegrationWarning: Required step size is less than spacing between numbers.\n",
      "  warnings.warn(self.sol_.message, IntegrationWarning)\n",
      "/opt/anaconda3/envs/hux-rom/lib/python3.9/site-packages/rom_operator_inference/_core/_base.py:604: IntegrationWarning: Required step size is less than spacing between numbers.\n",
      "  warnings.warn(self.sol_.message, IntegrationWarning)\n",
      "/opt/anaconda3/envs/hux-rom/lib/python3.9/site-packages/rom_operator_inference/lstsq/_tikhonov.py:398: LinAlgWarning: original least-squares system is underdetermined!\n",
      "  self._process_fit_arguments(A, B)\n"
     ]
    },
    {
     "name": "stdout",
     "output_type": "stream",
     "text": [
      "normal equations solve failed, switching lstsq solver\n",
      "normal equations solve failed, switching lstsq solver\n"
     ]
    },
    {
     "name": "stderr",
     "output_type": "stream",
     "text": [
      "/opt/anaconda3/envs/hux-rom/lib/python3.9/site-packages/rom_operator_inference/_core/_base.py:604: IntegrationWarning: Required step size is less than spacing between numbers.\n",
      "  warnings.warn(self.sol_.message, IntegrationWarning)\n",
      "/opt/anaconda3/envs/hux-rom/lib/python3.9/site-packages/rom_operator_inference/lstsq/_tikhonov.py:398: LinAlgWarning: original least-squares system is underdetermined!\n",
      "  self._process_fit_arguments(A, B)\n",
      "/opt/anaconda3/envs/hux-rom/lib/python3.9/site-packages/rom_operator_inference/_core/_base.py:604: IntegrationWarning: Required step size is less than spacing between numbers.\n",
      "  warnings.warn(self.sol_.message, IntegrationWarning)\n"
     ]
    },
    {
     "name": "stdout",
     "output_type": "stream",
     "text": [
      "normal equations solve failed, switching lstsq solver\n"
     ]
    },
    {
     "name": "stderr",
     "output_type": "stream",
     "text": [
      "/opt/anaconda3/envs/hux-rom/lib/python3.9/site-packages/rom_operator_inference/_core/_base.py:604: IntegrationWarning: Required step size is less than spacing between numbers.\n",
      "  warnings.warn(self.sol_.message, IntegrationWarning)\n",
      "/opt/anaconda3/envs/hux-rom/lib/python3.9/site-packages/rom_operator_inference/_core/_base.py:604: IntegrationWarning: Required step size is less than spacing between numbers.\n",
      "  warnings.warn(self.sol_.message, IntegrationWarning)\n",
      "/opt/anaconda3/envs/hux-rom/lib/python3.9/site-packages/rom_operator_inference/_core/_base.py:604: IntegrationWarning: Required step size is less than spacing between numbers.\n",
      "  warnings.warn(self.sol_.message, IntegrationWarning)\n"
     ]
    },
    {
     "name": "stdout",
     "output_type": "stream",
     "text": [
      "normal equations solve failed, switching lstsq solver\n",
      "normal equations solve failed, switching lstsq solver\n"
     ]
    },
    {
     "name": "stderr",
     "output_type": "stream",
     "text": [
      "/opt/anaconda3/envs/hux-rom/lib/python3.9/site-packages/rom_operator_inference/_core/_base.py:604: IntegrationWarning: Required step size is less than spacing between numbers.\n",
      "  warnings.warn(self.sol_.message, IntegrationWarning)\n",
      "/opt/anaconda3/envs/hux-rom/lib/python3.9/site-packages/rom_operator_inference/_core/_base.py:604: IntegrationWarning: Required step size is less than spacing between numbers.\n",
      "  warnings.warn(self.sol_.message, IntegrationWarning)\n"
     ]
    },
    {
     "name": "stdout",
     "output_type": "stream",
     "text": [
      "normal equations solve failed, switching lstsq solver\n",
      "normal equations solve failed, switching lstsq solver\n"
     ]
    },
    {
     "name": "stderr",
     "output_type": "stream",
     "text": [
      "/opt/anaconda3/envs/hux-rom/lib/python3.9/site-packages/rom_operator_inference/_core/_base.py:604: IntegrationWarning: Required step size is less than spacing between numbers.\n",
      "  warnings.warn(self.sol_.message, IntegrationWarning)\n",
      "/opt/anaconda3/envs/hux-rom/lib/python3.9/site-packages/rom_operator_inference/_core/_base.py:604: IntegrationWarning: Required step size is less than spacing between numbers.\n",
      "  warnings.warn(self.sol_.message, IntegrationWarning)\n",
      "/opt/anaconda3/envs/hux-rom/lib/python3.9/site-packages/rom_operator_inference/lstsq/_tikhonov.py:398: LinAlgWarning: original least-squares system is underdetermined!\n",
      "  self._process_fit_arguments(A, B)\n"
     ]
    },
    {
     "name": "stdout",
     "output_type": "stream",
     "text": [
      "normal equations solve failed, switching lstsq solver\n",
      "normal equations solve failed, switching lstsq solver\n"
     ]
    },
    {
     "name": "stderr",
     "output_type": "stream",
     "text": [
      "/opt/anaconda3/envs/hux-rom/lib/python3.9/site-packages/rom_operator_inference/_core/_base.py:604: IntegrationWarning: Required step size is less than spacing between numbers.\n",
      "  warnings.warn(self.sol_.message, IntegrationWarning)\n",
      "/opt/anaconda3/envs/hux-rom/lib/python3.9/site-packages/rom_operator_inference/lstsq/_tikhonov.py:398: LinAlgWarning: original least-squares system is underdetermined!\n",
      "  self._process_fit_arguments(A, B)\n",
      "/opt/anaconda3/envs/hux-rom/lib/python3.9/site-packages/rom_operator_inference/_core/_base.py:604: IntegrationWarning: Required step size is less than spacing between numbers.\n",
      "  warnings.warn(self.sol_.message, IntegrationWarning)\n"
     ]
    },
    {
     "name": "stdout",
     "output_type": "stream",
     "text": [
      "normal equations solve failed, switching lstsq solver\n"
     ]
    },
    {
     "name": "stderr",
     "output_type": "stream",
     "text": [
      "/opt/anaconda3/envs/hux-rom/lib/python3.9/site-packages/rom_operator_inference/_core/_base.py:604: IntegrationWarning: Required step size is less than spacing between numbers.\n",
      "  warnings.warn(self.sol_.message, IntegrationWarning)\n",
      "/opt/anaconda3/envs/hux-rom/lib/python3.9/site-packages/rom_operator_inference/_core/_base.py:604: IntegrationWarning: Required step size is less than spacing between numbers.\n",
      "  warnings.warn(self.sol_.message, IntegrationWarning)\n",
      "/opt/anaconda3/envs/hux-rom/lib/python3.9/site-packages/rom_operator_inference/_core/_base.py:604: IntegrationWarning: Required step size is less than spacing between numbers.\n",
      "  warnings.warn(self.sol_.message, IntegrationWarning)\n",
      "/opt/anaconda3/envs/hux-rom/lib/python3.9/site-packages/rom_operator_inference/_core/_base.py:604: IntegrationWarning: Required step size is less than spacing between numbers.\n",
      "  warnings.warn(self.sol_.message, IntegrationWarning)\n",
      "/opt/anaconda3/envs/hux-rom/lib/python3.9/site-packages/rom_operator_inference/_core/_base.py:604: IntegrationWarning: Required step size is less than spacing between numbers.\n",
      "  warnings.warn(self.sol_.message, IntegrationWarning)\n"
     ]
    },
    {
     "name": "stdout",
     "output_type": "stream",
     "text": [
      "normal equations solve failed, switching lstsq solver\n",
      "normal equations solve failed, switching lstsq solver\n"
     ]
    },
    {
     "name": "stderr",
     "output_type": "stream",
     "text": [
      "/opt/anaconda3/envs/hux-rom/lib/python3.9/site-packages/rom_operator_inference/_core/_base.py:604: IntegrationWarning: Required step size is less than spacing between numbers.\n",
      "  warnings.warn(self.sol_.message, IntegrationWarning)\n",
      "/opt/anaconda3/envs/hux-rom/lib/python3.9/site-packages/rom_operator_inference/_core/_base.py:604: IntegrationWarning: Required step size is less than spacing between numbers.\n",
      "  warnings.warn(self.sol_.message, IntegrationWarning)\n",
      "/opt/anaconda3/envs/hux-rom/lib/python3.9/site-packages/rom_operator_inference/lstsq/_tikhonov.py:398: LinAlgWarning: original least-squares system is underdetermined!\n",
      "  self._process_fit_arguments(A, B)\n"
     ]
    },
    {
     "name": "stdout",
     "output_type": "stream",
     "text": [
      "normal equations solve failed, switching lstsq solver\n",
      "normal equations solve failed, switching lstsq solver\n"
     ]
    },
    {
     "name": "stderr",
     "output_type": "stream",
     "text": [
      "/opt/anaconda3/envs/hux-rom/lib/python3.9/site-packages/rom_operator_inference/_core/_base.py:604: IntegrationWarning: Required step size is less than spacing between numbers.\n",
      "  warnings.warn(self.sol_.message, IntegrationWarning)\n",
      "/opt/anaconda3/envs/hux-rom/lib/python3.9/site-packages/rom_operator_inference/lstsq/_tikhonov.py:398: LinAlgWarning: original least-squares system is underdetermined!\n",
      "  self._process_fit_arguments(A, B)\n",
      "/opt/anaconda3/envs/hux-rom/lib/python3.9/site-packages/rom_operator_inference/_core/_base.py:604: IntegrationWarning: Required step size is less than spacing between numbers.\n",
      "  warnings.warn(self.sol_.message, IntegrationWarning)\n",
      "/opt/anaconda3/envs/hux-rom/lib/python3.9/site-packages/rom_operator_inference/_core/_base.py:604: IntegrationWarning: Required step size is less than spacing between numbers.\n",
      "  warnings.warn(self.sol_.message, IntegrationWarning)\n",
      "/opt/anaconda3/envs/hux-rom/lib/python3.9/site-packages/rom_operator_inference/_core/_base.py:604: IntegrationWarning: Required step size is less than spacing between numbers.\n",
      "  warnings.warn(self.sol_.message, IntegrationWarning)\n",
      "/opt/anaconda3/envs/hux-rom/lib/python3.9/site-packages/rom_operator_inference/_core/_base.py:604: IntegrationWarning: Required step size is less than spacing between numbers.\n",
      "  warnings.warn(self.sol_.message, IntegrationWarning)\n",
      "/opt/anaconda3/envs/hux-rom/lib/python3.9/site-packages/rom_operator_inference/_core/_base.py:604: IntegrationWarning: Required step size is less than spacing between numbers.\n",
      "  warnings.warn(self.sol_.message, IntegrationWarning)\n",
      "/opt/anaconda3/envs/hux-rom/lib/python3.9/site-packages/rom_operator_inference/_core/_base.py:604: IntegrationWarning: Required step size is less than spacing between numbers.\n",
      "  warnings.warn(self.sol_.message, IntegrationWarning)\n",
      "/opt/anaconda3/envs/hux-rom/lib/python3.9/site-packages/rom_operator_inference/_core/_base.py:604: IntegrationWarning: Required step size is less than spacing between numbers.\n",
      "  warnings.warn(self.sol_.message, IntegrationWarning)\n",
      "/opt/anaconda3/envs/hux-rom/lib/python3.9/site-packages/rom_operator_inference/_core/_base.py:604: IntegrationWarning: Required step size is less than spacing between numbers.\n",
      "  warnings.warn(self.sol_.message, IntegrationWarning)\n",
      "/opt/anaconda3/envs/hux-rom/lib/python3.9/site-packages/rom_operator_inference/lstsq/_tikhonov.py:398: LinAlgWarning: original least-squares system is underdetermined!\n",
      "  self._process_fit_arguments(A, B)\n",
      "/opt/anaconda3/envs/hux-rom/lib/python3.9/site-packages/rom_operator_inference/_core/_base.py:604: IntegrationWarning: Required step size is less than spacing between numbers.\n",
      "  warnings.warn(self.sol_.message, IntegrationWarning)\n",
      "/opt/anaconda3/envs/hux-rom/lib/python3.9/site-packages/rom_operator_inference/lstsq/_tikhonov.py:398: LinAlgWarning: original least-squares system is underdetermined!\n",
      "  self._process_fit_arguments(A, B)\n",
      "/opt/anaconda3/envs/hux-rom/lib/python3.9/site-packages/rom_operator_inference/_core/_base.py:604: IntegrationWarning: Required step size is less than spacing between numbers.\n",
      "  warnings.warn(self.sol_.message, IntegrationWarning)\n",
      "/opt/anaconda3/envs/hux-rom/lib/python3.9/site-packages/rom_operator_inference/_core/_base.py:604: IntegrationWarning: Required step size is less than spacing between numbers.\n",
      "  warnings.warn(self.sol_.message, IntegrationWarning)\n",
      "/opt/anaconda3/envs/hux-rom/lib/python3.9/site-packages/rom_operator_inference/_core/_base.py:604: IntegrationWarning: Required step size is less than spacing between numbers.\n",
      "  warnings.warn(self.sol_.message, IntegrationWarning)\n",
      "/opt/anaconda3/envs/hux-rom/lib/python3.9/site-packages/rom_operator_inference/_core/_base.py:604: IntegrationWarning: Required step size is less than spacing between numbers.\n",
      "  warnings.warn(self.sol_.message, IntegrationWarning)\n",
      "/opt/anaconda3/envs/hux-rom/lib/python3.9/site-packages/rom_operator_inference/_core/_base.py:604: IntegrationWarning: Required step size is less than spacing between numbers.\n",
      "  warnings.warn(self.sol_.message, IntegrationWarning)\n",
      "/opt/anaconda3/envs/hux-rom/lib/python3.9/site-packages/rom_operator_inference/_core/_base.py:604: IntegrationWarning: Required step size is less than spacing between numbers.\n",
      "  warnings.warn(self.sol_.message, IntegrationWarning)\n",
      "/opt/anaconda3/envs/hux-rom/lib/python3.9/site-packages/rom_operator_inference/lstsq/_tikhonov.py:398: LinAlgWarning: original least-squares system is underdetermined!\n",
      "  self._process_fit_arguments(A, B)\n",
      "/opt/anaconda3/envs/hux-rom/lib/python3.9/site-packages/rom_operator_inference/lstsq/_tikhonov.py:398: LinAlgWarning: original least-squares system is underdetermined!\n",
      "  self._process_fit_arguments(A, B)\n",
      "/opt/anaconda3/envs/hux-rom/lib/python3.9/site-packages/rom_operator_inference/lstsq/_tikhonov.py:398: LinAlgWarning: original least-squares system is underdetermined!\n",
      "  self._process_fit_arguments(A, B)\n",
      "/opt/anaconda3/envs/hux-rom/lib/python3.9/site-packages/rom_operator_inference/lstsq/_tikhonov.py:398: LinAlgWarning: original least-squares system is underdetermined!\n",
      "  self._process_fit_arguments(A, B)\n",
      "/opt/anaconda3/envs/hux-rom/lib/python3.9/site-packages/rom_operator_inference/lstsq/_tikhonov.py:398: LinAlgWarning: original least-squares system is underdetermined!\n",
      "  self._process_fit_arguments(A, B)\n",
      "/opt/anaconda3/envs/hux-rom/lib/python3.9/site-packages/rom_operator_inference/lstsq/_tikhonov.py:398: LinAlgWarning: original least-squares system is underdetermined!\n",
      "  self._process_fit_arguments(A, B)\n",
      "/opt/anaconda3/envs/hux-rom/lib/python3.9/site-packages/rom_operator_inference/lstsq/_tikhonov.py:398: LinAlgWarning: original least-squares system is underdetermined!\n",
      "  self._process_fit_arguments(A, B)\n",
      "/opt/anaconda3/envs/hux-rom/lib/python3.9/site-packages/rom_operator_inference/lstsq/_tikhonov.py:398: LinAlgWarning: original least-squares system is underdetermined!\n",
      "  self._process_fit_arguments(A, B)\n",
      "/opt/anaconda3/envs/hux-rom/lib/python3.9/site-packages/rom_operator_inference/lstsq/_tikhonov.py:398: LinAlgWarning: original least-squares system is underdetermined!\n",
      "  self._process_fit_arguments(A, B)\n",
      "/opt/anaconda3/envs/hux-rom/lib/python3.9/site-packages/rom_operator_inference/lstsq/_tikhonov.py:398: LinAlgWarning: original least-squares system is underdetermined!\n",
      "  self._process_fit_arguments(A, B)\n",
      "/opt/anaconda3/envs/hux-rom/lib/python3.9/site-packages/rom_operator_inference/_core/_base.py:604: IntegrationWarning: Required step size is less than spacing between numbers.\n",
      "  warnings.warn(self.sol_.message, IntegrationWarning)\n",
      "/opt/anaconda3/envs/hux-rom/lib/python3.9/site-packages/rom_operator_inference/_core/_base.py:604: IntegrationWarning: Required step size is less than spacing between numbers.\n",
      "  warnings.warn(self.sol_.message, IntegrationWarning)\n"
     ]
    },
    {
     "name": "stdout",
     "output_type": "stream",
     "text": [
      "normal equations solve failed, switching lstsq solver\n",
      "normal equations solve failed, switching lstsq solver\n"
     ]
    },
    {
     "name": "stderr",
     "output_type": "stream",
     "text": [
      "/opt/anaconda3/envs/hux-rom/lib/python3.9/site-packages/rom_operator_inference/_core/_base.py:604: IntegrationWarning: Required step size is less than spacing between numbers.\n",
      "  warnings.warn(self.sol_.message, IntegrationWarning)\n",
      "/opt/anaconda3/envs/hux-rom/lib/python3.9/site-packages/rom_operator_inference/_core/_base.py:604: IntegrationWarning: Required step size is less than spacing between numbers.\n",
      "  warnings.warn(self.sol_.message, IntegrationWarning)\n"
     ]
    },
    {
     "name": "stdout",
     "output_type": "stream",
     "text": [
      "normal equations solve failed, switching lstsq solver\n",
      "normal equations solve failed, switching lstsq solver\n"
     ]
    },
    {
     "name": "stderr",
     "output_type": "stream",
     "text": [
      "/opt/anaconda3/envs/hux-rom/lib/python3.9/site-packages/rom_operator_inference/_core/_base.py:604: IntegrationWarning: Required step size is less than spacing between numbers.\n",
      "  warnings.warn(self.sol_.message, IntegrationWarning)\n",
      "/opt/anaconda3/envs/hux-rom/lib/python3.9/site-packages/rom_operator_inference/_core/_base.py:604: IntegrationWarning: Required step size is less than spacing between numbers.\n",
      "  warnings.warn(self.sol_.message, IntegrationWarning)\n"
     ]
    },
    {
     "name": "stdout",
     "output_type": "stream",
     "text": [
      "normal equations solve failed, switching lstsq solver\n",
      "normal equations solve failed, switching lstsq solver\n"
     ]
    },
    {
     "name": "stderr",
     "output_type": "stream",
     "text": [
      "/opt/anaconda3/envs/hux-rom/lib/python3.9/site-packages/rom_operator_inference/_core/_base.py:604: IntegrationWarning: Required step size is less than spacing between numbers.\n",
      "  warnings.warn(self.sol_.message, IntegrationWarning)\n",
      "/opt/anaconda3/envs/hux-rom/lib/python3.9/site-packages/rom_operator_inference/lstsq/_tikhonov.py:398: LinAlgWarning: original least-squares system is underdetermined!\n",
      "  self._process_fit_arguments(A, B)\n",
      "/opt/anaconda3/envs/hux-rom/lib/python3.9/site-packages/rom_operator_inference/_core/_base.py:604: IntegrationWarning: Required step size is less than spacing between numbers.\n",
      "  warnings.warn(self.sol_.message, IntegrationWarning)\n",
      "/opt/anaconda3/envs/hux-rom/lib/python3.9/site-packages/rom_operator_inference/lstsq/_tikhonov.py:398: LinAlgWarning: original least-squares system is underdetermined!\n",
      "  self._process_fit_arguments(A, B)\n"
     ]
    },
    {
     "name": "stdout",
     "output_type": "stream",
     "text": [
      "normal equations solve failed, switching lstsq solver\n"
     ]
    },
    {
     "name": "stderr",
     "output_type": "stream",
     "text": [
      "/opt/anaconda3/envs/hux-rom/lib/python3.9/site-packages/rom_operator_inference/_core/_base.py:604: IntegrationWarning: Required step size is less than spacing between numbers.\n",
      "  warnings.warn(self.sol_.message, IntegrationWarning)\n",
      "/opt/anaconda3/envs/hux-rom/lib/python3.9/site-packages/rom_operator_inference/_core/_base.py:604: IntegrationWarning: Required step size is less than spacing between numbers.\n",
      "  warnings.warn(self.sol_.message, IntegrationWarning)\n",
      "/opt/anaconda3/envs/hux-rom/lib/python3.9/site-packages/rom_operator_inference/_core/_base.py:604: IntegrationWarning: Required step size is less than spacing between numbers.\n",
      "  warnings.warn(self.sol_.message, IntegrationWarning)\n"
     ]
    },
    {
     "name": "stdout",
     "output_type": "stream",
     "text": [
      "normal equations solve failed, switching lstsq solver\n",
      "normal equations solve failed, switching lstsq solver\n"
     ]
    },
    {
     "name": "stderr",
     "output_type": "stream",
     "text": [
      "/opt/anaconda3/envs/hux-rom/lib/python3.9/site-packages/rom_operator_inference/_core/_base.py:604: IntegrationWarning: Required step size is less than spacing between numbers.\n",
      "  warnings.warn(self.sol_.message, IntegrationWarning)\n",
      "/opt/anaconda3/envs/hux-rom/lib/python3.9/site-packages/rom_operator_inference/_core/_base.py:604: IntegrationWarning: Required step size is less than spacing between numbers.\n",
      "  warnings.warn(self.sol_.message, IntegrationWarning)\n"
     ]
    },
    {
     "name": "stdout",
     "output_type": "stream",
     "text": [
      "normal equations solve failed, switching lstsq solver\n",
      "normal equations solve failed, switching lstsq solver\n"
     ]
    },
    {
     "name": "stderr",
     "output_type": "stream",
     "text": [
      "/opt/anaconda3/envs/hux-rom/lib/python3.9/site-packages/rom_operator_inference/_core/_base.py:604: IntegrationWarning: Required step size is less than spacing between numbers.\n",
      "  warnings.warn(self.sol_.message, IntegrationWarning)\n",
      "/opt/anaconda3/envs/hux-rom/lib/python3.9/site-packages/rom_operator_inference/_core/_base.py:604: IntegrationWarning: Required step size is less than spacing between numbers.\n",
      "  warnings.warn(self.sol_.message, IntegrationWarning)\n"
     ]
    },
    {
     "name": "stdout",
     "output_type": "stream",
     "text": [
      "normal equations solve failed, switching lstsq solver\n",
      "normal equations solve failed, switching lstsq solver\n"
     ]
    },
    {
     "name": "stderr",
     "output_type": "stream",
     "text": [
      "/opt/anaconda3/envs/hux-rom/lib/python3.9/site-packages/rom_operator_inference/_core/_base.py:604: IntegrationWarning: Required step size is less than spacing between numbers.\n",
      "  warnings.warn(self.sol_.message, IntegrationWarning)\n",
      "/opt/anaconda3/envs/hux-rom/lib/python3.9/site-packages/rom_operator_inference/lstsq/_tikhonov.py:398: LinAlgWarning: original least-squares system is underdetermined!\n",
      "  self._process_fit_arguments(A, B)\n",
      "/opt/anaconda3/envs/hux-rom/lib/python3.9/site-packages/rom_operator_inference/_core/_base.py:604: IntegrationWarning: Required step size is less than spacing between numbers.\n",
      "  warnings.warn(self.sol_.message, IntegrationWarning)\n",
      "/opt/anaconda3/envs/hux-rom/lib/python3.9/site-packages/rom_operator_inference/lstsq/_tikhonov.py:398: LinAlgWarning: original least-squares system is underdetermined!\n",
      "  self._process_fit_arguments(A, B)\n"
     ]
    },
    {
     "name": "stdout",
     "output_type": "stream",
     "text": [
      "normal equations solve failed, switching lstsq solver\n"
     ]
    },
    {
     "name": "stderr",
     "output_type": "stream",
     "text": [
      "/opt/anaconda3/envs/hux-rom/lib/python3.9/site-packages/rom_operator_inference/_core/_base.py:604: IntegrationWarning: Required step size is less than spacing between numbers.\n",
      "  warnings.warn(self.sol_.message, IntegrationWarning)\n",
      "/opt/anaconda3/envs/hux-rom/lib/python3.9/site-packages/rom_operator_inference/_core/_base.py:604: IntegrationWarning: Required step size is less than spacing between numbers.\n",
      "  warnings.warn(self.sol_.message, IntegrationWarning)\n",
      "/opt/anaconda3/envs/hux-rom/lib/python3.9/site-packages/rom_operator_inference/_core/_base.py:604: IntegrationWarning: Required step size is less than spacing between numbers.\n",
      "  warnings.warn(self.sol_.message, IntegrationWarning)\n",
      "/opt/anaconda3/envs/hux-rom/lib/python3.9/site-packages/rom_operator_inference/_core/_base.py:604: IntegrationWarning: Required step size is less than spacing between numbers.\n",
      "  warnings.warn(self.sol_.message, IntegrationWarning)\n"
     ]
    },
    {
     "name": "stdout",
     "output_type": "stream",
     "text": [
      "normal equations solve failed, switching lstsq solver\n",
      "normal equations solve failed, switching lstsq solver\n"
     ]
    },
    {
     "name": "stderr",
     "output_type": "stream",
     "text": [
      "/opt/anaconda3/envs/hux-rom/lib/python3.9/site-packages/rom_operator_inference/_core/_base.py:604: IntegrationWarning: Required step size is less than spacing between numbers.\n",
      "  warnings.warn(self.sol_.message, IntegrationWarning)\n",
      "/opt/anaconda3/envs/hux-rom/lib/python3.9/site-packages/rom_operator_inference/_core/_base.py:604: IntegrationWarning: Required step size is less than spacing between numbers.\n",
      "  warnings.warn(self.sol_.message, IntegrationWarning)\n"
     ]
    },
    {
     "name": "stdout",
     "output_type": "stream",
     "text": [
      "normal equations solve failed, switching lstsq solver\n",
      "normal equations solve failed, switching lstsq solver\n"
     ]
    },
    {
     "name": "stderr",
     "output_type": "stream",
     "text": [
      "/opt/anaconda3/envs/hux-rom/lib/python3.9/site-packages/rom_operator_inference/_core/_base.py:604: IntegrationWarning: Required step size is less than spacing between numbers.\n",
      "  warnings.warn(self.sol_.message, IntegrationWarning)\n",
      "/opt/anaconda3/envs/hux-rom/lib/python3.9/site-packages/rom_operator_inference/_core/_base.py:604: IntegrationWarning: Required step size is less than spacing between numbers.\n",
      "  warnings.warn(self.sol_.message, IntegrationWarning)\n",
      "/opt/anaconda3/envs/hux-rom/lib/python3.9/site-packages/rom_operator_inference/lstsq/_tikhonov.py:398: LinAlgWarning: original least-squares system is underdetermined!\n",
      "  self._process_fit_arguments(A, B)\n"
     ]
    },
    {
     "name": "stdout",
     "output_type": "stream",
     "text": [
      "normal equations solve failed, switching lstsq solver\n",
      "normal equations solve failed, switching lstsq solver\n"
     ]
    },
    {
     "name": "stderr",
     "output_type": "stream",
     "text": [
      "/opt/anaconda3/envs/hux-rom/lib/python3.9/site-packages/rom_operator_inference/_core/_base.py:604: IntegrationWarning: Required step size is less than spacing between numbers.\n",
      "  warnings.warn(self.sol_.message, IntegrationWarning)\n",
      "/opt/anaconda3/envs/hux-rom/lib/python3.9/site-packages/rom_operator_inference/lstsq/_tikhonov.py:398: LinAlgWarning: original least-squares system is underdetermined!\n",
      "  self._process_fit_arguments(A, B)\n",
      "/opt/anaconda3/envs/hux-rom/lib/python3.9/site-packages/rom_operator_inference/_core/_base.py:604: IntegrationWarning: Required step size is less than spacing between numbers.\n",
      "  warnings.warn(self.sol_.message, IntegrationWarning)\n"
     ]
    },
    {
     "name": "stdout",
     "output_type": "stream",
     "text": [
      "normal equations solve failed, switching lstsq solver\n"
     ]
    },
    {
     "name": "stderr",
     "output_type": "stream",
     "text": [
      "/opt/anaconda3/envs/hux-rom/lib/python3.9/site-packages/rom_operator_inference/_core/_base.py:604: IntegrationWarning: Required step size is less than spacing between numbers.\n",
      "  warnings.warn(self.sol_.message, IntegrationWarning)\n",
      "/opt/anaconda3/envs/hux-rom/lib/python3.9/site-packages/rom_operator_inference/_core/_base.py:604: IntegrationWarning: Required step size is less than spacing between numbers.\n",
      "  warnings.warn(self.sol_.message, IntegrationWarning)\n",
      "/opt/anaconda3/envs/hux-rom/lib/python3.9/site-packages/rom_operator_inference/_core/_base.py:604: IntegrationWarning: Required step size is less than spacing between numbers.\n",
      "  warnings.warn(self.sol_.message, IntegrationWarning)\n",
      "/opt/anaconda3/envs/hux-rom/lib/python3.9/site-packages/rom_operator_inference/_core/_base.py:604: IntegrationWarning: Required step size is less than spacing between numbers.\n",
      "  warnings.warn(self.sol_.message, IntegrationWarning)\n",
      "/opt/anaconda3/envs/hux-rom/lib/python3.9/site-packages/rom_operator_inference/_core/_base.py:604: IntegrationWarning: Required step size is less than spacing between numbers.\n",
      "  warnings.warn(self.sol_.message, IntegrationWarning)\n"
     ]
    },
    {
     "name": "stdout",
     "output_type": "stream",
     "text": [
      "normal equations solve failed, switching lstsq solver\n",
      "normal equations solve failed, switching lstsq solver\n"
     ]
    },
    {
     "name": "stderr",
     "output_type": "stream",
     "text": [
      "/opt/anaconda3/envs/hux-rom/lib/python3.9/site-packages/rom_operator_inference/_core/_base.py:604: IntegrationWarning: Required step size is less than spacing between numbers.\n",
      "  warnings.warn(self.sol_.message, IntegrationWarning)\n",
      "/opt/anaconda3/envs/hux-rom/lib/python3.9/site-packages/rom_operator_inference/_core/_base.py:604: IntegrationWarning: Required step size is less than spacing between numbers.\n",
      "  warnings.warn(self.sol_.message, IntegrationWarning)\n",
      "/opt/anaconda3/envs/hux-rom/lib/python3.9/site-packages/rom_operator_inference/lstsq/_tikhonov.py:398: LinAlgWarning: original least-squares system is underdetermined!\n",
      "  self._process_fit_arguments(A, B)\n"
     ]
    },
    {
     "name": "stdout",
     "output_type": "stream",
     "text": [
      "normal equations solve failed, switching lstsq solver\n",
      "normal equations solve failed, switching lstsq solver\n"
     ]
    },
    {
     "name": "stderr",
     "output_type": "stream",
     "text": [
      "/opt/anaconda3/envs/hux-rom/lib/python3.9/site-packages/rom_operator_inference/_core/_base.py:604: IntegrationWarning: Required step size is less than spacing between numbers.\n",
      "  warnings.warn(self.sol_.message, IntegrationWarning)\n",
      "/opt/anaconda3/envs/hux-rom/lib/python3.9/site-packages/rom_operator_inference/lstsq/_tikhonov.py:398: LinAlgWarning: original least-squares system is underdetermined!\n",
      "  self._process_fit_arguments(A, B)\n",
      "/opt/anaconda3/envs/hux-rom/lib/python3.9/site-packages/rom_operator_inference/_core/_base.py:604: IntegrationWarning: Required step size is less than spacing between numbers.\n",
      "  warnings.warn(self.sol_.message, IntegrationWarning)\n",
      "/opt/anaconda3/envs/hux-rom/lib/python3.9/site-packages/rom_operator_inference/_core/_base.py:604: IntegrationWarning: Required step size is less than spacing between numbers.\n",
      "  warnings.warn(self.sol_.message, IntegrationWarning)\n",
      "/opt/anaconda3/envs/hux-rom/lib/python3.9/site-packages/rom_operator_inference/_core/_base.py:604: IntegrationWarning: Required step size is less than spacing between numbers.\n",
      "  warnings.warn(self.sol_.message, IntegrationWarning)\n",
      "/opt/anaconda3/envs/hux-rom/lib/python3.9/site-packages/rom_operator_inference/_core/_base.py:604: IntegrationWarning: Required step size is less than spacing between numbers.\n",
      "  warnings.warn(self.sol_.message, IntegrationWarning)\n",
      "/opt/anaconda3/envs/hux-rom/lib/python3.9/site-packages/rom_operator_inference/_core/_base.py:604: IntegrationWarning: Required step size is less than spacing between numbers.\n",
      "  warnings.warn(self.sol_.message, IntegrationWarning)\n",
      "/opt/anaconda3/envs/hux-rom/lib/python3.9/site-packages/rom_operator_inference/_core/_base.py:604: IntegrationWarning: Required step size is less than spacing between numbers.\n",
      "  warnings.warn(self.sol_.message, IntegrationWarning)\n",
      "/opt/anaconda3/envs/hux-rom/lib/python3.9/site-packages/rom_operator_inference/_core/_base.py:604: IntegrationWarning: Required step size is less than spacing between numbers.\n",
      "  warnings.warn(self.sol_.message, IntegrationWarning)\n",
      "/opt/anaconda3/envs/hux-rom/lib/python3.9/site-packages/rom_operator_inference/_core/_base.py:604: IntegrationWarning: Required step size is less than spacing between numbers.\n",
      "  warnings.warn(self.sol_.message, IntegrationWarning)\n",
      "/opt/anaconda3/envs/hux-rom/lib/python3.9/site-packages/rom_operator_inference/lstsq/_tikhonov.py:398: LinAlgWarning: original least-squares system is underdetermined!\n",
      "  self._process_fit_arguments(A, B)\n",
      "/opt/anaconda3/envs/hux-rom/lib/python3.9/site-packages/rom_operator_inference/_core/_base.py:604: IntegrationWarning: Required step size is less than spacing between numbers.\n",
      "  warnings.warn(self.sol_.message, IntegrationWarning)\n",
      "/opt/anaconda3/envs/hux-rom/lib/python3.9/site-packages/rom_operator_inference/lstsq/_tikhonov.py:398: LinAlgWarning: original least-squares system is underdetermined!\n",
      "  self._process_fit_arguments(A, B)\n",
      "/opt/anaconda3/envs/hux-rom/lib/python3.9/site-packages/rom_operator_inference/_core/_base.py:604: IntegrationWarning: Required step size is less than spacing between numbers.\n",
      "  warnings.warn(self.sol_.message, IntegrationWarning)\n",
      "/opt/anaconda3/envs/hux-rom/lib/python3.9/site-packages/rom_operator_inference/_core/_base.py:604: IntegrationWarning: Required step size is less than spacing between numbers.\n",
      "  warnings.warn(self.sol_.message, IntegrationWarning)\n",
      "/opt/anaconda3/envs/hux-rom/lib/python3.9/site-packages/rom_operator_inference/_core/_base.py:604: IntegrationWarning: Required step size is less than spacing between numbers.\n",
      "  warnings.warn(self.sol_.message, IntegrationWarning)\n",
      "/opt/anaconda3/envs/hux-rom/lib/python3.9/site-packages/rom_operator_inference/_core/_base.py:604: IntegrationWarning: Required step size is less than spacing between numbers.\n",
      "  warnings.warn(self.sol_.message, IntegrationWarning)\n",
      "/opt/anaconda3/envs/hux-rom/lib/python3.9/site-packages/rom_operator_inference/_core/_base.py:604: IntegrationWarning: Required step size is less than spacing between numbers.\n",
      "  warnings.warn(self.sol_.message, IntegrationWarning)\n",
      "/opt/anaconda3/envs/hux-rom/lib/python3.9/site-packages/rom_operator_inference/_core/_base.py:604: IntegrationWarning: Required step size is less than spacing between numbers.\n",
      "  warnings.warn(self.sol_.message, IntegrationWarning)\n",
      "/opt/anaconda3/envs/hux-rom/lib/python3.9/site-packages/rom_operator_inference/lstsq/_tikhonov.py:398: LinAlgWarning: original least-squares system is underdetermined!\n",
      "  self._process_fit_arguments(A, B)\n",
      "/opt/anaconda3/envs/hux-rom/lib/python3.9/site-packages/rom_operator_inference/lstsq/_tikhonov.py:398: LinAlgWarning: original least-squares system is underdetermined!\n",
      "  self._process_fit_arguments(A, B)\n",
      "/opt/anaconda3/envs/hux-rom/lib/python3.9/site-packages/rom_operator_inference/lstsq/_tikhonov.py:398: LinAlgWarning: original least-squares system is underdetermined!\n",
      "  self._process_fit_arguments(A, B)\n",
      "/opt/anaconda3/envs/hux-rom/lib/python3.9/site-packages/rom_operator_inference/lstsq/_tikhonov.py:398: LinAlgWarning: original least-squares system is underdetermined!\n",
      "  self._process_fit_arguments(A, B)\n",
      "/opt/anaconda3/envs/hux-rom/lib/python3.9/site-packages/rom_operator_inference/lstsq/_tikhonov.py:398: LinAlgWarning: original least-squares system is underdetermined!\n",
      "  self._process_fit_arguments(A, B)\n",
      "/opt/anaconda3/envs/hux-rom/lib/python3.9/site-packages/rom_operator_inference/lstsq/_tikhonov.py:398: LinAlgWarning: original least-squares system is underdetermined!\n",
      "  self._process_fit_arguments(A, B)\n",
      "/opt/anaconda3/envs/hux-rom/lib/python3.9/site-packages/rom_operator_inference/lstsq/_tikhonov.py:398: LinAlgWarning: original least-squares system is underdetermined!\n",
      "  self._process_fit_arguments(A, B)\n",
      "/opt/anaconda3/envs/hux-rom/lib/python3.9/site-packages/rom_operator_inference/lstsq/_tikhonov.py:398: LinAlgWarning: original least-squares system is underdetermined!\n",
      "  self._process_fit_arguments(A, B)\n",
      "/opt/anaconda3/envs/hux-rom/lib/python3.9/site-packages/rom_operator_inference/lstsq/_tikhonov.py:398: LinAlgWarning: original least-squares system is underdetermined!\n",
      "  self._process_fit_arguments(A, B)\n",
      "/opt/anaconda3/envs/hux-rom/lib/python3.9/site-packages/rom_operator_inference/lstsq/_tikhonov.py:398: LinAlgWarning: original least-squares system is underdetermined!\n",
      "  self._process_fit_arguments(A, B)\n",
      "/opt/anaconda3/envs/hux-rom/lib/python3.9/site-packages/rom_operator_inference/_core/_base.py:604: IntegrationWarning: Required step size is less than spacing between numbers.\n",
      "  warnings.warn(self.sol_.message, IntegrationWarning)\n",
      "/opt/anaconda3/envs/hux-rom/lib/python3.9/site-packages/rom_operator_inference/_core/_base.py:604: IntegrationWarning: Required step size is less than spacing between numbers.\n",
      "  warnings.warn(self.sol_.message, IntegrationWarning)\n",
      "/opt/anaconda3/envs/hux-rom/lib/python3.9/site-packages/rom_operator_inference/_core/_base.py:604: IntegrationWarning: Required step size is less than spacing between numbers.\n",
      "  warnings.warn(self.sol_.message, IntegrationWarning)\n"
     ]
    },
    {
     "name": "stdout",
     "output_type": "stream",
     "text": [
      "normal equations solve failed, switching lstsq solver\n",
      "normal equations solve failed, switching lstsq solver\n"
     ]
    },
    {
     "name": "stderr",
     "output_type": "stream",
     "text": [
      "/opt/anaconda3/envs/hux-rom/lib/python3.9/site-packages/rom_operator_inference/_core/_base.py:604: IntegrationWarning: Required step size is less than spacing between numbers.\n",
      "  warnings.warn(self.sol_.message, IntegrationWarning)\n",
      "/opt/anaconda3/envs/hux-rom/lib/python3.9/site-packages/rom_operator_inference/_core/_base.py:604: IntegrationWarning: Required step size is less than spacing between numbers.\n",
      "  warnings.warn(self.sol_.message, IntegrationWarning)\n"
     ]
    },
    {
     "name": "stdout",
     "output_type": "stream",
     "text": [
      "normal equations solve failed, switching lstsq solver\n",
      "normal equations solve failed, switching lstsq solver\n"
     ]
    },
    {
     "name": "stderr",
     "output_type": "stream",
     "text": [
      "/opt/anaconda3/envs/hux-rom/lib/python3.9/site-packages/rom_operator_inference/_core/_base.py:604: IntegrationWarning: Required step size is less than spacing between numbers.\n",
      "  warnings.warn(self.sol_.message, IntegrationWarning)\n",
      "/opt/anaconda3/envs/hux-rom/lib/python3.9/site-packages/rom_operator_inference/_core/_base.py:604: IntegrationWarning: Required step size is less than spacing between numbers.\n",
      "  warnings.warn(self.sol_.message, IntegrationWarning)\n",
      "/opt/anaconda3/envs/hux-rom/lib/python3.9/site-packages/rom_operator_inference/lstsq/_tikhonov.py:398: LinAlgWarning: original least-squares system is underdetermined!\n",
      "  self._process_fit_arguments(A, B)\n"
     ]
    },
    {
     "name": "stdout",
     "output_type": "stream",
     "text": [
      "normal equations solve failed, switching lstsq solver\n",
      "normal equations solve failed, switching lstsq solver\n"
     ]
    },
    {
     "name": "stderr",
     "output_type": "stream",
     "text": [
      "/opt/anaconda3/envs/hux-rom/lib/python3.9/site-packages/rom_operator_inference/_core/_base.py:604: IntegrationWarning: Required step size is less than spacing between numbers.\n",
      "  warnings.warn(self.sol_.message, IntegrationWarning)\n",
      "/opt/anaconda3/envs/hux-rom/lib/python3.9/site-packages/rom_operator_inference/lstsq/_tikhonov.py:398: LinAlgWarning: original least-squares system is underdetermined!\n",
      "  self._process_fit_arguments(A, B)\n",
      "/opt/anaconda3/envs/hux-rom/lib/python3.9/site-packages/rom_operator_inference/_core/_base.py:604: IntegrationWarning: Required step size is less than spacing between numbers.\n",
      "  warnings.warn(self.sol_.message, IntegrationWarning)\n"
     ]
    },
    {
     "name": "stdout",
     "output_type": "stream",
     "text": [
      "normal equations solve failed, switching lstsq solver\n"
     ]
    },
    {
     "name": "stderr",
     "output_type": "stream",
     "text": [
      "/opt/anaconda3/envs/hux-rom/lib/python3.9/site-packages/rom_operator_inference/_core/_base.py:604: IntegrationWarning: Required step size is less than spacing between numbers.\n",
      "  warnings.warn(self.sol_.message, IntegrationWarning)\n",
      "/opt/anaconda3/envs/hux-rom/lib/python3.9/site-packages/rom_operator_inference/_core/_base.py:604: IntegrationWarning: Required step size is less than spacing between numbers.\n",
      "  warnings.warn(self.sol_.message, IntegrationWarning)\n",
      "/opt/anaconda3/envs/hux-rom/lib/python3.9/site-packages/rom_operator_inference/_core/_base.py:604: IntegrationWarning: Required step size is less than spacing between numbers.\n",
      "  warnings.warn(self.sol_.message, IntegrationWarning)\n"
     ]
    },
    {
     "name": "stdout",
     "output_type": "stream",
     "text": [
      "normal equations solve failed, switching lstsq solver\n",
      "normal equations solve failed, switching lstsq solver\n"
     ]
    },
    {
     "name": "stderr",
     "output_type": "stream",
     "text": [
      "/opt/anaconda3/envs/hux-rom/lib/python3.9/site-packages/rom_operator_inference/_core/_base.py:604: IntegrationWarning: Required step size is less than spacing between numbers.\n",
      "  warnings.warn(self.sol_.message, IntegrationWarning)\n",
      "/opt/anaconda3/envs/hux-rom/lib/python3.9/site-packages/rom_operator_inference/_core/_base.py:604: IntegrationWarning: Required step size is less than spacing between numbers.\n",
      "  warnings.warn(self.sol_.message, IntegrationWarning)\n"
     ]
    },
    {
     "name": "stdout",
     "output_type": "stream",
     "text": [
      "normal equations solve failed, switching lstsq solver\n",
      "normal equations solve failed, switching lstsq solver\n"
     ]
    },
    {
     "name": "stderr",
     "output_type": "stream",
     "text": [
      "/opt/anaconda3/envs/hux-rom/lib/python3.9/site-packages/rom_operator_inference/_core/_base.py:604: IntegrationWarning: Required step size is less than spacing between numbers.\n",
      "  warnings.warn(self.sol_.message, IntegrationWarning)\n",
      "/opt/anaconda3/envs/hux-rom/lib/python3.9/site-packages/rom_operator_inference/_core/_base.py:604: IntegrationWarning: Required step size is less than spacing between numbers.\n",
      "  warnings.warn(self.sol_.message, IntegrationWarning)\n",
      "/opt/anaconda3/envs/hux-rom/lib/python3.9/site-packages/rom_operator_inference/lstsq/_tikhonov.py:398: LinAlgWarning: original least-squares system is underdetermined!\n",
      "  self._process_fit_arguments(A, B)\n"
     ]
    },
    {
     "name": "stdout",
     "output_type": "stream",
     "text": [
      "normal equations solve failed, switching lstsq solver\n",
      "normal equations solve failed, switching lstsq solver\n"
     ]
    },
    {
     "name": "stderr",
     "output_type": "stream",
     "text": [
      "/opt/anaconda3/envs/hux-rom/lib/python3.9/site-packages/rom_operator_inference/_core/_base.py:604: IntegrationWarning: Required step size is less than spacing between numbers.\n",
      "  warnings.warn(self.sol_.message, IntegrationWarning)\n",
      "/opt/anaconda3/envs/hux-rom/lib/python3.9/site-packages/rom_operator_inference/lstsq/_tikhonov.py:398: LinAlgWarning: original least-squares system is underdetermined!\n",
      "  self._process_fit_arguments(A, B)\n",
      "/opt/anaconda3/envs/hux-rom/lib/python3.9/site-packages/rom_operator_inference/_core/_base.py:604: IntegrationWarning: Required step size is less than spacing between numbers.\n",
      "  warnings.warn(self.sol_.message, IntegrationWarning)\n"
     ]
    },
    {
     "name": "stdout",
     "output_type": "stream",
     "text": [
      "normal equations solve failed, switching lstsq solver\n"
     ]
    },
    {
     "name": "stderr",
     "output_type": "stream",
     "text": [
      "/opt/anaconda3/envs/hux-rom/lib/python3.9/site-packages/rom_operator_inference/_core/_base.py:604: IntegrationWarning: Required step size is less than spacing between numbers.\n",
      "  warnings.warn(self.sol_.message, IntegrationWarning)\n",
      "/opt/anaconda3/envs/hux-rom/lib/python3.9/site-packages/rom_operator_inference/_core/_base.py:604: IntegrationWarning: Required step size is less than spacing between numbers.\n",
      "  warnings.warn(self.sol_.message, IntegrationWarning)\n",
      "/opt/anaconda3/envs/hux-rom/lib/python3.9/site-packages/rom_operator_inference/_core/_base.py:604: IntegrationWarning: Required step size is less than spacing between numbers.\n",
      "  warnings.warn(self.sol_.message, IntegrationWarning)\n"
     ]
    },
    {
     "name": "stdout",
     "output_type": "stream",
     "text": [
      "normal equations solve failed, switching lstsq solver\n",
      "normal equations solve failed, switching lstsq solver\n"
     ]
    },
    {
     "name": "stderr",
     "output_type": "stream",
     "text": [
      "/opt/anaconda3/envs/hux-rom/lib/python3.9/site-packages/rom_operator_inference/_core/_base.py:604: IntegrationWarning: Required step size is less than spacing between numbers.\n",
      "  warnings.warn(self.sol_.message, IntegrationWarning)\n",
      "/opt/anaconda3/envs/hux-rom/lib/python3.9/site-packages/rom_operator_inference/_core/_base.py:604: IntegrationWarning: Required step size is less than spacing between numbers.\n",
      "  warnings.warn(self.sol_.message, IntegrationWarning)\n"
     ]
    },
    {
     "name": "stdout",
     "output_type": "stream",
     "text": [
      "normal equations solve failed, switching lstsq solver\n",
      "normal equations solve failed, switching lstsq solver\n"
     ]
    },
    {
     "name": "stderr",
     "output_type": "stream",
     "text": [
      "/opt/anaconda3/envs/hux-rom/lib/python3.9/site-packages/rom_operator_inference/_core/_base.py:604: IntegrationWarning: Required step size is less than spacing between numbers.\n",
      "  warnings.warn(self.sol_.message, IntegrationWarning)\n",
      "/opt/anaconda3/envs/hux-rom/lib/python3.9/site-packages/rom_operator_inference/_core/_base.py:604: IntegrationWarning: Required step size is less than spacing between numbers.\n",
      "  warnings.warn(self.sol_.message, IntegrationWarning)\n",
      "/opt/anaconda3/envs/hux-rom/lib/python3.9/site-packages/rom_operator_inference/lstsq/_tikhonov.py:398: LinAlgWarning: original least-squares system is underdetermined!\n",
      "  self._process_fit_arguments(A, B)\n"
     ]
    },
    {
     "name": "stdout",
     "output_type": "stream",
     "text": [
      "normal equations solve failed, switching lstsq solver\n",
      "normal equations solve failed, switching lstsq solver\n"
     ]
    },
    {
     "name": "stderr",
     "output_type": "stream",
     "text": [
      "/opt/anaconda3/envs/hux-rom/lib/python3.9/site-packages/rom_operator_inference/_core/_base.py:604: IntegrationWarning: Required step size is less than spacing between numbers.\n",
      "  warnings.warn(self.sol_.message, IntegrationWarning)\n",
      "/opt/anaconda3/envs/hux-rom/lib/python3.9/site-packages/rom_operator_inference/lstsq/_tikhonov.py:398: LinAlgWarning: original least-squares system is underdetermined!\n",
      "  self._process_fit_arguments(A, B)\n",
      "/opt/anaconda3/envs/hux-rom/lib/python3.9/site-packages/rom_operator_inference/_core/_base.py:604: IntegrationWarning: Required step size is less than spacing between numbers.\n",
      "  warnings.warn(self.sol_.message, IntegrationWarning)\n"
     ]
    },
    {
     "name": "stdout",
     "output_type": "stream",
     "text": [
      "normal equations solve failed, switching lstsq solver\n"
     ]
    },
    {
     "name": "stderr",
     "output_type": "stream",
     "text": [
      "/opt/anaconda3/envs/hux-rom/lib/python3.9/site-packages/rom_operator_inference/_core/_base.py:604: IntegrationWarning: Required step size is less than spacing between numbers.\n",
      "  warnings.warn(self.sol_.message, IntegrationWarning)\n",
      "/opt/anaconda3/envs/hux-rom/lib/python3.9/site-packages/rom_operator_inference/_core/_base.py:604: IntegrationWarning: Required step size is less than spacing between numbers.\n",
      "  warnings.warn(self.sol_.message, IntegrationWarning)\n",
      "/opt/anaconda3/envs/hux-rom/lib/python3.9/site-packages/rom_operator_inference/_core/_base.py:604: IntegrationWarning: Required step size is less than spacing between numbers.\n",
      "  warnings.warn(self.sol_.message, IntegrationWarning)\n",
      "/opt/anaconda3/envs/hux-rom/lib/python3.9/site-packages/rom_operator_inference/_core/_base.py:604: IntegrationWarning: Required step size is less than spacing between numbers.\n",
      "  warnings.warn(self.sol_.message, IntegrationWarning)\n",
      "/opt/anaconda3/envs/hux-rom/lib/python3.9/site-packages/rom_operator_inference/_core/_base.py:604: IntegrationWarning: Required step size is less than spacing between numbers.\n",
      "  warnings.warn(self.sol_.message, IntegrationWarning)\n"
     ]
    },
    {
     "name": "stdout",
     "output_type": "stream",
     "text": [
      "normal equations solve failed, switching lstsq solver\n",
      "normal equations solve failed, switching lstsq solver\n"
     ]
    },
    {
     "name": "stderr",
     "output_type": "stream",
     "text": [
      "/opt/anaconda3/envs/hux-rom/lib/python3.9/site-packages/rom_operator_inference/_core/_base.py:604: IntegrationWarning: Required step size is less than spacing between numbers.\n",
      "  warnings.warn(self.sol_.message, IntegrationWarning)\n",
      "/opt/anaconda3/envs/hux-rom/lib/python3.9/site-packages/rom_operator_inference/_core/_base.py:604: IntegrationWarning: Required step size is less than spacing between numbers.\n",
      "  warnings.warn(self.sol_.message, IntegrationWarning)\n",
      "/opt/anaconda3/envs/hux-rom/lib/python3.9/site-packages/rom_operator_inference/lstsq/_tikhonov.py:398: LinAlgWarning: original least-squares system is underdetermined!\n",
      "  self._process_fit_arguments(A, B)\n"
     ]
    },
    {
     "name": "stdout",
     "output_type": "stream",
     "text": [
      "normal equations solve failed, switching lstsq solver\n",
      "normal equations solve failed, switching lstsq solver\n"
     ]
    },
    {
     "name": "stderr",
     "output_type": "stream",
     "text": [
      "/opt/anaconda3/envs/hux-rom/lib/python3.9/site-packages/rom_operator_inference/_core/_base.py:604: IntegrationWarning: Required step size is less than spacing between numbers.\n",
      "  warnings.warn(self.sol_.message, IntegrationWarning)\n",
      "/opt/anaconda3/envs/hux-rom/lib/python3.9/site-packages/rom_operator_inference/lstsq/_tikhonov.py:398: LinAlgWarning: original least-squares system is underdetermined!\n",
      "  self._process_fit_arguments(A, B)\n",
      "/opt/anaconda3/envs/hux-rom/lib/python3.9/site-packages/rom_operator_inference/_core/_base.py:604: IntegrationWarning: Required step size is less than spacing between numbers.\n",
      "  warnings.warn(self.sol_.message, IntegrationWarning)\n",
      "/opt/anaconda3/envs/hux-rom/lib/python3.9/site-packages/rom_operator_inference/_core/_base.py:604: IntegrationWarning: Required step size is less than spacing between numbers.\n",
      "  warnings.warn(self.sol_.message, IntegrationWarning)\n",
      "/opt/anaconda3/envs/hux-rom/lib/python3.9/site-packages/rom_operator_inference/_core/_base.py:604: IntegrationWarning: Required step size is less than spacing between numbers.\n",
      "  warnings.warn(self.sol_.message, IntegrationWarning)\n",
      "/opt/anaconda3/envs/hux-rom/lib/python3.9/site-packages/rom_operator_inference/_core/_base.py:604: IntegrationWarning: Required step size is less than spacing between numbers.\n",
      "  warnings.warn(self.sol_.message, IntegrationWarning)\n",
      "/opt/anaconda3/envs/hux-rom/lib/python3.9/site-packages/rom_operator_inference/_core/_base.py:604: IntegrationWarning: Required step size is less than spacing between numbers.\n",
      "  warnings.warn(self.sol_.message, IntegrationWarning)\n",
      "/opt/anaconda3/envs/hux-rom/lib/python3.9/site-packages/rom_operator_inference/_core/_base.py:604: IntegrationWarning: Required step size is less than spacing between numbers.\n",
      "  warnings.warn(self.sol_.message, IntegrationWarning)\n",
      "/opt/anaconda3/envs/hux-rom/lib/python3.9/site-packages/rom_operator_inference/_core/_base.py:604: IntegrationWarning: Required step size is less than spacing between numbers.\n",
      "  warnings.warn(self.sol_.message, IntegrationWarning)\n",
      "/opt/anaconda3/envs/hux-rom/lib/python3.9/site-packages/rom_operator_inference/_core/_base.py:604: IntegrationWarning: Required step size is less than spacing between numbers.\n",
      "  warnings.warn(self.sol_.message, IntegrationWarning)\n",
      "/opt/anaconda3/envs/hux-rom/lib/python3.9/site-packages/rom_operator_inference/lstsq/_tikhonov.py:398: LinAlgWarning: original least-squares system is underdetermined!\n",
      "  self._process_fit_arguments(A, B)\n",
      "/opt/anaconda3/envs/hux-rom/lib/python3.9/site-packages/rom_operator_inference/_core/_base.py:604: IntegrationWarning: Required step size is less than spacing between numbers.\n",
      "  warnings.warn(self.sol_.message, IntegrationWarning)\n",
      "/opt/anaconda3/envs/hux-rom/lib/python3.9/site-packages/rom_operator_inference/lstsq/_tikhonov.py:398: LinAlgWarning: original least-squares system is underdetermined!\n",
      "  self._process_fit_arguments(A, B)\n",
      "/opt/anaconda3/envs/hux-rom/lib/python3.9/site-packages/rom_operator_inference/_core/_base.py:604: IntegrationWarning: Required step size is less than spacing between numbers.\n",
      "  warnings.warn(self.sol_.message, IntegrationWarning)\n",
      "/opt/anaconda3/envs/hux-rom/lib/python3.9/site-packages/rom_operator_inference/_core/_base.py:604: IntegrationWarning: Required step size is less than spacing between numbers.\n",
      "  warnings.warn(self.sol_.message, IntegrationWarning)\n",
      "/opt/anaconda3/envs/hux-rom/lib/python3.9/site-packages/rom_operator_inference/_core/_base.py:604: IntegrationWarning: Required step size is less than spacing between numbers.\n",
      "  warnings.warn(self.sol_.message, IntegrationWarning)\n",
      "/opt/anaconda3/envs/hux-rom/lib/python3.9/site-packages/rom_operator_inference/_core/_base.py:604: IntegrationWarning: Required step size is less than spacing between numbers.\n",
      "  warnings.warn(self.sol_.message, IntegrationWarning)\n",
      "/opt/anaconda3/envs/hux-rom/lib/python3.9/site-packages/rom_operator_inference/_core/_base.py:604: IntegrationWarning: Required step size is less than spacing between numbers.\n",
      "  warnings.warn(self.sol_.message, IntegrationWarning)\n",
      "/opt/anaconda3/envs/hux-rom/lib/python3.9/site-packages/rom_operator_inference/_core/_base.py:604: IntegrationWarning: Required step size is less than spacing between numbers.\n",
      "  warnings.warn(self.sol_.message, IntegrationWarning)\n",
      "/opt/anaconda3/envs/hux-rom/lib/python3.9/site-packages/rom_operator_inference/lstsq/_tikhonov.py:398: LinAlgWarning: original least-squares system is underdetermined!\n",
      "  self._process_fit_arguments(A, B)\n",
      "/opt/anaconda3/envs/hux-rom/lib/python3.9/site-packages/rom_operator_inference/lstsq/_tikhonov.py:398: LinAlgWarning: original least-squares system is underdetermined!\n",
      "  self._process_fit_arguments(A, B)\n",
      "/opt/anaconda3/envs/hux-rom/lib/python3.9/site-packages/rom_operator_inference/lstsq/_tikhonov.py:398: LinAlgWarning: original least-squares system is underdetermined!\n",
      "  self._process_fit_arguments(A, B)\n",
      "/opt/anaconda3/envs/hux-rom/lib/python3.9/site-packages/rom_operator_inference/lstsq/_tikhonov.py:398: LinAlgWarning: original least-squares system is underdetermined!\n",
      "  self._process_fit_arguments(A, B)\n",
      "/opt/anaconda3/envs/hux-rom/lib/python3.9/site-packages/rom_operator_inference/lstsq/_tikhonov.py:398: LinAlgWarning: original least-squares system is underdetermined!\n",
      "  self._process_fit_arguments(A, B)\n",
      "/opt/anaconda3/envs/hux-rom/lib/python3.9/site-packages/rom_operator_inference/lstsq/_tikhonov.py:398: LinAlgWarning: original least-squares system is underdetermined!\n",
      "  self._process_fit_arguments(A, B)\n",
      "/opt/anaconda3/envs/hux-rom/lib/python3.9/site-packages/rom_operator_inference/lstsq/_tikhonov.py:398: LinAlgWarning: original least-squares system is underdetermined!\n",
      "  self._process_fit_arguments(A, B)\n",
      "/opt/anaconda3/envs/hux-rom/lib/python3.9/site-packages/rom_operator_inference/lstsq/_tikhonov.py:398: LinAlgWarning: original least-squares system is underdetermined!\n",
      "  self._process_fit_arguments(A, B)\n",
      "/opt/anaconda3/envs/hux-rom/lib/python3.9/site-packages/rom_operator_inference/lstsq/_tikhonov.py:398: LinAlgWarning: original least-squares system is underdetermined!\n",
      "  self._process_fit_arguments(A, B)\n",
      "/opt/anaconda3/envs/hux-rom/lib/python3.9/site-packages/rom_operator_inference/lstsq/_tikhonov.py:398: LinAlgWarning: original least-squares system is underdetermined!\n",
      "  self._process_fit_arguments(A, B)\n"
     ]
    }
   ],
   "source": [
    "coeff1_array = 10**np.arange(0, 10)\n",
    "coeff2_array = 10**np.arange(0, 10)\n",
    "rank_array_cAH = np.arange(2, 15)\n",
    "\n",
    "training_error_cAH = np.ones((len(coeff1_array),  len(coeff2_array), len(rank_array_cAH), 3)) * np.inf\n",
    "testing_error_cAH = np.ones((len(coeff1_array),  len(coeff2_array), len(rank_array_cAH), 3)) * np.inf\n",
    "\n",
    "for kk, coeff1 in enumerate(coeff1_array):\n",
    "    for jj, coeff2 in enumerate(coeff2_array):\n",
    "        for pp, rank_r, in enumerate(rank_array_cAH):\n",
    "            Vr, _ = roi.pre.pod_basis(flatten(X_train), r=rank_r) \n",
    "            Xdot = roi.pre.xdot_nonuniform(flatten(X_train), r_train.value) \n",
    "            model = roi.InferredContinuousROM(modelform=\"cAH\") \n",
    "            model.fit(Vr, flatten(X_train), Xdot, P=regularizer(rank_r, coeff1, coeff2)) \n",
    "            X_ROM = model.predict(X[:, :, 0].reshape(len(p)*len(t)), r.value, method=\"BDF\") \n",
    "            X_ROM = undo_flatten(X_ROM)\n",
    "\n",
    "            if np.shape(flatten(X_ROM)) == np.shape(flatten(V)):\n",
    "                V_ROM = convert_from_x_to_v(X_ROM)\n",
    "                # save\n",
    "                training_error_cAH[kk, jj, pp, 0] = np.max(np.abs(V[:, :, :l]-V_ROM[:, :, :l])/V[:, :, :l])\n",
    "                training_error_cAH[kk, jj, pp, 1] = roi.post.lp_error(np.ndarray.flatten(V[:, :, :l]), np.ndarray.flatten(V_ROM[:, :, :l]), 1)[1]\n",
    "                training_error_cAH[kk, jj, pp, 2] = roi.post.lp_error(np.ndarray.flatten(V[:, :, :l]), np.ndarray.flatten(V_ROM[:, :, :l]), 2)[1]\n",
    "                # save\n",
    "                testing_error_cAH[kk, jj, pp, 0] = np.max(np.abs(V[:, :, l:]-V_ROM[:, :, l:])/V[:, :, l:])\n",
    "                testing_error_cAH[kk, jj, pp, 1] = roi.post.lp_error(np.ndarray.flatten(V[:, :, l:]), np.ndarray.flatten(V_ROM[:, :, l:]), 1)[1]\n",
    "                testing_error_cAH[kk, jj, pp, 2] = roi.post.lp_error(np.ndarray.flatten(V[:, :, l:]), np.ndarray.flatten(V_ROM[:, :, l:]), 2)[1]"
   ]
  },
  {
   "cell_type": "code",
   "execution_count": 29,
   "id": "4cf66329",
   "metadata": {
    "scrolled": false
   },
   "outputs": [
    {
     "data": {
      "image/png": "[encoded data removed]",
      "text/plain": [
       "<Figure size 504x360 with 1 Axes>"
      ]
     },
     "metadata": {
      "needs_background": "light"
     },
     "output_type": "display_data"
    },
    {
     "data": {
      "image/png": "[encoded data removed]",
      "text/plain": [
       "<Figure size 504x360 with 1 Axes>"
      ]
     },
     "metadata": {
      "needs_background": "light"
     },
     "output_type": "display_data"
    },
    {
     "data": {
      "image/png": "[encoded data removed]",
      "text/plain": [
       "<Figure size 504x360 with 1 Axes>"
      ]
     },
     "metadata": {
      "needs_background": "light"
     },
     "output_type": "display_data"
    }
   ],
   "source": [
    "for norms in range(3):\n",
    "    fig, ax = plt.subplots(figsize=(7, 5))\n",
    "    A_results_testing = np.zeros(len(rank_array_A))\n",
    "    H_results_testing = np.zeros(len(rank_array_H))\n",
    "    cAH_results_testing = np.zeros(len(rank_array_cAH))\n",
    "\n",
    "    for ii in range(len(rank_array_cAH)):\n",
    "        # optimal coefficients based on training error\n",
    "        coeff_cAH = np.unravel_index(training_error_cAH[:, :, ii, 0].argmin(), training_error_cAH[:, :, ii, 0].shape)\n",
    "        cAH_results_testing[ii] = 100*testing_error_cAH[coeff_cAH[0], coeff_cAH[1], ii, norms]\n",
    "\n",
    "    for ii in range(len(rank_array_A)):\n",
    "        # optimal coefficients based on training error\n",
    "        coeff_A = np.argmin(training_error_A[:, ii, 0])\n",
    "        # save the corresponding testing error\n",
    "        A_results_testing[ii] = 100*testing_error_A[coeff_A, ii, norms]\n",
    "    \n",
    "    for ii in range(len(rank_array_H)):\n",
    "        # optimal coefficients based on training error\n",
    "        coeff_H = np.argmin(training_error_H[:, ii, 0])\n",
    "        # save the corresponding testing error\n",
    "        H_results_testing[ii] = 100*testing_error_H[coeff_H, ii, norms]\n",
    "\n",
    "    ax.plot(d_A(rank_array_A), A_results_testing,\"-o\", c=\"b\", label=\"$\\dot{\\hat{\\mathbf{u}}} = \\hat{\\mathbf{A}}\\hat{\\mathbf{u}}$\")\n",
    "    ax.plot(d_cAH(rank_array_cAH), cAH_results_testing,\"-x\", c=\"g\", label=\"$\\dot{\\hat{\\mathbf{u}}} = \\hat{\\mathbf{c}} + \\hat{\\mathbf{A}}\\hat{\\mathbf{u}}+ \\hat{\\mathbf{H}}(\\hat{\\mathbf{u}} \\otimes \\hat{\\mathbf{u}})$\")\n",
    "    ax.plot(d_cAH(rank_array_H), H_results_testing,\"-x\", c=\"r\", label=\"$\\dot{\\hat{\\mathbf{u}}} = \\hat{\\mathbf{H}}(\\hat{\\mathbf{u}} \\otimes \\hat{\\mathbf{u}})$\")\n",
    "\n",
    "    ax.axvline(d_cAH(10), ls=\"--\", c=\"g\")\n",
    "    ax.axvline(d_cAH(9), ls=\"--\", c=\"g\")\n",
    "    ax.axvline(d_cAH(8), ls=\"--\", c=\"g\")\n",
    "\n",
    "    ax.axvline(d_A(24), ls=\"--\", c=\"b\")\n",
    "    ax.axvline(d_A(23), ls=\"--\", c=\"b\")\n",
    "    ax.axvline(d_A(22), ls=\"--\", c=\"b\")\n",
    "    ax.axvline(d_A(21), ls=\"--\", c=\"b\")\n",
    "    ax.axvline(d_A(20), ls=\"--\", c=\"b\")\n",
    "    ax.axvline(d_A(22), ls=\"--\", c=\"b\")\n",
    "    ax.axvline(d_A(19), ls=\"--\", c=\"b\")\n",
    "    ax.axvline(d_A(18), ls=\"--\", c=\"b\")\n",
    "    ax.axvline(d_A(17), ls=\"--\", c=\"b\")\n",
    "\n",
    "\n",
    "#    _ = ax.text(d_cAH(9)+2, 38,  \"$\\ell=9$\", c=\"g\", rotation=90, verticalalignment='center')\n",
    "#     _ = ax.text(d_cAH(8)+2, 38,  \"$\\ell=8$\", c=\"g\", rotation=90, verticalalignment='center')\n",
    "\n",
    "#     _ = ax.text(d_A(24)-15, 13,  \"$\\ell=24$\", c=\"b\", rotation=90, verticalalignment='center')\n",
    "#     _ = ax.text(d_A(23)-15, 13,  \"$\\ell=23$\", c=\"b\", rotation=90, verticalalignment='center')\n",
    "#     _ = ax.text(d_A(22)-15, 13,  \"$\\ell=22$\", c=\"b\", rotation=90, verticalalignment='center')\n",
    "#     _ = ax.text(d_A(21)-15, 13,  \"$\\ell=21$\", c=\"b\", rotation=90, verticalalignment='center')\n",
    "#     _ = ax.text(d_A(20)-15, 13,  \"$\\ell=20$\", c=\"b\", rotation=90, verticalalignment='center')\n",
    "#     _ = ax.text(d_A(19)-15, 13,  \"$\\ell=19$\", c=\"b\", rotation=90, verticalalignment='center')\n",
    "#     _ = ax.text(d_A(18)-15, 13,  \"$\\ell=18$\", c=\"b\", rotation=90, verticalalignment='center')\n",
    "#     _ = ax.text(d_A(17)-15, 13,  \"$\\ell=17$\", c=\"b\", rotation=90, verticalalignment='center')\n",
    "\n",
    "    _ = ax.legend(loc=(1.05, .2))\n",
    "    _ = ax.set_xlim(200, 600)\n",
    "    #_ = ax.set_ylim(10, 40)\n",
    "    _ = ax.set_ylabel(\"Testing Relative Error $L_{\\infty}$ %\")\n",
    "    _ = ax.set_xlabel(r\"Number of Model Parameters $d(\\ell)$\")"
   ]
  },
  {
   "cell_type": "code",
   "execution_count": 57,
   "id": "1afe8b5d",
   "metadata": {},
   "outputs": [
    {
     "data": {
      "image/png": "[encoded data removed]",
      "text/plain": [
       "<Figure size 576x288 with 1 Axes>"
      ]
     },
     "metadata": {
      "needs_background": "light"
     },
     "output_type": "display_data"
    }
   ],
   "source": [
    "fig, ax = plt.subplots(figsize=(8, 4))\n",
    "A_results_testing = np.zeros(len(rank_array_A))\n",
    "H_results_testing = np.zeros(len(rank_array_H))\n",
    "cAH_results_testing = np.zeros(len(rank_array_cAH))\n",
    "\n",
    "for ii in range(len(rank_array_cAH)):\n",
    "    # optimal coefficients based on training error\n",
    "    coeff_cAH = np.unravel_index(training_error_cAH[:, :, ii, 0].argmin(), training_error_cAH[:, :, ii, 0].shape)\n",
    "    cAH_results_testing[ii] = 100*testing_error_cAH[coeff_cAH[0], coeff_cAH[1], ii, 2]\n",
    "\n",
    "for ii in range(len(rank_array_A)):\n",
    "    # optimal coefficients based on training error\n",
    "    coeff_A = np.argmin(training_error_A[:, ii, 0])\n",
    "    # save the corresponding testing error\n",
    "    A_results_testing[ii] = 100*testing_error_A[coeff_A, ii, 2]\n",
    "\n",
    "for ii in range(len(rank_array_H)):\n",
    "    # optimal coefficients based on training error\n",
    "    coeff_H = np.argmin(training_error_H[:, ii, 0])\n",
    "    # save the corresponding testing error\n",
    "    H_results_testing[ii] = 100*testing_error_H[coeff_H, ii, 2]\n",
    "\n",
    "ax.plot(d_A(rank_array_A), A_results_testing,\"-o\", c=\"b\", label=\"$\\dot{\\hat{\\mathbf{v}}} = \\hat{\\mathbf{A}}\\hat{\\mathbf{v}}$\")\n",
    "ax.plot(d_cAH(rank_array_cAH), cAH_results_testing,\"-o\", c=\"g\", label=\"$\\dot{\\hat{\\mathbf{v}}} = \\hat{\\mathbf{A}}\\hat{\\mathbf{v}}+ \\hat{\\mathbf{H}}(\\hat{\\mathbf{v}} \\otimes \\hat{\\mathbf{v}}) + \\hat{\\mathbf{B}}$\")\n",
    "\n",
    "ax.axvline(d_cAH(7), ls=\"--\", c=\"g\")\n",
    "ax.axvline(d_cAH(9), ls=\"--\", c=\"g\")\n",
    "ax.axvline(d_cAH(8), ls=\"--\", c=\"g\")\n",
    "\n",
    "_ = ax.text(d_cAH(7)+5, 1.1,  \"$\\ell=7$\", c=\"g\", rotation=90, verticalalignment='center')\n",
    "_ = ax.text(d_cAH(9)+2, 1.1,  \"$\\ell=9$\", c=\"g\", rotation=90, verticalalignment='center')\n",
    "_ = ax.text(d_cAH(8)+2, 1.1,  \"$\\ell=8$\", c=\"g\", rotation=90, verticalalignment='center')\n",
    "\n",
    "# ax.axvline(d_H(8), ls=\"--\", c=\"r\")\n",
    "# ax.axvline(d_H(9), ls=\"--\", c=\"r\")\n",
    "# _ = ax.text(d_H(8)+2, 1.11,  \"$\\ell=8$\", c=\"r\", rotation=90, verticalalignment='center')\n",
    "# _ = ax.text(d_H(9)+2, 1.11,  \"$\\ell=9$\", c=\"r\", rotation=90, verticalalignment='center')\n",
    "\n",
    "ax.axvline(d_A(24), ls=\"--\", c=\"b\")\n",
    "ax.axvline(d_A(23), ls=\"--\", c=\"b\")\n",
    "ax.axvline(d_A(22), ls=\"--\", c=\"b\")\n",
    "ax.axvline(d_A(21), ls=\"--\", c=\"b\")\n",
    "ax.axvline(d_A(20), ls=\"--\", c=\"b\")\n",
    "ax.axvline(d_A(22), ls=\"--\", c=\"b\")\n",
    "ax.axvline(d_A(19), ls=\"--\", c=\"b\")\n",
    "ax.axvline(d_A(18), ls=\"--\", c=\"b\")\n",
    "ax.axvline(d_A(17), ls=\"--\", c=\"b\")\n",
    "ax.axvline(d_A(16), ls=\"--\", c=\"b\")\n",
    "\n",
    "_ = ax.text(d_A(22)-11, 0.5,  \"$\\ell=22$\", c=\"b\", rotation=90, verticalalignment='center')\n",
    "_ = ax.text(d_A(21)-11, 0.5,  \"$\\ell=21$\", c=\"b\", rotation=90, verticalalignment='center')\n",
    "_ = ax.text(d_A(20)-11, 0.5,  \"$\\ell=20$\", c=\"b\", rotation=90, verticalalignment='center')\n",
    "_ = ax.text(d_A(19)-11, 0.5,  \"$\\ell=19$\", c=\"b\", rotation=90, verticalalignment='center')\n",
    "_ = ax.text(d_A(18)-11, 0.5,  \"$\\ell=18$\", c=\"b\", rotation=90, verticalalignment='center')\n",
    "_ = ax.text(d_A(17)-11, 0.5,  \"$\\ell=17$\", c=\"b\", rotation=90, verticalalignment='center')\n",
    "\n",
    "\n",
    "_ = ax.legend(bbox_to_anchor=[0.5, 1.1],loc='center', ncol=2)\n",
    "_ = ax.set_xlim(250, 510)\n",
    "_ = ax.set_ylim(0.4, 1.17)\n",
    "_ = ax.set_ylabel(\"Testing Relative Error %\")\n",
    "_ = ax.set_xlabel(r\"Number of Model Parameters $d(\\ell)$\")\n",
    "plt.tight_layout()\n",
    "plt.savefig(\"MHD/figs/number_of_model_parameters_MAS3D.png\")\n"
   ]
  },
  {
   "cell_type": "code",
   "execution_count": 31,
   "id": "429030bf",
   "metadata": {},
   "outputs": [
    {
     "data": {
      "image/png": "[encoded data removed]",
      "text/plain": [
       "<Figure size 1080x288 with 2 Axes>"
      ]
     },
     "metadata": {
      "needs_background": "light"
     },
     "output_type": "display_data"
    }
   ],
   "source": [
    "fig, ax = plt.subplots(ncols=2, figsize=(15, 4))\n",
    "\n",
    "A_results_testing = np.zeros(len(rank_array_A))\n",
    "H_results_testing = np.zeros(len(rank_array_H))\n",
    "cAH_results_testing = np.zeros(len(rank_array_cAH))\n",
    "\n",
    "for ii in range(len(rank_array_A)):\n",
    "    # optimal coefficients based on training error\n",
    "    coeff_A = np.argmin(training_error_A[:, ii, 0])\n",
    "    # save the corresponding testing error\n",
    "    A_results_testing[ii] = 100*testing_error_A[coeff_A, ii, 2]\n",
    "    # plot coefficient\n",
    "    ax[1].scatter(d_A(rank_array_A[ii]), 10**coeff_A, c=\"blue\")\n",
    "    \n",
    "\n",
    "for ii in range(len(rank_array_H)):\n",
    "    # optimal coefficients based on training error\n",
    "    coeff_H = np.argmin(training_error_H[:, ii, 0])\n",
    "    # save the corresponding testing error\n",
    "    H_results_testing[ii] = 100*testing_error_H[coeff_H, ii, 2]\n",
    "    # plot coefficient\n",
    "    ax[1].scatter(d_H(rank_array_H[ii]), 10**coeff_H, c=\"red\")\n",
    "    \n",
    "\n",
    "for ii in range(len(rank_array_cAH)):\n",
    "    # optimal coefficients based on training error\n",
    "    coeff_cAH = np.unravel_index(training_error_cAH[:, :, ii, 0].argmin(), training_error_cAH[:, :, ii, 0].shape)\n",
    "    cAH_results_testing[ii] = 100*testing_error_cAH[coeff_cAH[0], coeff_cAH[1], ii, 2]\n",
    "    ax[1].scatter(d_cAH(rank_array_cAH[ii]), 10**coeff_cAH[0], c=\"green\")\n",
    "    ax[1].scatter(d_cAH(rank_array_cAH[ii]), 10**coeff_cAH[1], c=\"green\")\n",
    "    \n",
    "ax[1].set_yscale(\"log\")\n",
    "\n",
    "ax[0].plot(d_A(rank_array_A), A_results_testing,\"-o\", c=\"b\", label=\"$\\dot{\\hat{\\mathbf{u}}} = \\hat{\\mathbf{A}}\\hat{\\mathbf{u}}$\")\n",
    "ax[0].plot(d_H(rank_array_H), H_results_testing,\"-o\", c=\"red\", label=\"$\\dot{\\hat{\\mathbf{u}}} = \\hat{\\mathbf{H}}(\\hat{\\mathbf{u}} \\otimes \\hat{\\mathbf{u}})$\")\n",
    "ax[0].plot(d_cAH(rank_array_cAH), cAH_results_testing,\"-o\", c=\"g\", label=\"$\\dot{\\hat{\\mathbf{u}}} =  \\hat{\\mathbf{b}} + \\hat{\\mathbf{A}}\\hat{\\mathbf{u}} + \\hat{\\mathbf{H}}(\\hat{\\mathbf{u}} \\otimes \\hat{\\mathbf{u}})$\")\n",
    "#ax[0].set_xlim(200, 1500)\n",
    "ax[0].set_ylim(0, 4)\n",
    "#ax[1].set_xlim(200, 1500)\n",
    "ax[0].legend()\n",
    "\n",
    "_ = ax[1].set_xlabel(r\"Number of Model Parameters $d(\\ell)$\")\n",
    "_ = ax[0].set_xlabel(r\"Number of Model Parameters $d(\\ell)$\")\n",
    "_ = ax[1].set_ylabel(r\"$\\lambda_{1}$\")\n",
    "_ = ax[0].set_ylabel(r\"Relative Error Testing %\")\n",
    "plt.tight_layout()"
   ]
  },
  {
   "cell_type": "code",
   "execution_count": null,
   "id": "a794dc2f",
   "metadata": {},
   "outputs": [],
   "source": []
  },
  {
   "cell_type": "code",
   "execution_count": null,
   "id": "2e9858db",
   "metadata": {},
   "outputs": [],
   "source": []
  }
 ],
 "metadata": {
  "kernelspec": {
   "display_name": "Python 3 (ipykernel)",
   "language": "python",
   "name": "python3"
  },
  "language_info": {
   "codemirror_mode": {
    "name": "ipython",
    "version": 3
   },
   "file_extension": ".py",
   "mimetype": "text/x-python",
   "name": "python",
   "nbconvert_exporter": "python",
   "pygments_lexer": "ipython3",
   "version": "3.9.6"
  }
 },
 "nbformat": 4,
 "nbformat_minor": 5
}
