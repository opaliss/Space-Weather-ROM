{
 "cells": [
  {
   "cell_type": "markdown",
   "id": "9c731744",
   "metadata": {},
   "source": [
    "# List of changes: \n",
    "\n",
    "1. Interpolation on the shifted coordinates must be periodic (hence, x=3 should not be included in the x coordinates.)\n",
    "\n",
    "Previous function: https://docs.scipy.org/doc/scipy/reference/generated/scipy.interpolate.interp1d.html#scipy.interpolate.interp1d\n",
    "\n",
    "\n",
    "Current implementation:\n",
    "https://numpy.org/doc/stable/reference/generated/numpy.interp.html\n",
    "\n",
    "2. MOC is now computed via the shock curve. "
   ]
  },
  {
   "cell_type": "code",
   "execution_count": null,
   "id": "1243ae88",
   "metadata": {},
   "outputs": [],
   "source": []
  }
 ],
 "metadata": {
  "kernelspec": {
   "display_name": "Python 3 (ipykernel)",
   "language": "python",
   "name": "python3"
  },
  "language_info": {
   "codemirror_mode": {
    "name": "ipython",
    "version": 3
   },
   "file_extension": ".py",
   "mimetype": "text/x-python",
   "name": "python",
   "nbconvert_exporter": "python",
   "pygments_lexer": "ipython3",
   "version": "3.9.6"
  }
 },
 "nbformat": 4,
 "nbformat_minor": 5
}
