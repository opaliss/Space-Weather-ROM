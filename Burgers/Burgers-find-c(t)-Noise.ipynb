{
 "cells": [
  {
   "cell_type": "markdown",
   "id": "4bb3f1c9",
   "metadata": {},
   "source": [
    "#### Last Modified: July 24th, 2022 (Opal). \n",
    "\n",
    "## sOpInf applied to the Inviscid Burgers' Equation (Example #1) - Find the shift function c(t) via (1) the method of characteristics and (2) cross-correlation extrapolation."
   ]
  },
  {
   "cell_type": "code",
   "execution_count": 1,
   "id": "b1464119",
   "metadata": {},
   "outputs": [
    {
     "data": {
      "text/plain": [
       "'/Users/oissan/PycharmProjects/Space-Weather-ROM-Revised'"
      ]
     },
     "execution_count": 1,
     "metadata": {},
     "output_type": "execute_result"
    }
   ],
   "source": [
    "import os\n",
    "os.chdir(\"../\")\n",
    "os.getcwd()"
   ]
  },
  {
   "cell_type": "code",
   "execution_count": 2,
   "id": "ebc72c78",
   "metadata": {},
   "outputs": [],
   "source": [
    "import numpy as np\n",
    "import scipy.linalg as la\n",
    "import scipy.sparse as sparse\n",
    "import scipy.optimize as optimize\n",
    "import scipy\n",
    "import time"
   ]
  },
  {
   "cell_type": "code",
   "execution_count": 3,
   "id": "058f85fc",
   "metadata": {},
   "outputs": [],
   "source": [
    "import matplotlib.pyplot as plt\n",
    "import matplotlib\n",
    "font = {'family' : 'serif',\n",
    "        'size'   : 13}\n",
    "\n",
    "matplotlib.rc('font', **font)\n",
    "matplotlib.rc('xtick', labelsize=15) \n",
    "matplotlib.rc('ytick', labelsize=15) "
   ]
  },
  {
   "cell_type": "markdown",
   "id": "7dc01ecd",
   "metadata": {},
   "source": [
    "# Option 1: Method of Characteristics (MoC)\n",
    "\n",
    "### Invisicid Burgers' Equation\n",
    "The one-dimensional invisicid Burgers' equation is of the form:\n",
    "\n",
    "\\begin{equation} \\label{inviscid-burgers-equation}\n",
    "    \\frac{\\partial u(x, t)}{\\partial t} + u(x, t)\\frac{\\partial u(x, t)}{\\partial x} = 0\n",
    "\\end{equation}\n",
    "\n",
    "The characteristic curves are defined as \n",
    "$$\n",
    "\\frac{\\text{d} \\tilde{x}}{\\text{d} t} = u \\qquad \\text{and} \\qquad \\frac{\\text{d}u(\\tilde{x}, t)}{\\text{d}t} = 0\n",
    "$$\n",
    "\n",
    "Shock forms when the characteristic lines first intersect - beyond this point, $(x_{s}, t_{s})$,  the solution develops a discontinuity and the wave \"breaks\". It is also the point where the conservation law, in its differential form, breaks down. In order to avoid a multi-valued solution, the triple-valued region is replaced with a discontinuity. \n"
   ]
  },
  {
   "cell_type": "markdown",
   "id": "25621aff",
   "metadata": {},
   "source": [
    "### Set Rectangular Computational Grid Size"
   ]
  },
  {
   "cell_type": "code",
   "execution_count": 23,
   "id": "bc9933b5",
   "metadata": {},
   "outputs": [],
   "source": [
    "# number of mesh points in the T (time) axis. \n",
    "m = 1000\n",
    "# number of mesh points in X (spatial) axis. \n",
    "n = 1000\n",
    "# final time. \n",
    "T = 2\n",
    "# boundary of x [a, b].\n",
    "a = 0\n",
    "b = 3"
   ]
  },
  {
   "cell_type": "code",
   "execution_count": 24,
   "id": "153f9c34",
   "metadata": {},
   "outputs": [],
   "source": [
    "# time and spatial grid (uniform spacing).\n",
    "t_vec = np.linspace(0, T, m)\n",
    "x_vec = np.linspace(a, b, n)"
   ]
  },
  {
   "cell_type": "markdown",
   "id": "bc0e6033",
   "metadata": {},
   "source": [
    "### Set Initial Condition"
   ]
  },
  {
   "cell_type": "code",
   "execution_count": 25,
   "id": "9704de7e",
   "metadata": {},
   "outputs": [],
   "source": [
    "# gaussian initial condition\n",
    "initial_condition = 0.8 +  0.5*np.exp(-(x_vec - 1)**2/(0.1))"
   ]
  },
  {
   "cell_type": "markdown",
   "id": "00efbac6",
   "metadata": {},
   "source": [
    "The initial condition is of the form \n",
    "\n",
    "$$\n",
    "u_{0}(x) = 0.8 + 0.5\\exp(-10(x-1)^2)\n",
    "$$\n",
    "\n",
    "The nonlinear steepening produces the shock at $(x_{s}, t_{s}, \\tilde{x}_{s})$ and these three unknowns are determined from solving the coupled system of equations:\n",
    "$$\n",
    "u_{0}''(\\tilde{x}_{s}) = 0,\\\\\n",
    "1 + t_{s} u_{0}'(\\tilde{x}_{s}) = 0,\\\\\n",
    "x_{s} = \\tilde{x}_{s} + t_{s} u_{0}(\\tilde{x}_{s}).\n",
    "$$"
   ]
  },
  {
   "cell_type": "markdown",
   "id": "4eb92d7a",
   "metadata": {},
   "source": [
    "Since $u_{0}'(\\tilde{x}_{s}) = -10(x-1)\\exp(-10(x-1)^2)$\n",
    "and $u_{0}''(\\tilde{x}_{s}) = (200x^2 - 400x + 190) \\exp(-10(x-1)^2) = 0$, \n",
    "the characteritsic where shock emerges begins at $\\tilde{x}_{s} = \\frac{10 \\pm \\sqrt{5}}{10}$. The second equation yields the time where the shock emerges ,$t_s$, i.e.\n",
    "$$\n",
    "t_{s} =\\frac{-1}{u_{0}'(\\tilde{x}_{s})} = \\frac{-1}{-10(\\tilde{x}_{s}-1)\\exp(-10(\\tilde{x}_{s}-1)^2)} = \\pm \\frac{1}{\\sqrt{5} \\exp \\left(-\\frac{1}{2}\\right)},\n",
    "$$\n",
    "and since $t_{s} > 0$, we get $t_{s} \\approx 0.737$. Lastly, the shock spatial location is at\n",
    "$$\n",
    "x_{s} = \\frac{10 + \\sqrt{5}}{10} + \\frac{1}{\\sqrt{5} \\exp \\left(-\\frac{1}{2}\\right)} u_{0} \\left(\\frac{10 + \\sqrt{5}}{10}\\right) \\approx 2.037\n",
    "$$"
   ]
  },
  {
   "cell_type": "code",
   "execution_count": 26,
   "id": "c54dbcf2",
   "metadata": {},
   "outputs": [],
   "source": [
    "def u_0(x):\n",
    "    \"\"\" Initial condition (gaussian)\"\"\"\n",
    "    return 0.8 + 0.5*np.exp(-10*((x-1)**2))\n",
    "\n",
    "def u_tag(x):\n",
    "    \"\"\" the first derivative (of u0)\"\"\"\n",
    "    return -10*(x-1)*np.exp(-10*((x-1)**2))\n",
    "\n",
    "def u_tag_tag(x):\n",
    "    \"\"\" the second derivative (of u0)\"\"\"\n",
    "    return (200*(x**2) - 400*x + 190)*np.exp(-10*((x-1)**2))"
   ]
  },
  {
   "cell_type": "code",
   "execution_count": 27,
   "id": "bb31a7c9",
   "metadata": {},
   "outputs": [
    {
     "name": "stdout",
     "output_type": "stream",
     "text": [
      "x_s_tilde (+)=  1.223606797749979\n",
      "x_s_tilde (-)=  0.7763932022500211\n"
     ]
    }
   ],
   "source": [
    "x_s_tilde = (10 + np.sqrt(5))/10\n",
    "print(\"x_s_tilde (+)= \", (10 + np.sqrt(5))/10)\n",
    "print(\"x_s_tilde (-)= \", (10 - np.sqrt(5))/10)"
   ]
  },
  {
   "cell_type": "code",
   "execution_count": 28,
   "id": "7af9e4cc",
   "metadata": {},
   "outputs": [
    {
     "name": "stdout",
     "output_type": "stream",
     "text": [
      "t_s = 0.7373305674470638\n"
     ]
    }
   ],
   "source": [
    "t_s = -1/u_tag(x_s_tilde)\n",
    "print(\"t_s = \" + str(t_s))"
   ]
  },
  {
   "cell_type": "code",
   "execution_count": 29,
   "id": "80979edf",
   "metadata": {},
   "outputs": [
    {
     "name": "stdout",
     "output_type": "stream",
     "text": [
      "x_s =  2.037078049457609\n"
     ]
    }
   ],
   "source": [
    "x_s = x_s_tilde + t_s * u_0(x_s_tilde)\n",
    "print(\"x_s = \", + x_s)"
   ]
  },
  {
   "cell_type": "code",
   "execution_count": 33,
   "id": "2890a737",
   "metadata": {},
   "outputs": [
    {
     "data": {
      "image/png": "[encoded data removed]",
      "text/plain": [
       "<Figure size 1080x216 with 1 Axes>"
      ]
     },
     "metadata": {
      "needs_background": "light"
     },
     "output_type": "display_data"
    }
   ],
   "source": [
    "fig, ax = plt.subplots(figsize=(15, 3))\n",
    "ax.plot(x_vec, initial_condition)\n",
    "noise = np.loadtxt('Burgers/noise_ic.csv', delimiter=',')\n",
    "ax.plot(x_vec, initial_condition+noise)\n",
    "\n",
    "_ = ax.set_xlabel(\"x\")\n",
    "_ = ax.set_ylabel(\"$u_{0}(x)$\")\n",
    "_ = ax.set_title(\" $u_{0}(x) = 0.8 + 0.5\\exp(-10(x-1)^2)$\" )"
   ]
  },
  {
   "cell_type": "code",
   "execution_count": 43,
   "id": "de3ac1e8",
   "metadata": {},
   "outputs": [],
   "source": [
    "initial_condition+=noise"
   ]
  },
  {
   "cell_type": "code",
   "execution_count": 44,
   "id": "743f1f1f",
   "metadata": {},
   "outputs": [],
   "source": [
    "index = []\n",
    "shock_index = np.argmin(np.abs(t_vec - t_s))\n",
    "for ii in np.arange(0, len(x_vec)):\n",
    "    x_ii = (x_vec[ii] + initial_condition[ii]*t_vec[shock_index])\n",
    "    min_val = np.min(np.abs(x_ii - x_s))\n",
    "    if min_val < 6e-2:#5.5e-4:\n",
    "        index.append(ii)"
   ]
  },
  {
   "cell_type": "code",
   "execution_count": 45,
   "id": "cb935cb3",
   "metadata": {},
   "outputs": [],
   "source": [
    "index1 = np.min(index)\n",
    "index2 = np.max(index)"
   ]
  },
  {
   "cell_type": "code",
   "execution_count": 46,
   "id": "0d08f999",
   "metadata": {},
   "outputs": [
    {
     "name": "stdout",
     "output_type": "stream",
     "text": [
      "1.018018018018018\n",
      "1.4714714714714714\n"
     ]
    }
   ],
   "source": [
    "print(x_vec[index1])\n",
    "print(x_vec[index2])"
   ]
  },
  {
   "cell_type": "code",
   "execution_count": 47,
   "id": "ac2649bb",
   "metadata": {},
   "outputs": [
    {
     "data": {
      "text/plain": [
       "1.0794302388360109"
      ]
     },
     "execution_count": 47,
     "metadata": {},
     "output_type": "execute_result"
    }
   ],
   "source": [
    "np.mean(initial_condition[index1:index2])"
   ]
  },
  {
   "cell_type": "code",
   "execution_count": 48,
   "id": "86608a10",
   "metadata": {},
   "outputs": [
    {
     "data": {
      "image/png": "[encoded data removed]",
      "text/plain": [
       "<Figure size 720x288 with 1 Axes>"
      ]
     },
     "metadata": {
      "needs_background": "light"
     },
     "output_type": "display_data"
    }
   ],
   "source": [
    "fig, ax = plt.subplots(figsize=(10, 4))\n",
    "for ii in np.arange(0, len(x_vec), 20):\n",
    "    ax.scatter((x_vec[ii] + initial_condition[ii]*t_vec) % b,t_vec, color=\"b\", s=0.05, alpha=0.5)\n",
    "\n",
    "#ax.scatter((x_vec[index1] + initial_condition[index1]*t_vec) % b,t_vec, color=\"k\", s=0.05)\n",
    "#ax.scatter((x_vec[index2] + initial_condition[index2]*t_vec) % b,t_vec, color=\"k\", s=0.05)\n",
    "#_ = ax.set_xlim(1, 2.2)\n",
    "_ = ax.set_xlabel(\"x\")\n",
    "_ = ax.set_ylabel(\"t\")\n",
    "_ = ax.set_title(\"Crossing Characteristics in Absence of Shock Fitting\")\n",
    "_ = ax.scatter(x_s, t_s, s = 25, color=\"r\", label=r\"Shock Formation ($x_{s}, t_{s}$)\")\n",
    "_ = ax.axvline(x_s, ls=\"--\", c=\"r\")\n",
    "_ = ax.axhline(t_s, ls=\"--\", c=\"r\")\n",
    "#_ = ax.set_xticks([0, 1,  round(x_s, 3), 3])\n",
    "_ = ax.set_yticks([0, 0.5, round(t_s, 3), 1, 1.5, 2])\n",
    "_ = ax.legend()"
   ]
  },
  {
   "cell_type": "markdown",
   "id": "d114d06b",
   "metadata": {},
   "source": [
    "# Shock Fitting - Whitham's Equal Area Rule\n",
    "To determine the shock path we must solve the following system (the Rankine-Hugoniot jump condition):\n",
    "\n",
    "$$\n",
    "s(t) = \\tilde{x}_{+}+ t u_{0}(\\tilde{x_{+}}, 0)\\\\\n",
    "s(t) = \\tilde{x}_{-}+ t u_{0}(\\tilde{x_{-}}, 0)\\\\\n",
    "\\dot{s}(t) = \\frac{1}{2} \\left[ u_{0}(\\tilde{x}_{-})  + u_{0}(\\tilde{x}_{+})\\right]\n",
    "$$\n",
    "where $\\tilde{x}_{+}$ is the characteristic right after the shock and $\\tilde{x}_{+}$ is the characteristic right before the shock. Since $\\tilde{x}_{+}$ and $\\tilde{x}_{-}$ change with time, computing $s(t)$ is non-trivial in many cases. \n",
    "\n",
    "Fortunately, instead, we can use the *Whitham's (1974) equal-area rule*: on the multi-valued solution at time $t$ the shock $s(t)$ is located by drawing a vertical line which cuts off equal area lobes. If we replace part of the multivalued solution interval with a shock, some mass will be removed (area  $A_{1}$  in the figure below) and some mass will be added (area  $A_{2}$  in the figure below). Number conservation means that when we replace the multivalued solution by the discontinuous one, the area under the curve must remain the same, thus, $A_{1} = A_{2}$.\n",
    "Extensively, this Whitham equal-area rule argues that both the multivalued solution and the discontinuious solution satisfy the conservation law. Thus, for any breaking wave at $s(t)$, the area under each curve must be equal."
   ]
  },
  {
   "cell_type": "code",
   "execution_count": 49,
   "id": "cbcb5469",
   "metadata": {},
   "outputs": [],
   "source": [
    "def area_compute(index1, index2, x_shifted, u, s,  method=\"trap\"):\n",
    "    \"\"\" function to compute area between a vertical line x=s(t) and the multivalued function u(x, t)\"\"\"\n",
    "    if method==\"trap\":\n",
    "        return np.trapz(x_shifted[index1:index2] - s, x=u[index1:index2])\n",
    "    if method==\"simps\":\n",
    "        return scipy.integrate.simpson(x_shifted[index1:index2], x=u[index1:index2])\n",
    "    else:\n",
    "        return None\n",
    "\n",
    "\n",
    "\n",
    "def get_index(diff):\n",
    "    \"\"\" get indexes where x=s(t) and the multivalued function u(x, t) intercept\"\"\"\n",
    "    asign = np.sign(diff)\n",
    "    signchange = (np.diff(asign) != 0)*1\n",
    "    return np.where(signchange==1)[0]"
   ]
  },
  {
   "cell_type": "code",
   "execution_count": 50,
   "id": "881abeff",
   "metadata": {},
   "outputs": [],
   "source": [
    "def get_s_opt(t_idx, x_vec, t_vec, a, b, initial_condition, n_search=int(1e5)):\n",
    "    \"\"\" function to get the optimal s (shock) based on Whitham (1974) geometrical arguments \"\"\"\n",
    "    # shifted coordinates\n",
    "    x_shifted = (x_vec + initial_condition*t_vec[t_idx]) \n",
    "\n",
    "    # shock location initial guess\n",
    "    s_vec = np.linspace(a, b*2, n_search)\n",
    "    area_diff = np.zeros(n_search)\n",
    "\n",
    "    for s_idx, s in enumerate(s_vec):\n",
    "        # difference between shifted location and current shock s\n",
    "        diff = x_shifted - s\n",
    "        # figure out where the two curves intersect\n",
    "        index = get_index(diff)\n",
    "\n",
    "        if len(index) != 3: \n",
    "            area_diff[s_idx] = np.inf\n",
    "\n",
    "        else:\n",
    "            # compute the area between the two curves\n",
    "            area1 = np.abs(area_compute(index1=index[0], index2=index[1], x_shifted=x_shifted, u=initial_condition, s=s))\n",
    "            area2 = np.abs(area_compute(index1=index[1], index2=index[2], x_shifted=x_shifted, u=initial_condition, s=s))\n",
    "            area_diff[s_idx] = np.abs(area1 - area2)\n",
    "            \n",
    "    if t_idx % 50 == 0 and len(get_index(x_shifted- s_vec[np.argmin(area_diff)])) == 3:       \n",
    "        fig, ax = plt.subplots(figsize=(10, 5))\n",
    "        ax.scatter(x_shifted%b, initial_condition, s=0.1)\n",
    "        ax.scatter(s_vec[np.argmin(area_diff)]%b, initial_condition[get_index(x_shifted- s_vec[np.argmin(area_diff)])[0]], c=\"r\")\n",
    "        ax.scatter(s_vec[np.argmin(area_diff)]%b, initial_condition[get_index(x_shifted- s_vec[np.argmin(area_diff)])[1]], c=\"r\")\n",
    "        ax.scatter(s_vec[np.argmin(area_diff)]%b, initial_condition[get_index(x_shifted- s_vec[np.argmin(area_diff)])[2]], c=\"r\")\n",
    "        ax.axvline(s_vec[np.argmin(area_diff)]%b, c=\"k\", label=\"approximate = \" + str(round(s_vec[np.argmin(area_diff)], 3)))\n",
    "        ax.set_xlabel(\"x\")\n",
    "        ax.set_ylabel(\"u(x,t)\")\n",
    "        ax.set_title(r\"t = \" + str(round(t_vec[t_idx], 3))+\"\\n $|A_{1} - A_{2}|$ = \" + str(np.min(area_diff)))\n",
    "\n",
    "        plt.legend()\n",
    "        plt.show()\n",
    "\n",
    "    return s_vec[np.argmin(area_diff)] "
   ]
  },
  {
   "cell_type": "code",
   "execution_count": null,
   "id": "3aecd82e",
   "metadata": {
    "scrolled": false
   },
   "outputs": [],
   "source": [
    "s_curve = np.ones(len(t_vec)) * np.inf\n",
    "for t_idx, tt in enumerate(t_vec):\n",
    "    if tt > t_s + 1e-2:\n",
    "        # s(t) -- compute for each t slice\n",
    "        s_curve[t_idx] = get_s_opt(t_idx, x_vec, t_vec, a, b, initial_condition)"
   ]
  },
  {
   "cell_type": "code",
   "execution_count": null,
   "id": "585f92a6",
   "metadata": {},
   "outputs": [],
   "source": [
    "for ii in range(len(s_curve)):\n",
    "    if s_curve[ii] != np.inf:\n",
    "        n_start = ii \n",
    "        break"
   ]
  },
  {
   "cell_type": "code",
   "execution_count": null,
   "id": "f56795da",
   "metadata": {},
   "outputs": [],
   "source": [
    "def func_asymp(t, a,b,c, d):\n",
    "    return a*t + b*np.sqrt(t + c) +d \n",
    "\n",
    "popt = scipy.optimize.curve_fit(func_asymp, t_vec[n_start:], s_curve[n_start:])[0]"
   ]
  },
  {
   "cell_type": "code",
   "execution_count": null,
   "id": "f7cf8c5c",
   "metadata": {},
   "outputs": [],
   "source": [
    "fig, ax = plt.subplots(figsize=(15, 5))\n",
    "\n",
    "# _ = ax[0].plot(t_vec[n_start:], s_curve[n_start:], label=\"shock curve\")\n",
    "\n",
    "linear_par = np.polyfit(t_vec[n_start:], s_curve[n_start:], 1)\n",
    "# _ = ax[0].plot(t_vec[n_start:], np.polyval(linear_par, t_vec[n_start:]), c=\"r\", ls=\"-.\", label=\"linear-fit\")\n",
    "\n",
    "quad_par = np.polyfit(t_vec[n_start:], s_curve[n_start:], 2)\n",
    "# _ = ax[0].plot(t_vec[n_start:], np.polyval(quad_par, t_vec[n_start:]),\n",
    "#                c=\"g\", ls=\"--\", label=\"quadratic-fit\")\n",
    "\n",
    "cubic_par = np.polyfit(t_vec[n_start:], s_curve[n_start:], 3)\n",
    "# _ = ax[0].plot(t_vec[n_start:], np.polyval(cubic_par, t_vec[n_start:]), c=\"b\", ls=\":\", label=\"cubic-fit\")\n",
    "\n",
    "quat_par = np.polyfit(t_vec[n_start:], s_curve[n_start:], 4)\n",
    "# _ = ax[0].plot(t_vec[n_start:], np.polyval(quat_par, t_vec[n_start:]), c=\"orange\", ls=\"-\", label=\"quartic-fit\")\n",
    "\n",
    "fifth_par = np.polyfit(t_vec[n_start:], s_curve[n_start:], 5)\n",
    "# _ = ax[0].plot(t_vec[n_start:][::20], np.polyval(fifth_par, t_vec[n_start:][::20]),'-o',  c=\"pink\", linewidth=0.5, label=\"quintic-fit\")\n",
    "\n",
    "sixth_par = np.polyfit(t_vec[n_start:], s_curve[n_start:], 6)\n",
    "\n",
    "_ = ax.plot(t_vec[n_start:], np.abs(s_curve[n_start:] - np.polyval(linear_par, t_vec[n_start:])), c=\"r\",  ls=\"-.\",  label=r\"$c(t) = a t + b$\")\n",
    "_ = ax.plot(t_vec[n_start:], np.abs(s_curve[n_start:] - np.polyval(quad_par, t_vec[n_start:])), c=\"g\", ls=\"--\", label=r\"$c(t) = a t^2 + b t + c$\")\n",
    "_ = ax.plot(t_vec[n_start:], np.abs(s_curve[n_start:] - np.polyval(cubic_par, t_vec[n_start:])), c=\"b\", ls=\":\", label=r\"$c(t) = a t^3 + b t^2 + ct + d$\")\n",
    "_ = ax.plot(t_vec[n_start:], np.abs(s_curve[n_start:] - np.polyval(quat_par, t_vec[n_start:])), c=\"orange\", ls=\"-\", label=r\"$c(t) = at^4 + bt^3 + ct^2+ dt + e$\")\n",
    "_ = ax.plot(t_vec[n_start:][::20], np.abs(s_curve[n_start:] - np.polyval(fifth_par, t_vec[n_start:]))[::20], '-o',  c=\"pink\", label=\"$c(t) = at^5 + bt^4 + ct^3 + dt^2+ et + f$\")\n",
    "_ = ax.plot(t_vec[n_start:][::20], np.abs(s_curve[n_start:] - np.polyval(sixth_par, t_vec[n_start:]))[::20], '-^',  c=\"purple\", label=\"$c(t) = at^6 + bt^5 + ct^4 + dt^3+ et^2 + ft + g$\")\n",
    "_ = ax.plot(t_vec[n_start:], np.abs(s_curve[n_start:] - func_asymp(t_vec[n_start:], *popt)), '--',  c=\"yellow\", label=r\"$c(t) = at + b + \\sqrt{t + d}$\")\n",
    "\n",
    "\n",
    "_ = ax.legend()\n",
    "_ = ax.set_yscale(\"log\")\n",
    "_ = ax.set_xlabel(\"t\")\n",
    "_ = ax.set_ylabel(\"|s(t) - poly|\")\n",
    "_ = ax.set_title(\"Absolute difference between shock curve and polynomial fit\")\n",
    "ax.legend(loc='center left', bbox_to_anchor=(1, 0.5))\n",
    "plt.tight_layout()\n",
    "plt.savefig(\"Burgers/figs/shock_curve_approx_poly.png\", dpi=600)\n",
    "# print(\"m = \", m_linear)\n",
    "# print(\"n = \", n_linear)"
   ]
  },
  {
   "cell_type": "markdown",
   "id": "831860cb",
   "metadata": {},
   "source": [
    "# Collection of characteristic curves"
   ]
  },
  {
   "cell_type": "code",
   "execution_count": null,
   "id": "ea534a0b",
   "metadata": {},
   "outputs": [],
   "source": [
    "# initialize set of characteristic curves\n",
    "char_curves = np.zeros((len(x_vec), len(t_vec)))\n",
    "\n",
    "# loop over each point\n",
    "for ii in np.arange(len(x_vec)):\n",
    "    for jj in np.arange(len(t_vec)):\n",
    "        x_loc = (x_vec[ii] + initial_condition[ii]*t_vec[jj])\n",
    "        if np.min(np.abs(s_curve[jj]%b - x_loc%b)) < 1e-3:\n",
    "            char_curves[ii, jj:] = s_curve[jj:]*np.nan\n",
    "            break\n",
    "        else:\n",
    "            char_curves[ii, jj] = x_loc "
   ]
  },
  {
   "cell_type": "code",
   "execution_count": null,
   "id": "e098ba42",
   "metadata": {},
   "outputs": [],
   "source": [
    "index1=np.argmin(np.abs(x_vec - 1.15)) # 200 (0.6)\n",
    "print(x_vec[index1])\n",
    "index2=np.argmin(np.abs(x_vec - 1.4))# 600 (1.8)\n",
    "print(x_vec[index2])\n",
    "print(np.mean(initial_condition[index1:index2]))"
   ]
  },
  {
   "cell_type": "code",
   "execution_count": null,
   "id": "8bc6a20a",
   "metadata": {
    "scrolled": false
   },
   "outputs": [],
   "source": [
    "fig, ax = plt.subplots(figsize=(8, 4))\n",
    "#_ = ax.scatter(x_s, t_s, s = 100, color=\"k\", alpha=1, label=r\"shock formation $(x_{s}, t_{s})$\")\n",
    "for ii in np.arange(0, len(x_vec), 200):\n",
    "    if index1 < ii < index2 :\n",
    "        ax.plot(char_curves[ii, :n_start]%b, t_vec[:n_start], alpha=0.5, color=\"g\")\n",
    "        x_curve_index = np.argmin(np.abs(char_curves[ii, :] - b))\n",
    "        ax.plot(char_curves[ii, n_start:x_curve_index]%b, t_vec[n_start:x_curve_index], alpha=0.5, color=\"b\")\n",
    "        ax.plot(char_curves[ii, x_curve_index:]%b, t_vec[x_curve_index:], alpha=0.5, color=\"b\")\n",
    "    else:\n",
    "        x_curve_index = np.nanargmin(np.abs(char_curves[ii, :]%b - b))\n",
    "        ax.plot(char_curves[ii, :x_curve_index]%b, t_vec[:x_curve_index], alpha=0.5, color=\"b\")\n",
    "        ax.plot(char_curves[ii, x_curve_index+1:]%b, t_vec[x_curve_index+1:], alpha=0.5, color=\"b\")  \n",
    "\n",
    "ax.plot(char_curves[index1, :n_start]%b, t_vec[:n_start], alpha=0.5, color=\"g\")\n",
    "ax.plot(char_curves[index1, :n_start]%b, t_vec[:n_start], alpha=0.5, color=\"g\")\n",
    "s_curve_index = np.argmin(np.abs(s_curve - b))\n",
    "ax.plot(s_curve[:s_curve_index]%b,t_vec[:s_curve_index], c=\"red\", linewidth=2)\n",
    "ax.plot(s_curve[s_curve_index+1:]%b,t_vec[s_curve_index+1:], c=\"red\", linewidth=2, label=\"shock curve\")\n",
    "ax.plot(s_curve[s_curve_index:]%b * np.nan,t_vec[s_curve_index:]*np.nan, c=\"g\", label=\"selected region\")\n",
    "\n",
    "_ = ax.set_xlim(a, b)\n",
    "_ = ax.set_ylim(0, T)\n",
    "_ = ax.set_xlabel(\"x\")\n",
    "_ = ax.set_ylabel(\"t\")\n",
    "#_ = ax.set_title(\"Characteristic Curves\")\n",
    "\n",
    "_ = ax.axvline(x_s, ls=\"--\", c=\"r\", alpha=0.4)\n",
    "_ = ax.axhline(t_s, ls=\"--\", c=\"r\", alpha=0.4)\n",
    "_ = ax.set_xticks([0, round(x_vec[index1], 2), round(x_vec[index2], 2), round(x_s, 2), 3])\n",
    "_ = ax.set_yticks([0, round(t_s, 3), 1,  2])\n",
    "\n",
    "_ = ax.legend()\n",
    "plt.tight_layout()\n",
    "plt.savefig(\"Burgers/figs/characteristic_lines_shock_formation.png\")"
   ]
  },
  {
   "cell_type": "code",
   "execution_count": null,
   "id": "30a638c9",
   "metadata": {},
   "outputs": [],
   "source": [
    "fig, ax = plt.subplots(figsize=(5, 5))\n",
    "plt.plot(t_vec[: n_start], np.mean(initial_condition[index1:index2])* t_vec[:n_start] , c=\"b\", ls=\"-.\", label=\"Method of \\nCharacteristics\")\n",
    "plt.plot(t_vec[n_start:], s_curve[n_start:] -s_curve[n_start] + np.mean(initial_condition[index1:index2])* t_vec[n_start], c=\"b\", ls=\"-.\")\n",
    "ax.plot(t_vec, t_vec*1.05, label=\"Cross-Correlation \\nExtrapolation\")\n",
    "ax.axvline(t_s, c=\"k\", ls=\"--\", alpha=0.3, label=\"Shock Formation\")\n",
    "ax.set_xticks([0, 2, round(t_s, 3)])\n",
    "ax.legend()\n",
    "ax.set_xlabel(\"t\")\n",
    "ax.set_ylabel(\"c(t)\")\n",
    "#ax.set_title(r\"Shift function $c(t)$\")\n",
    "plt.tight_layout()\n",
    "plt.savefig(\"Burgers/figs/shift_function_comparison.png\")"
   ]
  },
  {
   "cell_type": "code",
   "execution_count": null,
   "id": "8b753b3f",
   "metadata": {},
   "outputs": [],
   "source": [
    "moc = np.zeros(len(t_vec))\n",
    "moc[:n_start] = np.mean(initial_condition[index1:index2])* t_vec[:n_start]\n",
    "moc[n_start:] = s_curve[n_start:] - s_curve[n_start] + np.mean(initial_condition[index1:index2])* t_vec[n_start]"
   ]
  },
  {
   "cell_type": "code",
   "execution_count": null,
   "id": "a0f63653",
   "metadata": {},
   "outputs": [],
   "source": [
    "np.savetxt('Burgers/shock_curve_noise.csv', moc, delimiter=',')"
   ]
  },
  {
   "cell_type": "code",
   "execution_count": null,
   "id": "b70e13cd",
   "metadata": {},
   "outputs": [],
   "source": []
  }
 ],
 "metadata": {
  "kernelspec": {
   "display_name": "Python 3 (ipykernel)",
   "language": "python",
   "name": "python3"
  },
  "language_info": {
   "codemirror_mode": {
    "name": "ipython",
    "version": 3
   },
   "file_extension": ".py",
   "mimetype": "text/x-python",
   "name": "python",
   "nbconvert_exporter": "python",
   "pygments_lexer": "ipython3",
   "version": "3.9.6"
  }
 },
 "nbformat": 4,
 "nbformat_minor": 5
}
