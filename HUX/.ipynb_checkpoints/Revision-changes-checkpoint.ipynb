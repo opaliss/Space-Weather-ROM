{
 "cells": [
  {
   "cell_type": "markdown",
   "id": "4daeb2b8",
   "metadata": {},
   "source": [
    "1. we compute the time derivative for opinf using \n",
    "'xdot_nonuniform' instead of 'x_dot' -- 2nd order accurate finite differencing.. "
   ]
  },
  {
   "cell_type": "code",
   "execution_count": null,
   "id": "58d405bf",
   "metadata": {},
   "outputs": [],
   "source": []
  }
 ],
 "metadata": {
  "kernelspec": {
   "display_name": "Python 3 (ipykernel)",
   "language": "python",
   "name": "python3"
  },
  "language_info": {
   "codemirror_mode": {
    "name": "ipython",
    "version": 3
   },
   "file_extension": ".py",
   "mimetype": "text/x-python",
   "name": "python",
   "nbconvert_exporter": "python",
   "pygments_lexer": "ipython3",
   "version": "3.9.6"
  }
 },
 "nbformat": 4,
 "nbformat_minor": 5
}
